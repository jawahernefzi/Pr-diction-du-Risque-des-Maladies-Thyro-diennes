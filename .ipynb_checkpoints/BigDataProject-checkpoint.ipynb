{
 "cells": [
  {
   "cell_type": "code",
   "execution_count": 1,
   "id": "b0a30c11-8e99-4eb2-ae84-a4829380579c",
   "metadata": {},
   "outputs": [
    {
     "name": "stdout",
     "output_type": "stream",
     "text": [
      "Collecting elasticsearch\n",
      "  Obtaining dependency information for elasticsearch from https://files.pythonhosted.org/packages/87/f4/5418be6b502e0260f8ee1c7eccf471ac8c01eea9bac8930d9931b7da7f1c/elasticsearch-8.16.0-py3-none-any.whl.metadata\n",
      "  Using cached elasticsearch-8.16.0-py3-none-any.whl.metadata (8.8 kB)\n",
      "Collecting elastic-transport<9,>=8.15.1 (from elasticsearch)\n",
      "  Obtaining dependency information for elastic-transport<9,>=8.15.1 from https://files.pythonhosted.org/packages/b1/20/864177d7ecbc98633ead4d8e12200ec1c7c7a0c8d45080ac636e043db1c7/elastic_transport-8.15.1-py3-none-any.whl.metadata\n",
      "  Using cached elastic_transport-8.15.1-py3-none-any.whl.metadata (3.7 kB)\n",
      "Requirement already satisfied: urllib3<3,>=1.26.2 in c:\\users\\jawaher\\pycharmprojects\\projectbigdata\\venv\\lib\\site-packages (from elastic-transport<9,>=8.15.1->elasticsearch) (2.2.3)\n",
      "Requirement already satisfied: certifi in c:\\users\\jawaher\\pycharmprojects\\projectbigdata\\venv\\lib\\site-packages (from elastic-transport<9,>=8.15.1->elasticsearch) (2024.8.30)\n",
      "Using cached elasticsearch-8.16.0-py3-none-any.whl (543 kB)\n",
      "Using cached elastic_transport-8.15.1-py3-none-any.whl (64 kB)\n",
      "Installing collected packages: elastic-transport, elasticsearch\n",
      "Successfully installed elastic-transport-8.15.1 elasticsearch-8.16.0\n",
      "Note: you may need to restart the kernel to use updated packages.\n"
     ]
    },
    {
     "name": "stderr",
     "output_type": "stream",
     "text": [
      "\n",
      "[notice] A new release of pip is available: 23.2.1 -> 24.3.1\n",
      "[notice] To update, run: python.exe -m pip install --upgrade pip\n"
     ]
    }
   ],
   "source": [
    "pip install elasticsearch"
   ]
  },
  {
   "cell_type": "code",
   "execution_count": 2,
   "id": "2cc15721-2af5-4957-b7f0-74602421af82",
   "metadata": {},
   "outputs": [
    {
     "ename": "ModuleNotFoundError",
     "evalue": "No module named 'pandas'",
     "output_type": "error",
     "traceback": [
      "\u001b[1;31m---------------------------------------------------------------------------\u001b[0m",
      "\u001b[1;31mModuleNotFoundError\u001b[0m                       Traceback (most recent call last)",
      "Cell \u001b[1;32mIn[2], line 1\u001b[0m\n\u001b[1;32m----> 1\u001b[0m \u001b[38;5;28;01mimport\u001b[39;00m \u001b[38;5;21;01mpandas\u001b[39;00m \u001b[38;5;28;01mas\u001b[39;00m \u001b[38;5;21;01mpd\u001b[39;00m\n\u001b[0;32m      3\u001b[0m \u001b[38;5;66;03m# Charger le fichier CSV\u001b[39;00m\n\u001b[0;32m      4\u001b[0m file_path \u001b[38;5;241m=\u001b[39m \u001b[38;5;124mr\u001b[39m\u001b[38;5;124m'\u001b[39m\u001b[38;5;124mC:\u001b[39m\u001b[38;5;124m\\\u001b[39m\u001b[38;5;124mThyroid_Diff.csv\u001b[39m\u001b[38;5;124m'\u001b[39m  \u001b[38;5;66;03m# Mets le chemin de ton fichier CSV\u001b[39;00m\n",
      "\u001b[1;31mModuleNotFoundError\u001b[0m: No module named 'pandas'"
     ]
    }
   ],
   "source": [
    "import pandas as pd\n",
    "\n",
    "# Charger le fichier CSV\n",
    "file_path = r'C:\\Thyroid_Diff.csv'  # Mets le chemin de ton fichier CSV\n",
    "thyroid_data = pd.read_csv(file_path)\n",
    "\n",
    "# Afficher un aperçu des données\n",
    "print(thyroid_data.head())\n"
   ]
  },
  {
   "cell_type": "code",
   "execution_count": 3,
   "id": "aa604c40-e1e2-4b54-859d-760757617640",
   "metadata": {},
   "outputs": [
    {
     "name": "stdout",
     "output_type": "stream",
     "text": [
      "Collecting pandas\n",
      "  Obtaining dependency information for pandas from https://files.pythonhosted.org/packages/2f/49/5c30646e96c684570925b772eac4eb0a8cb0ca590fa978f56c5d3ae73ea1/pandas-2.2.3-cp39-cp39-win_amd64.whl.metadata\n",
      "  Using cached pandas-2.2.3-cp39-cp39-win_amd64.whl.metadata (19 kB)\n",
      "Collecting numpy>=1.22.4 (from pandas)\n",
      "  Obtaining dependency information for numpy>=1.22.4 from https://files.pythonhosted.org/packages/ea/2b/7fc9f4e7ae5b507c1a3a21f0f15ed03e794c1242ea8a242ac158beb56034/numpy-2.0.2-cp39-cp39-win_amd64.whl.metadata\n",
      "  Using cached numpy-2.0.2-cp39-cp39-win_amd64.whl.metadata (59 kB)\n",
      "Requirement already satisfied: python-dateutil>=2.8.2 in c:\\users\\jawaher\\pycharmprojects\\projectbigdata\\venv\\lib\\site-packages (from pandas) (2.9.0.post0)\n",
      "Collecting pytz>=2020.1 (from pandas)\n",
      "  Obtaining dependency information for pytz>=2020.1 from https://files.pythonhosted.org/packages/11/c3/005fcca25ce078d2cc29fd559379817424e94885510568bc1bc53d7d5846/pytz-2024.2-py2.py3-none-any.whl.metadata\n",
      "  Using cached pytz-2024.2-py2.py3-none-any.whl.metadata (22 kB)\n",
      "Collecting tzdata>=2022.7 (from pandas)\n",
      "  Obtaining dependency information for tzdata>=2022.7 from https://files.pythonhosted.org/packages/a6/ab/7e5f53c3b9d14972843a647d8d7a853969a58aecc7559cb3267302c94774/tzdata-2024.2-py2.py3-none-any.whl.metadata\n",
      "  Using cached tzdata-2024.2-py2.py3-none-any.whl.metadata (1.4 kB)\n",
      "Requirement already satisfied: six>=1.5 in c:\\users\\jawaher\\pycharmprojects\\projectbigdata\\venv\\lib\\site-packages (from python-dateutil>=2.8.2->pandas) (1.16.0)\n",
      "Using cached pandas-2.2.3-cp39-cp39-win_amd64.whl (11.6 MB)\n",
      "Using cached numpy-2.0.2-cp39-cp39-win_amd64.whl (15.9 MB)\n",
      "Using cached pytz-2024.2-py2.py3-none-any.whl (508 kB)\n",
      "Using cached tzdata-2024.2-py2.py3-none-any.whl (346 kB)\n",
      "Installing collected packages: pytz, tzdata, numpy, pandas\n",
      "Successfully installed numpy-2.0.2 pandas-2.2.3 pytz-2024.2 tzdata-2024.2\n",
      "Note: you may need to restart the kernel to use updated packages.\n"
     ]
    },
    {
     "name": "stderr",
     "output_type": "stream",
     "text": [
      "\n",
      "[notice] A new release of pip is available: 23.2.1 -> 24.3.1\n",
      "[notice] To update, run: python.exe -m pip install --upgrade pip\n"
     ]
    }
   ],
   "source": [
    "pip install pandas\n"
   ]
  },
  {
   "cell_type": "code",
   "execution_count": 4,
   "id": "cb4031f3-302f-4aa7-9d66-c9052cad7ca3",
   "metadata": {},
   "outputs": [
    {
     "name": "stdout",
     "output_type": "stream",
     "text": [
      "   Age Gender Smoking Hx Smoking Hx Radiothreapy Thyroid Function  \\\n",
      "0   27      F      No         No              No        Euthyroid   \n",
      "1   34      F      No        Yes              No        Euthyroid   \n",
      "2   30      F      No         No              No        Euthyroid   \n",
      "3   62      F      No         No              No        Euthyroid   \n",
      "4   62      F      No         No              No        Euthyroid   \n",
      "\n",
      "          Physical Examination Adenopathy       Pathology     Focality Risk  \\\n",
      "0   Single nodular goiter-left         No  Micropapillary    Uni-Focal  Low   \n",
      "1          Multinodular goiter         No  Micropapillary    Uni-Focal  Low   \n",
      "2  Single nodular goiter-right         No  Micropapillary    Uni-Focal  Low   \n",
      "3  Single nodular goiter-right         No  Micropapillary    Uni-Focal  Low   \n",
      "4          Multinodular goiter         No  Micropapillary  Multi-Focal  Low   \n",
      "\n",
      "     T   N   M Stage       Response Recurred  \n",
      "0  T1a  N0  M0     I  Indeterminate       No  \n",
      "1  T1a  N0  M0     I      Excellent       No  \n",
      "2  T1a  N0  M0     I      Excellent       No  \n",
      "3  T1a  N0  M0     I      Excellent       No  \n",
      "4  T1a  N0  M0     I      Excellent       No  \n"
     ]
    }
   ],
   "source": [
    "import pandas as pd\n",
    "\n",
    "# Charger le fichier CSV\n",
    "file_path = r'C:\\Thyroid_Diff.csv'  # Mets le chemin de ton fichier CSV\n",
    "thyroid_data = pd.read_csv(file_path)\n",
    "\n",
    "# Afficher un aperçu des données\n",
    "print(thyroid_data.head())\n"
   ]
  },
  {
   "cell_type": "code",
   "execution_count": 5,
   "id": "89d6a64f-0da0-4086-ab9b-3013866b227c",
   "metadata": {},
   "outputs": [
    {
     "name": "stdout",
     "output_type": "stream",
     "text": [
      "Fichier JSON enregistré à l'emplacement : C:\\Convertfichier\\Thyroid_Diff.json\n"
     ]
    }
   ],
   "source": [
    "# Convertir en JSON\n",
    "json_file_path = r'C:\\Convertfichier\\Thyroid_Diff.json'\n",
    "thyroid_data.to_json(json_file_path, orient='records', lines=True)\n",
    "\n",
    "print(f\"Fichier JSON enregistré à l'emplacement : {json_file_path}\")\n"
   ]
  },
  {
   "cell_type": "code",
   "execution_count": 17,
   "id": "476b4a56-18b4-4bed-b421-a884a7e8b3d5",
   "metadata": {},
   "outputs": [
    {
     "name": "stdout",
     "output_type": "stream",
     "text": [
      "Les données ont été indexées dans l'index 'thyroid_risk'.\n"
     ]
    }
   ],
   "source": [
    "import json\n",
    "from elasticsearch import Elasticsearch\n",
    "\n",
    "# Connexion à Elasticsearch\n",
    "es = Elasticsearch(\"http://localhost:9200\")\n",
    "\n",
    "# Chemin du fichier JSON\n",
    "json_file_path = r'C:\\Convertfichier\\Thyroid_Diff.json'\n",
    "\n",
    "# Ouvrir et lire le fichier JSON ligne par ligne\n",
    "with open(json_file_path, 'r') as f:\n",
    "    for line in f:\n",
    "        # Charger chaque ligne en tant que dictionnaire Python\n",
    "        doc = json.loads(line)\n",
    "        \n",
    "        # Indexer chaque document dans Elasticsearch\n",
    "        es.index(index=\"thyroid_risk\", body=doc)\n",
    "\n",
    "print(f\"Les données ont été indexées dans l'index 'thyroid_risk'.\")\n"
   ]
  },
  {
   "cell_type": "code",
   "execution_count": 28,
   "id": "d43b959c-b07d-44ee-a2dd-d5023d276b73",
   "metadata": {},
   "outputs": [
    {
     "name": "stdout",
     "output_type": "stream",
     "text": [
      "{'thyroid_risk': {'mappings': {'properties': {'Adenopathy': {'type': 'text', 'fields': {'keyword': {'type': 'keyword', 'ignore_above': 256}}}, 'Age': {'type': 'long'}, 'Focality': {'type': 'text', 'fields': {'keyword': {'type': 'keyword', 'ignore_above': 256}}}, 'Gender': {'type': 'text', 'fields': {'keyword': {'type': 'keyword', 'ignore_above': 256}}}, 'Hx Radiothreapy': {'type': 'text', 'fields': {'keyword': {'type': 'keyword', 'ignore_above': 256}}}, 'Hx Smoking': {'type': 'text', 'fields': {'keyword': {'type': 'keyword', 'ignore_above': 256}}}, 'M': {'type': 'text', 'fields': {'keyword': {'type': 'keyword', 'ignore_above': 256}}}, 'N': {'type': 'text', 'fields': {'keyword': {'type': 'keyword', 'ignore_above': 256}}}, 'Pathology': {'type': 'text', 'fields': {'keyword': {'type': 'keyword', 'ignore_above': 256}}}, 'Physical Examination': {'type': 'text', 'fields': {'keyword': {'type': 'keyword', 'ignore_above': 256}}}, 'Recurred': {'type': 'text', 'fields': {'keyword': {'type': 'keyword', 'ignore_above': 256}}}, 'Response': {'type': 'text', 'fields': {'keyword': {'type': 'keyword', 'ignore_above': 256}}}, 'Risk': {'type': 'text', 'fields': {'keyword': {'type': 'keyword', 'ignore_above': 256}}}, 'Smoking': {'type': 'text', 'fields': {'keyword': {'type': 'keyword', 'ignore_above': 256}}}, 'Stage': {'type': 'text', 'fields': {'keyword': {'type': 'keyword', 'ignore_above': 256}}}, 'T': {'type': 'text', 'fields': {'keyword': {'type': 'keyword', 'ignore_above': 256}}}, 'Thyroid Function': {'type': 'text', 'fields': {'keyword': {'type': 'keyword', 'ignore_above': 256}}}}}}}\n"
     ]
    }
   ],
   "source": [
    "#Pour vérifier les mappages de votre index\n",
    "mapping = es.indices.get_mapping(index=\"thyroid_risk\")\n",
    "print(mapping)\n"
   ]
  },
  {
   "cell_type": "code",
   "execution_count": 22,
   "id": "b908b5ea-b3b4-4bbd-9da1-ea750bb224b3",
   "metadata": {},
   "outputs": [
    {
     "name": "stdout",
     "output_type": "stream",
     "text": [
      "{'Age': 27, 'Gender': 'F', 'Smoking': 'No', 'Hx Smoking': 'No', 'Hx Radiothreapy': 'No', 'Thyroid Function': 'Euthyroid', 'Physical Examination': 'Single nodular goiter-left', 'Adenopathy': 'No', 'Pathology': 'Micropapillary', 'Focality': 'Uni-Focal', 'Risk': 'Low', 'T': 'T1a', 'N': 'N0', 'M': 'M0', 'Stage': 'I', 'Response': 'Indeterminate', 'Recurred': 'No'}\n",
      "{'Age': 34, 'Gender': 'F', 'Smoking': 'No', 'Hx Smoking': 'Yes', 'Hx Radiothreapy': 'No', 'Thyroid Function': 'Euthyroid', 'Physical Examination': 'Multinodular goiter', 'Adenopathy': 'No', 'Pathology': 'Micropapillary', 'Focality': 'Uni-Focal', 'Risk': 'Low', 'T': 'T1a', 'N': 'N0', 'M': 'M0', 'Stage': 'I', 'Response': 'Excellent', 'Recurred': 'No'}\n",
      "{'Age': 30, 'Gender': 'F', 'Smoking': 'No', 'Hx Smoking': 'No', 'Hx Radiothreapy': 'No', 'Thyroid Function': 'Euthyroid', 'Physical Examination': 'Single nodular goiter-right', 'Adenopathy': 'No', 'Pathology': 'Micropapillary', 'Focality': 'Uni-Focal', 'Risk': 'Low', 'T': 'T1a', 'N': 'N0', 'M': 'M0', 'Stage': 'I', 'Response': 'Excellent', 'Recurred': 'No'}\n",
      "{'Age': 62, 'Gender': 'F', 'Smoking': 'No', 'Hx Smoking': 'No', 'Hx Radiothreapy': 'No', 'Thyroid Function': 'Euthyroid', 'Physical Examination': 'Single nodular goiter-right', 'Adenopathy': 'No', 'Pathology': 'Micropapillary', 'Focality': 'Uni-Focal', 'Risk': 'Low', 'T': 'T1a', 'N': 'N0', 'M': 'M0', 'Stage': 'I', 'Response': 'Excellent', 'Recurred': 'No'}\n",
      "{'Age': 62, 'Gender': 'F', 'Smoking': 'No', 'Hx Smoking': 'No', 'Hx Radiothreapy': 'No', 'Thyroid Function': 'Euthyroid', 'Physical Examination': 'Multinodular goiter', 'Adenopathy': 'No', 'Pathology': 'Micropapillary', 'Focality': 'Multi-Focal', 'Risk': 'Low', 'T': 'T1a', 'N': 'N0', 'M': 'M0', 'Stage': 'I', 'Response': 'Excellent', 'Recurred': 'No'}\n",
      "{'Age': 52, 'Gender': 'M', 'Smoking': 'Yes', 'Hx Smoking': 'No', 'Hx Radiothreapy': 'No', 'Thyroid Function': 'Euthyroid', 'Physical Examination': 'Multinodular goiter', 'Adenopathy': 'No', 'Pathology': 'Micropapillary', 'Focality': 'Multi-Focal', 'Risk': 'Low', 'T': 'T1a', 'N': 'N0', 'M': 'M0', 'Stage': 'I', 'Response': 'Indeterminate', 'Recurred': 'No'}\n",
      "{'Age': 41, 'Gender': 'F', 'Smoking': 'No', 'Hx Smoking': 'Yes', 'Hx Radiothreapy': 'No', 'Thyroid Function': 'Clinical Hyperthyroidism', 'Physical Examination': 'Single nodular goiter-right', 'Adenopathy': 'No', 'Pathology': 'Micropapillary', 'Focality': 'Uni-Focal', 'Risk': 'Low', 'T': 'T1a', 'N': 'N0', 'M': 'M0', 'Stage': 'I', 'Response': 'Excellent', 'Recurred': 'No'}\n",
      "{'Age': 46, 'Gender': 'F', 'Smoking': 'No', 'Hx Smoking': 'No', 'Hx Radiothreapy': 'No', 'Thyroid Function': 'Euthyroid', 'Physical Examination': 'Single nodular goiter-right', 'Adenopathy': 'No', 'Pathology': 'Micropapillary', 'Focality': 'Uni-Focal', 'Risk': 'Low', 'T': 'T1a', 'N': 'N0', 'M': 'M0', 'Stage': 'I', 'Response': 'Excellent', 'Recurred': 'No'}\n",
      "{'Age': 51, 'Gender': 'F', 'Smoking': 'No', 'Hx Smoking': 'No', 'Hx Radiothreapy': 'No', 'Thyroid Function': 'Euthyroid', 'Physical Examination': 'Single nodular goiter-right', 'Adenopathy': 'No', 'Pathology': 'Micropapillary', 'Focality': 'Uni-Focal', 'Risk': 'Low', 'T': 'T1a', 'N': 'N0', 'M': 'M0', 'Stage': 'I', 'Response': 'Excellent', 'Recurred': 'No'}\n",
      "{'Age': 40, 'Gender': 'F', 'Smoking': 'No', 'Hx Smoking': 'No', 'Hx Radiothreapy': 'No', 'Thyroid Function': 'Euthyroid', 'Physical Examination': 'Single nodular goiter-right', 'Adenopathy': 'No', 'Pathology': 'Micropapillary', 'Focality': 'Uni-Focal', 'Risk': 'Low', 'T': 'T1a', 'N': 'N0', 'M': 'M0', 'Stage': 'I', 'Response': 'Excellent', 'Recurred': 'No'}\n"
     ]
    }
   ],
   "source": [
    "# Requête pour récupérer tous les documents de l'index 'thyroid_risk'\n",
    "response = es.search(index=\"thyroid_risk\", body={\n",
    "    \"query\": {\n",
    "        \"match_all\": {}\n",
    "    }\n",
    "})\n",
    "\n",
    "# Afficher les résultats\n",
    "for hit in response['hits']['hits']:\n",
    "    print(hit['_source'])\n"
   ]
  },
  {
   "cell_type": "code",
   "execution_count": 2,
   "id": "510675f9-86d4-4887-86ba-443d4064e379",
   "metadata": {},
   "outputs": [
    {
     "name": "stdout",
     "output_type": "stream",
     "text": [
      "{'Age': 34, 'Gender': 'F', 'Smoking': 'No', 'Hx Smoking': 'Yes', 'Hx Radiothreapy': 'No', 'Thyroid Function': 'Euthyroid', 'Physical Examination': 'Multinodular goiter', 'Adenopathy': 'No', 'Pathology': 'Micropapillary', 'Focality': 'Uni-Focal', 'Risk': 'Low', 'T': 'T1a', 'N': 'N0', 'M': 'M0', 'Stage': 'I', 'Response': 'Excellent', 'Recurred': 'No'}\n",
      "{'Age': 62, 'Gender': 'F', 'Smoking': 'No', 'Hx Smoking': 'No', 'Hx Radiothreapy': 'No', 'Thyroid Function': 'Euthyroid', 'Physical Examination': 'Multinodular goiter', 'Adenopathy': 'No', 'Pathology': 'Micropapillary', 'Focality': 'Multi-Focal', 'Risk': 'Low', 'T': 'T1a', 'N': 'N0', 'M': 'M0', 'Stage': 'I', 'Response': 'Excellent', 'Recurred': 'No'}\n",
      "{'Age': 52, 'Gender': 'M', 'Smoking': 'Yes', 'Hx Smoking': 'No', 'Hx Radiothreapy': 'No', 'Thyroid Function': 'Euthyroid', 'Physical Examination': 'Multinodular goiter', 'Adenopathy': 'No', 'Pathology': 'Micropapillary', 'Focality': 'Multi-Focal', 'Risk': 'Low', 'T': 'T1a', 'N': 'N0', 'M': 'M0', 'Stage': 'I', 'Response': 'Indeterminate', 'Recurred': 'No'}\n",
      "{'Age': 41, 'Gender': 'F', 'Smoking': 'No', 'Hx Smoking': 'Yes', 'Hx Radiothreapy': 'No', 'Thyroid Function': 'Clinical Hyperthyroidism', 'Physical Examination': 'Single nodular goiter-right', 'Adenopathy': 'No', 'Pathology': 'Micropapillary', 'Focality': 'Uni-Focal', 'Risk': 'Low', 'T': 'T1a', 'N': 'N0', 'M': 'M0', 'Stage': 'I', 'Response': 'Excellent', 'Recurred': 'No'}\n",
      "{'Age': 46, 'Gender': 'F', 'Smoking': 'No', 'Hx Smoking': 'No', 'Hx Radiothreapy': 'No', 'Thyroid Function': 'Euthyroid', 'Physical Examination': 'Single nodular goiter-right', 'Adenopathy': 'No', 'Pathology': 'Micropapillary', 'Focality': 'Uni-Focal', 'Risk': 'Low', 'T': 'T1a', 'N': 'N0', 'M': 'M0', 'Stage': 'I', 'Response': 'Excellent', 'Recurred': 'No'}\n",
      "{'Age': 51, 'Gender': 'F', 'Smoking': 'No', 'Hx Smoking': 'No', 'Hx Radiothreapy': 'No', 'Thyroid Function': 'Euthyroid', 'Physical Examination': 'Single nodular goiter-right', 'Adenopathy': 'No', 'Pathology': 'Micropapillary', 'Focality': 'Uni-Focal', 'Risk': 'Low', 'T': 'T1a', 'N': 'N0', 'M': 'M0', 'Stage': 'I', 'Response': 'Excellent', 'Recurred': 'No'}\n",
      "{'Age': 40, 'Gender': 'F', 'Smoking': 'No', 'Hx Smoking': 'No', 'Hx Radiothreapy': 'No', 'Thyroid Function': 'Euthyroid', 'Physical Examination': 'Single nodular goiter-right', 'Adenopathy': 'No', 'Pathology': 'Micropapillary', 'Focality': 'Uni-Focal', 'Risk': 'Low', 'T': 'T1a', 'N': 'N0', 'M': 'M0', 'Stage': 'I', 'Response': 'Excellent', 'Recurred': 'No'}\n",
      "{'Age': 75, 'Gender': 'F', 'Smoking': 'No', 'Hx Smoking': 'No', 'Hx Radiothreapy': 'No', 'Thyroid Function': 'Euthyroid', 'Physical Examination': 'Single nodular goiter-right', 'Adenopathy': 'No', 'Pathology': 'Micropapillary', 'Focality': 'Uni-Focal', 'Risk': 'Low', 'T': 'T1a', 'N': 'N0', 'M': 'M0', 'Stage': 'I', 'Response': 'Excellent', 'Recurred': 'No'}\n",
      "{'Age': 59, 'Gender': 'F', 'Smoking': 'No', 'Hx Smoking': 'No', 'Hx Radiothreapy': 'No', 'Thyroid Function': 'Euthyroid', 'Physical Examination': 'Single nodular goiter-left', 'Adenopathy': 'No', 'Pathology': 'Micropapillary', 'Focality': 'Uni-Focal', 'Risk': 'Low', 'T': 'T1a', 'N': 'N0', 'M': 'M0', 'Stage': 'I', 'Response': 'Excellent', 'Recurred': 'No'}\n",
      "{'Age': 49, 'Gender': 'F', 'Smoking': 'No', 'Hx Smoking': 'No', 'Hx Radiothreapy': 'No', 'Thyroid Function': 'Euthyroid', 'Physical Examination': 'Multinodular goiter', 'Adenopathy': 'No', 'Pathology': 'Micropapillary', 'Focality': 'Uni-Focal', 'Risk': 'Low', 'T': 'T1a', 'N': 'N0', 'M': 'M0', 'Stage': 'I', 'Response': 'Excellent', 'Recurred': 'No'}\n"
     ]
    }
   ],
   "source": [
    "import requests\n",
    "import json\n",
    "\n",
    "# URL de l'endpoint Elasticsearch\n",
    "url = \"http://localhost:9200/thyroid_risk/_search\"\n",
    "\n",
    "# Corps de la requête\n",
    "query = {\n",
    "    \"query\": {\n",
    "        \"bool\": {\n",
    "            \"must\": [\n",
    "                {\"term\": {\"Risk.keyword\": \"Low\"}},\n",
    "                {\"term\": {\"Stage.keyword\": \"I\"}}\n",
    "            ]\n",
    "        }\n",
    "    }\n",
    "}\n",
    "\n",
    "# Envoi de la requête POST\n",
    "response = requests.post(url, headers={\"Content-Type\": \"application/json\"}, data=json.dumps(query))\n",
    "\n",
    "# Affichage des résultats\n",
    "if response.status_code == 200:\n",
    "    hits = response.json()[\"hits\"][\"hits\"]\n",
    "    for hit in hits:\n",
    "        print(hit[\"_source\"])\n",
    "else:\n",
    "    print(f\"Erreur: {response.status_code}, {response.text}\")\n"
   ]
  },
  {
   "cell_type": "code",
   "execution_count": 24,
   "id": "313d4e0e-d036-45a2-9a46-88405b804291",
   "metadata": {},
   "outputs": [
    {
     "name": "stdout",
     "output_type": "stream",
     "text": [
      "{'Age': 27, 'Gender': 'F', 'Smoking': 'No', 'Hx Smoking': 'No', 'Hx Radiothreapy': 'No', 'Thyroid Function': 'Euthyroid', 'Physical Examination': 'Single nodular goiter-left', 'Adenopathy': 'No', 'Pathology': 'Micropapillary', 'Focality': 'Uni-Focal', 'Risk': 'Low', 'T': 'T1a', 'N': 'N0', 'M': 'M0', 'Stage': 'I', 'Response': 'Indeterminate', 'Recurred': 'No'}\n",
      "{'Age': 34, 'Gender': 'F', 'Smoking': 'No', 'Hx Smoking': 'Yes', 'Hx Radiothreapy': 'No', 'Thyroid Function': 'Euthyroid', 'Physical Examination': 'Multinodular goiter', 'Adenopathy': 'No', 'Pathology': 'Micropapillary', 'Focality': 'Uni-Focal', 'Risk': 'Low', 'T': 'T1a', 'N': 'N0', 'M': 'M0', 'Stage': 'I', 'Response': 'Excellent', 'Recurred': 'No'}\n",
      "{'Age': 30, 'Gender': 'F', 'Smoking': 'No', 'Hx Smoking': 'No', 'Hx Radiothreapy': 'No', 'Thyroid Function': 'Euthyroid', 'Physical Examination': 'Single nodular goiter-right', 'Adenopathy': 'No', 'Pathology': 'Micropapillary', 'Focality': 'Uni-Focal', 'Risk': 'Low', 'T': 'T1a', 'N': 'N0', 'M': 'M0', 'Stage': 'I', 'Response': 'Excellent', 'Recurred': 'No'}\n",
      "{'Age': 62, 'Gender': 'F', 'Smoking': 'No', 'Hx Smoking': 'No', 'Hx Radiothreapy': 'No', 'Thyroid Function': 'Euthyroid', 'Physical Examination': 'Single nodular goiter-right', 'Adenopathy': 'No', 'Pathology': 'Micropapillary', 'Focality': 'Uni-Focal', 'Risk': 'Low', 'T': 'T1a', 'N': 'N0', 'M': 'M0', 'Stage': 'I', 'Response': 'Excellent', 'Recurred': 'No'}\n",
      "{'Age': 62, 'Gender': 'F', 'Smoking': 'No', 'Hx Smoking': 'No', 'Hx Radiothreapy': 'No', 'Thyroid Function': 'Euthyroid', 'Physical Examination': 'Multinodular goiter', 'Adenopathy': 'No', 'Pathology': 'Micropapillary', 'Focality': 'Multi-Focal', 'Risk': 'Low', 'T': 'T1a', 'N': 'N0', 'M': 'M0', 'Stage': 'I', 'Response': 'Excellent', 'Recurred': 'No'}\n"
     ]
    }
   ],
   "source": [
    "# Requête pour récupérer tous les documents de l'index 'thyroid_risk'\n",
    "response = es.search(index=\"thyroid_risk\", body={\n",
    "    \"query\": {\n",
    "        \"match_all\": {}\n",
    "    },\n",
    "    \"size\": 5  # Limite à 5 résultats pour vérifier\n",
    "})\n",
    "\n",
    "# Afficher les résultats\n",
    "for hit in response['hits']['hits']:\n",
    "    print(hit['_source'])\n"
   ]
  },
  {
   "cell_type": "code",
   "execution_count": 3,
   "id": "5e47f8fc-43f6-498d-adb6-df2a9f9088b9",
   "metadata": {},
   "outputs": [
    {
     "name": "stdout",
     "output_type": "stream",
     "text": [
      "{'Age': 34, 'Gender': 'F', 'Smoking': 'No', 'Hx Smoking': 'Yes', 'Hx Radiothreapy': 'No', 'Thyroid Function': 'Euthyroid', 'Physical Examination': 'Multinodular goiter', 'Adenopathy': 'No', 'Pathology': 'Micropapillary', 'Focality': 'Uni-Focal', 'Risk': 'Low', 'T': 'T1a', 'N': 'N0', 'M': 'M0', 'Stage': 'I', 'Response': 'Excellent', 'Recurred': 'No'}\n",
      "{'Age': 62, 'Gender': 'F', 'Smoking': 'No', 'Hx Smoking': 'No', 'Hx Radiothreapy': 'No', 'Thyroid Function': 'Euthyroid', 'Physical Examination': 'Multinodular goiter', 'Adenopathy': 'No', 'Pathology': 'Micropapillary', 'Focality': 'Multi-Focal', 'Risk': 'Low', 'T': 'T1a', 'N': 'N0', 'M': 'M0', 'Stage': 'I', 'Response': 'Excellent', 'Recurred': 'No'}\n",
      "{'Age': 52, 'Gender': 'M', 'Smoking': 'Yes', 'Hx Smoking': 'No', 'Hx Radiothreapy': 'No', 'Thyroid Function': 'Euthyroid', 'Physical Examination': 'Multinodular goiter', 'Adenopathy': 'No', 'Pathology': 'Micropapillary', 'Focality': 'Multi-Focal', 'Risk': 'Low', 'T': 'T1a', 'N': 'N0', 'M': 'M0', 'Stage': 'I', 'Response': 'Indeterminate', 'Recurred': 'No'}\n",
      "{'Age': 41, 'Gender': 'F', 'Smoking': 'No', 'Hx Smoking': 'Yes', 'Hx Radiothreapy': 'No', 'Thyroid Function': 'Clinical Hyperthyroidism', 'Physical Examination': 'Single nodular goiter-right', 'Adenopathy': 'No', 'Pathology': 'Micropapillary', 'Focality': 'Uni-Focal', 'Risk': 'Low', 'T': 'T1a', 'N': 'N0', 'M': 'M0', 'Stage': 'I', 'Response': 'Excellent', 'Recurred': 'No'}\n",
      "{'Age': 46, 'Gender': 'F', 'Smoking': 'No', 'Hx Smoking': 'No', 'Hx Radiothreapy': 'No', 'Thyroid Function': 'Euthyroid', 'Physical Examination': 'Single nodular goiter-right', 'Adenopathy': 'No', 'Pathology': 'Micropapillary', 'Focality': 'Uni-Focal', 'Risk': 'Low', 'T': 'T1a', 'N': 'N0', 'M': 'M0', 'Stage': 'I', 'Response': 'Excellent', 'Recurred': 'No'}\n",
      "{'Age': 51, 'Gender': 'F', 'Smoking': 'No', 'Hx Smoking': 'No', 'Hx Radiothreapy': 'No', 'Thyroid Function': 'Euthyroid', 'Physical Examination': 'Single nodular goiter-right', 'Adenopathy': 'No', 'Pathology': 'Micropapillary', 'Focality': 'Uni-Focal', 'Risk': 'Low', 'T': 'T1a', 'N': 'N0', 'M': 'M0', 'Stage': 'I', 'Response': 'Excellent', 'Recurred': 'No'}\n",
      "{'Age': 40, 'Gender': 'F', 'Smoking': 'No', 'Hx Smoking': 'No', 'Hx Radiothreapy': 'No', 'Thyroid Function': 'Euthyroid', 'Physical Examination': 'Single nodular goiter-right', 'Adenopathy': 'No', 'Pathology': 'Micropapillary', 'Focality': 'Uni-Focal', 'Risk': 'Low', 'T': 'T1a', 'N': 'N0', 'M': 'M0', 'Stage': 'I', 'Response': 'Excellent', 'Recurred': 'No'}\n",
      "{'Age': 75, 'Gender': 'F', 'Smoking': 'No', 'Hx Smoking': 'No', 'Hx Radiothreapy': 'No', 'Thyroid Function': 'Euthyroid', 'Physical Examination': 'Single nodular goiter-right', 'Adenopathy': 'No', 'Pathology': 'Micropapillary', 'Focality': 'Uni-Focal', 'Risk': 'Low', 'T': 'T1a', 'N': 'N0', 'M': 'M0', 'Stage': 'I', 'Response': 'Excellent', 'Recurred': 'No'}\n",
      "{'Age': 59, 'Gender': 'F', 'Smoking': 'No', 'Hx Smoking': 'No', 'Hx Radiothreapy': 'No', 'Thyroid Function': 'Euthyroid', 'Physical Examination': 'Single nodular goiter-left', 'Adenopathy': 'No', 'Pathology': 'Micropapillary', 'Focality': 'Uni-Focal', 'Risk': 'Low', 'T': 'T1a', 'N': 'N0', 'M': 'M0', 'Stage': 'I', 'Response': 'Excellent', 'Recurred': 'No'}\n",
      "{'Age': 49, 'Gender': 'F', 'Smoking': 'No', 'Hx Smoking': 'No', 'Hx Radiothreapy': 'No', 'Thyroid Function': 'Euthyroid', 'Physical Examination': 'Multinodular goiter', 'Adenopathy': 'No', 'Pathology': 'Micropapillary', 'Focality': 'Uni-Focal', 'Risk': 'Low', 'T': 'T1a', 'N': 'N0', 'M': 'M0', 'Stage': 'I', 'Response': 'Excellent', 'Recurred': 'No'}\n"
     ]
    }
   ],
   "source": [
    "import requests\n",
    "import json\n",
    "\n",
    "# URL de l'endpoint Elasticsearch\n",
    "url = \"http://localhost:9200/thyroid_risk/_search\"\n",
    "\n",
    "# Corps de la requête\n",
    "query = {\n",
    "    \"query\": {\n",
    "        \"bool\": {\n",
    "            \"must\": [\n",
    "                {\"term\": {\"Risk.keyword\": \"Low\"}},\n",
    "                {\"term\": {\"Stage.keyword\": \"I\"}}\n",
    "            ]\n",
    "        }\n",
    "    }\n",
    "}\n",
    "\n",
    "# Envoi de la requête POST\n",
    "response = requests.post(url, headers={\"Content-Type\": \"application/json\"}, data=json.dumps(query))\n",
    "\n",
    "# Affichage des résultats\n",
    "if response.status_code == 200:\n",
    "    hits = response.json()[\"hits\"][\"hits\"]\n",
    "    for hit in hits:\n",
    "        print(hit[\"_source\"])\n",
    "else:\n",
    "    print(f\"Erreur: {response.status_code}, {response.text}\")"
   ]
  },
  {
   "cell_type": "code",
   "execution_count": 6,
   "id": "8d4696b7-6d09-4d06-94d4-028256747ca3",
   "metadata": {},
   "outputs": [
    {
     "name": "stdout",
     "output_type": "stream",
     "text": [
      "{'Age': 34, 'Gender': 'F', 'Smoking': 'No', 'Hx Smoking': 'Yes', 'Hx Radiothreapy': 'No', 'Thyroid Function': 'Euthyroid', 'Physical Examination': 'Multinodular goiter', 'Adenopathy': 'No', 'Pathology': 'Micropapillary', 'Focality': 'Uni-Focal', 'Risk': 'Low', 'T': 'T1a', 'N': 'N0', 'M': 'M0', 'Stage': 'I', 'Response': 'Excellent', 'Recurred': 'No'}\n",
      "{'Age': 62, 'Gender': 'F', 'Smoking': 'No', 'Hx Smoking': 'No', 'Hx Radiothreapy': 'No', 'Thyroid Function': 'Euthyroid', 'Physical Examination': 'Multinodular goiter', 'Adenopathy': 'No', 'Pathology': 'Micropapillary', 'Focality': 'Multi-Focal', 'Risk': 'Low', 'T': 'T1a', 'N': 'N0', 'M': 'M0', 'Stage': 'I', 'Response': 'Excellent', 'Recurred': 'No'}\n",
      "{'Age': 52, 'Gender': 'M', 'Smoking': 'Yes', 'Hx Smoking': 'No', 'Hx Radiothreapy': 'No', 'Thyroid Function': 'Euthyroid', 'Physical Examination': 'Multinodular goiter', 'Adenopathy': 'No', 'Pathology': 'Micropapillary', 'Focality': 'Multi-Focal', 'Risk': 'Low', 'T': 'T1a', 'N': 'N0', 'M': 'M0', 'Stage': 'I', 'Response': 'Indeterminate', 'Recurred': 'No'}\n",
      "{'Age': 41, 'Gender': 'F', 'Smoking': 'No', 'Hx Smoking': 'Yes', 'Hx Radiothreapy': 'No', 'Thyroid Function': 'Clinical Hyperthyroidism', 'Physical Examination': 'Single nodular goiter-right', 'Adenopathy': 'No', 'Pathology': 'Micropapillary', 'Focality': 'Uni-Focal', 'Risk': 'Low', 'T': 'T1a', 'N': 'N0', 'M': 'M0', 'Stage': 'I', 'Response': 'Excellent', 'Recurred': 'No'}\n",
      "{'Age': 46, 'Gender': 'F', 'Smoking': 'No', 'Hx Smoking': 'No', 'Hx Radiothreapy': 'No', 'Thyroid Function': 'Euthyroid', 'Physical Examination': 'Single nodular goiter-right', 'Adenopathy': 'No', 'Pathology': 'Micropapillary', 'Focality': 'Uni-Focal', 'Risk': 'Low', 'T': 'T1a', 'N': 'N0', 'M': 'M0', 'Stage': 'I', 'Response': 'Excellent', 'Recurred': 'No'}\n",
      "{'Age': 51, 'Gender': 'F', 'Smoking': 'No', 'Hx Smoking': 'No', 'Hx Radiothreapy': 'No', 'Thyroid Function': 'Euthyroid', 'Physical Examination': 'Single nodular goiter-right', 'Adenopathy': 'No', 'Pathology': 'Micropapillary', 'Focality': 'Uni-Focal', 'Risk': 'Low', 'T': 'T1a', 'N': 'N0', 'M': 'M0', 'Stage': 'I', 'Response': 'Excellent', 'Recurred': 'No'}\n",
      "{'Age': 40, 'Gender': 'F', 'Smoking': 'No', 'Hx Smoking': 'No', 'Hx Radiothreapy': 'No', 'Thyroid Function': 'Euthyroid', 'Physical Examination': 'Single nodular goiter-right', 'Adenopathy': 'No', 'Pathology': 'Micropapillary', 'Focality': 'Uni-Focal', 'Risk': 'Low', 'T': 'T1a', 'N': 'N0', 'M': 'M0', 'Stage': 'I', 'Response': 'Excellent', 'Recurred': 'No'}\n",
      "{'Age': 75, 'Gender': 'F', 'Smoking': 'No', 'Hx Smoking': 'No', 'Hx Radiothreapy': 'No', 'Thyroid Function': 'Euthyroid', 'Physical Examination': 'Single nodular goiter-right', 'Adenopathy': 'No', 'Pathology': 'Micropapillary', 'Focality': 'Uni-Focal', 'Risk': 'Low', 'T': 'T1a', 'N': 'N0', 'M': 'M0', 'Stage': 'I', 'Response': 'Excellent', 'Recurred': 'No'}\n",
      "{'Age': 59, 'Gender': 'F', 'Smoking': 'No', 'Hx Smoking': 'No', 'Hx Radiothreapy': 'No', 'Thyroid Function': 'Euthyroid', 'Physical Examination': 'Single nodular goiter-left', 'Adenopathy': 'No', 'Pathology': 'Micropapillary', 'Focality': 'Uni-Focal', 'Risk': 'Low', 'T': 'T1a', 'N': 'N0', 'M': 'M0', 'Stage': 'I', 'Response': 'Excellent', 'Recurred': 'No'}\n",
      "{'Age': 49, 'Gender': 'F', 'Smoking': 'No', 'Hx Smoking': 'No', 'Hx Radiothreapy': 'No', 'Thyroid Function': 'Euthyroid', 'Physical Examination': 'Multinodular goiter', 'Adenopathy': 'No', 'Pathology': 'Micropapillary', 'Focality': 'Uni-Focal', 'Risk': 'Low', 'T': 'T1a', 'N': 'N0', 'M': 'M0', 'Stage': 'I', 'Response': 'Excellent', 'Recurred': 'No'}\n"
     ]
    }
   ],
   "source": [
    "import requests\n",
    "import json\n",
    "\n",
    "# URL de l'endpoint Elasticsearch\n",
    "url = \"http://localhost:9200/thyroid_risk/_search\"\n",
    "\n",
    "# Corps de la requête\n",
    "query = {\n",
    "    \"query\": {\n",
    "        \"bool\": {\n",
    "            \"must\": [\n",
    "                {\"term\": {\"Risk.keyword\": \"Low\"}},\n",
    "                {\"term\": {\"Stage.keyword\": \"I\"}}\n",
    "            ]\n",
    "        }\n",
    "    }\n",
    "}\n",
    "\n",
    "# Envoi de la requête POST\n",
    "response = requests.post(url, headers={\"Content-Type\": \"application/json\"}, data=json.dumps(query))\n",
    "\n",
    "# Affichage des résultats\n",
    "if response.status_code == 200:\n",
    "    hits = response.json()[\"hits\"][\"hits\"]\n",
    "    for hit in hits:\n",
    "        print(hit[\"_source\"])\n",
    "else:\n",
    "    print(f\"Erreur: {response.status_code}, {response.text}\")"
   ]
  },
  {
   "cell_type": "code",
   "execution_count": 5,
   "id": "83dfc6e0-7d8f-4f16-a331-e69a8f82e741",
   "metadata": {},
   "outputs": [
    {
     "name": "stdout",
     "output_type": "stream",
     "text": [
      "{'Age': 34, 'Gender': 'F', 'Smoking': 'No', 'Hx Smoking': 'Yes', 'Hx Radiothreapy': 'No', 'Thyroid Function': 'Euthyroid', 'Physical Examination': 'Multinodular goiter', 'Adenopathy': 'No', 'Pathology': 'Micropapillary', 'Focality': 'Uni-Focal', 'Risk': 'Low', 'T': 'T1a', 'N': 'N0', 'M': 'M0', 'Stage': 'I', 'Response': 'Excellent', 'Recurred': 'No'}\n",
      "{'Age': 62, 'Gender': 'F', 'Smoking': 'No', 'Hx Smoking': 'No', 'Hx Radiothreapy': 'No', 'Thyroid Function': 'Euthyroid', 'Physical Examination': 'Multinodular goiter', 'Adenopathy': 'No', 'Pathology': 'Micropapillary', 'Focality': 'Multi-Focal', 'Risk': 'Low', 'T': 'T1a', 'N': 'N0', 'M': 'M0', 'Stage': 'I', 'Response': 'Excellent', 'Recurred': 'No'}\n",
      "{'Age': 52, 'Gender': 'M', 'Smoking': 'Yes', 'Hx Smoking': 'No', 'Hx Radiothreapy': 'No', 'Thyroid Function': 'Euthyroid', 'Physical Examination': 'Multinodular goiter', 'Adenopathy': 'No', 'Pathology': 'Micropapillary', 'Focality': 'Multi-Focal', 'Risk': 'Low', 'T': 'T1a', 'N': 'N0', 'M': 'M0', 'Stage': 'I', 'Response': 'Indeterminate', 'Recurred': 'No'}\n",
      "{'Age': 41, 'Gender': 'F', 'Smoking': 'No', 'Hx Smoking': 'Yes', 'Hx Radiothreapy': 'No', 'Thyroid Function': 'Clinical Hyperthyroidism', 'Physical Examination': 'Single nodular goiter-right', 'Adenopathy': 'No', 'Pathology': 'Micropapillary', 'Focality': 'Uni-Focal', 'Risk': 'Low', 'T': 'T1a', 'N': 'N0', 'M': 'M0', 'Stage': 'I', 'Response': 'Excellent', 'Recurred': 'No'}\n",
      "{'Age': 46, 'Gender': 'F', 'Smoking': 'No', 'Hx Smoking': 'No', 'Hx Radiothreapy': 'No', 'Thyroid Function': 'Euthyroid', 'Physical Examination': 'Single nodular goiter-right', 'Adenopathy': 'No', 'Pathology': 'Micropapillary', 'Focality': 'Uni-Focal', 'Risk': 'Low', 'T': 'T1a', 'N': 'N0', 'M': 'M0', 'Stage': 'I', 'Response': 'Excellent', 'Recurred': 'No'}\n"
     ]
    }
   ],
   "source": [
    "import requests\n",
    "import json\n",
    "\n",
    "# Définir l'URL de l'API Elasticsearch\n",
    "url = \"http://localhost:9200/thyroid_risk/_search\"\n",
    "\n",
    "# Définir les données de la requête\n",
    "query = {\n",
    "    \"query\": {\n",
    "        \"match_all\": {}\n",
    "    },\n",
    "    \"size\": 5\n",
    "}\n",
    "\n",
    "# Effectuer la requête HTTP POST\n",
    "response = requests.post(url, json=query)\n",
    "\n",
    "# Convertir la réponse en JSON\n",
    "response_json = response.json()\n",
    "\n",
    "# Afficher les résultats\n",
    "for hit in response_json['hits']['hits']:\n",
    "    print(hit['_source'])\n"
   ]
  },
  {
   "cell_type": "code",
   "execution_count": 25,
   "id": "38601783-ba2d-42e6-95e3-7bc2fa7970b3",
   "metadata": {},
   "outputs": [
    {
     "name": "stdout",
     "output_type": "stream",
     "text": [
      "{'Age': 27, 'Gender': 'F', 'Smoking': 'No', 'Hx Smoking': 'No', 'Hx Radiothreapy': 'No', 'Thyroid Function': 'Euthyroid', 'Physical Examination': 'Single nodular goiter-left', 'Adenopathy': 'No', 'Pathology': 'Micropapillary', 'Focality': 'Uni-Focal', 'Risk': 'Low', 'T': 'T1a', 'N': 'N0', 'M': 'M0', 'Stage': 'I', 'Response': 'Indeterminate', 'Recurred': 'No'}\n",
      "{'Age': 34, 'Gender': 'F', 'Smoking': 'No', 'Hx Smoking': 'Yes', 'Hx Radiothreapy': 'No', 'Thyroid Function': 'Euthyroid', 'Physical Examination': 'Multinodular goiter', 'Adenopathy': 'No', 'Pathology': 'Micropapillary', 'Focality': 'Uni-Focal', 'Risk': 'Low', 'T': 'T1a', 'N': 'N0', 'M': 'M0', 'Stage': 'I', 'Response': 'Excellent', 'Recurred': 'No'}\n",
      "{'Age': 30, 'Gender': 'F', 'Smoking': 'No', 'Hx Smoking': 'No', 'Hx Radiothreapy': 'No', 'Thyroid Function': 'Euthyroid', 'Physical Examination': 'Single nodular goiter-right', 'Adenopathy': 'No', 'Pathology': 'Micropapillary', 'Focality': 'Uni-Focal', 'Risk': 'Low', 'T': 'T1a', 'N': 'N0', 'M': 'M0', 'Stage': 'I', 'Response': 'Excellent', 'Recurred': 'No'}\n",
      "{'Age': 62, 'Gender': 'F', 'Smoking': 'No', 'Hx Smoking': 'No', 'Hx Radiothreapy': 'No', 'Thyroid Function': 'Euthyroid', 'Physical Examination': 'Single nodular goiter-right', 'Adenopathy': 'No', 'Pathology': 'Micropapillary', 'Focality': 'Uni-Focal', 'Risk': 'Low', 'T': 'T1a', 'N': 'N0', 'M': 'M0', 'Stage': 'I', 'Response': 'Excellent', 'Recurred': 'No'}\n",
      "{'Age': 62, 'Gender': 'F', 'Smoking': 'No', 'Hx Smoking': 'No', 'Hx Radiothreapy': 'No', 'Thyroid Function': 'Euthyroid', 'Physical Examination': 'Multinodular goiter', 'Adenopathy': 'No', 'Pathology': 'Micropapillary', 'Focality': 'Multi-Focal', 'Risk': 'Low', 'T': 'T1a', 'N': 'N0', 'M': 'M0', 'Stage': 'I', 'Response': 'Excellent', 'Recurred': 'No'}\n",
      "{'Age': 52, 'Gender': 'M', 'Smoking': 'Yes', 'Hx Smoking': 'No', 'Hx Radiothreapy': 'No', 'Thyroid Function': 'Euthyroid', 'Physical Examination': 'Multinodular goiter', 'Adenopathy': 'No', 'Pathology': 'Micropapillary', 'Focality': 'Multi-Focal', 'Risk': 'Low', 'T': 'T1a', 'N': 'N0', 'M': 'M0', 'Stage': 'I', 'Response': 'Indeterminate', 'Recurred': 'No'}\n",
      "{'Age': 41, 'Gender': 'F', 'Smoking': 'No', 'Hx Smoking': 'Yes', 'Hx Radiothreapy': 'No', 'Thyroid Function': 'Clinical Hyperthyroidism', 'Physical Examination': 'Single nodular goiter-right', 'Adenopathy': 'No', 'Pathology': 'Micropapillary', 'Focality': 'Uni-Focal', 'Risk': 'Low', 'T': 'T1a', 'N': 'N0', 'M': 'M0', 'Stage': 'I', 'Response': 'Excellent', 'Recurred': 'No'}\n",
      "{'Age': 46, 'Gender': 'F', 'Smoking': 'No', 'Hx Smoking': 'No', 'Hx Radiothreapy': 'No', 'Thyroid Function': 'Euthyroid', 'Physical Examination': 'Single nodular goiter-right', 'Adenopathy': 'No', 'Pathology': 'Micropapillary', 'Focality': 'Uni-Focal', 'Risk': 'Low', 'T': 'T1a', 'N': 'N0', 'M': 'M0', 'Stage': 'I', 'Response': 'Excellent', 'Recurred': 'No'}\n",
      "{'Age': 51, 'Gender': 'F', 'Smoking': 'No', 'Hx Smoking': 'No', 'Hx Radiothreapy': 'No', 'Thyroid Function': 'Euthyroid', 'Physical Examination': 'Single nodular goiter-right', 'Adenopathy': 'No', 'Pathology': 'Micropapillary', 'Focality': 'Uni-Focal', 'Risk': 'Low', 'T': 'T1a', 'N': 'N0', 'M': 'M0', 'Stage': 'I', 'Response': 'Excellent', 'Recurred': 'No'}\n",
      "{'Age': 40, 'Gender': 'F', 'Smoking': 'No', 'Hx Smoking': 'No', 'Hx Radiothreapy': 'No', 'Thyroid Function': 'Euthyroid', 'Physical Examination': 'Single nodular goiter-right', 'Adenopathy': 'No', 'Pathology': 'Micropapillary', 'Focality': 'Uni-Focal', 'Risk': 'Low', 'T': 'T1a', 'N': 'N0', 'M': 'M0', 'Stage': 'I', 'Response': 'Excellent', 'Recurred': 'No'}\n"
     ]
    }
   ],
   "source": [
    "response = es.search(index=\"thyroid_risk\", body={\n",
    "    \"query\": {\n",
    "        \"match\": {\n",
    "            \"Risk\": \"Low\"\n",
    "        }\n",
    "    }\n",
    "})\n",
    "\n",
    "# Afficher les résultats\n",
    "for hit in response['hits']['hits']:\n",
    "    print(hit['_source'])\n"
   ]
  },
  {
   "cell_type": "code",
   "execution_count": 27,
   "id": "bdc3d5f0-715a-472c-916f-b9e2c9afdd5e",
   "metadata": {},
   "outputs": [
    {
     "name": "stdout",
     "output_type": "stream",
     "text": [
      "{'Age': 34, 'Gender': 'F', 'Smoking': 'No', 'Hx Smoking': 'Yes', 'Hx Radiothreapy': 'No', 'Thyroid Function': 'Euthyroid', 'Physical Examination': 'Multinodular goiter', 'Adenopathy': 'No', 'Pathology': 'Micropapillary', 'Focality': 'Uni-Focal', 'Risk': 'Low', 'T': 'T1a', 'N': 'N0', 'M': 'M0', 'Stage': 'I', 'Response': 'Excellent', 'Recurred': 'No'}\n",
      "{'Age': 62, 'Gender': 'F', 'Smoking': 'No', 'Hx Smoking': 'No', 'Hx Radiothreapy': 'No', 'Thyroid Function': 'Euthyroid', 'Physical Examination': 'Single nodular goiter-right', 'Adenopathy': 'No', 'Pathology': 'Micropapillary', 'Focality': 'Uni-Focal', 'Risk': 'Low', 'T': 'T1a', 'N': 'N0', 'M': 'M0', 'Stage': 'I', 'Response': 'Excellent', 'Recurred': 'No'}\n",
      "{'Age': 62, 'Gender': 'F', 'Smoking': 'No', 'Hx Smoking': 'No', 'Hx Radiothreapy': 'No', 'Thyroid Function': 'Euthyroid', 'Physical Examination': 'Multinodular goiter', 'Adenopathy': 'No', 'Pathology': 'Micropapillary', 'Focality': 'Multi-Focal', 'Risk': 'Low', 'T': 'T1a', 'N': 'N0', 'M': 'M0', 'Stage': 'I', 'Response': 'Excellent', 'Recurred': 'No'}\n",
      "{'Age': 52, 'Gender': 'M', 'Smoking': 'Yes', 'Hx Smoking': 'No', 'Hx Radiothreapy': 'No', 'Thyroid Function': 'Euthyroid', 'Physical Examination': 'Multinodular goiter', 'Adenopathy': 'No', 'Pathology': 'Micropapillary', 'Focality': 'Multi-Focal', 'Risk': 'Low', 'T': 'T1a', 'N': 'N0', 'M': 'M0', 'Stage': 'I', 'Response': 'Indeterminate', 'Recurred': 'No'}\n",
      "{'Age': 41, 'Gender': 'F', 'Smoking': 'No', 'Hx Smoking': 'Yes', 'Hx Radiothreapy': 'No', 'Thyroid Function': 'Clinical Hyperthyroidism', 'Physical Examination': 'Single nodular goiter-right', 'Adenopathy': 'No', 'Pathology': 'Micropapillary', 'Focality': 'Uni-Focal', 'Risk': 'Low', 'T': 'T1a', 'N': 'N0', 'M': 'M0', 'Stage': 'I', 'Response': 'Excellent', 'Recurred': 'No'}\n",
      "{'Age': 46, 'Gender': 'F', 'Smoking': 'No', 'Hx Smoking': 'No', 'Hx Radiothreapy': 'No', 'Thyroid Function': 'Euthyroid', 'Physical Examination': 'Single nodular goiter-right', 'Adenopathy': 'No', 'Pathology': 'Micropapillary', 'Focality': 'Uni-Focal', 'Risk': 'Low', 'T': 'T1a', 'N': 'N0', 'M': 'M0', 'Stage': 'I', 'Response': 'Excellent', 'Recurred': 'No'}\n",
      "{'Age': 51, 'Gender': 'F', 'Smoking': 'No', 'Hx Smoking': 'No', 'Hx Radiothreapy': 'No', 'Thyroid Function': 'Euthyroid', 'Physical Examination': 'Single nodular goiter-right', 'Adenopathy': 'No', 'Pathology': 'Micropapillary', 'Focality': 'Uni-Focal', 'Risk': 'Low', 'T': 'T1a', 'N': 'N0', 'M': 'M0', 'Stage': 'I', 'Response': 'Excellent', 'Recurred': 'No'}\n",
      "{'Age': 40, 'Gender': 'F', 'Smoking': 'No', 'Hx Smoking': 'No', 'Hx Radiothreapy': 'No', 'Thyroid Function': 'Euthyroid', 'Physical Examination': 'Single nodular goiter-right', 'Adenopathy': 'No', 'Pathology': 'Micropapillary', 'Focality': 'Uni-Focal', 'Risk': 'Low', 'T': 'T1a', 'N': 'N0', 'M': 'M0', 'Stage': 'I', 'Response': 'Excellent', 'Recurred': 'No'}\n",
      "{'Age': 75, 'Gender': 'F', 'Smoking': 'No', 'Hx Smoking': 'No', 'Hx Radiothreapy': 'No', 'Thyroid Function': 'Euthyroid', 'Physical Examination': 'Single nodular goiter-right', 'Adenopathy': 'No', 'Pathology': 'Micropapillary', 'Focality': 'Uni-Focal', 'Risk': 'Low', 'T': 'T1a', 'N': 'N0', 'M': 'M0', 'Stage': 'I', 'Response': 'Excellent', 'Recurred': 'No'}\n",
      "{'Age': 59, 'Gender': 'F', 'Smoking': 'No', 'Hx Smoking': 'No', 'Hx Radiothreapy': 'No', 'Thyroid Function': 'Euthyroid', 'Physical Examination': 'Single nodular goiter-left', 'Adenopathy': 'No', 'Pathology': 'Micropapillary', 'Focality': 'Uni-Focal', 'Risk': 'Low', 'T': 'T1a', 'N': 'N0', 'M': 'M0', 'Stage': 'I', 'Response': 'Excellent', 'Recurred': 'No'}\n"
     ]
    }
   ],
   "source": [
    "response = es.search(index=\"thyroid_risk\", body={\n",
    "    \"query\": {\n",
    "        \"range\": {\n",
    "            \"Age\": {\n",
    "                \"gt\": 30\n",
    "            }\n",
    "        }\n",
    "    }\n",
    "})\n",
    "\n",
    "# Afficher les résultats\n",
    "for hit in response['hits']['hits']:\n",
    "    print(hit['_source'])\n"
   ]
  },
  {
   "cell_type": "code",
   "execution_count": null,
   "id": "f986e561-ccbd-43bd-80cb-78e8f51e65fd",
   "metadata": {},
   "outputs": [],
   "source": [
    "#Recherche de documents par un champ exact (match et keyword)\n",
    "response = es.search(index=\"thyroid_risk\", body={\n",
    "    \"query\": {\n",
    "        \"term\": {\n",
    "            \"Risk.keyword\": \"Low\"  # Utilisation du sous-champ `keyword` pour une recherche exacte\n",
    "        }\n",
    "    }\n",
    "})\n",
    "\n",
    "# Afficher les résultats\n",
    "for hit in response['hits']['hits']:\n",
    "    print(hit['_source'])\n"
   ]
  },
  {
   "cell_type": "code",
   "execution_count": 29,
   "id": "56bcc8e5-e946-4e60-a5b1-46cb95857d18",
   "metadata": {},
   "outputs": [
    {
     "name": "stdout",
     "output_type": "stream",
     "text": [
      "{'Age': 34, 'Gender': 'F', 'Smoking': 'No', 'Hx Smoking': 'Yes', 'Hx Radiothreapy': 'No', 'Thyroid Function': 'Euthyroid', 'Physical Examination': 'Multinodular goiter', 'Adenopathy': 'No', 'Pathology': 'Micropapillary', 'Focality': 'Uni-Focal', 'Risk': 'Low', 'T': 'T1a', 'N': 'N0', 'M': 'M0', 'Stage': 'I', 'Response': 'Excellent', 'Recurred': 'No'}\n",
      "{'Age': 30, 'Gender': 'F', 'Smoking': 'No', 'Hx Smoking': 'No', 'Hx Radiothreapy': 'No', 'Thyroid Function': 'Euthyroid', 'Physical Examination': 'Single nodular goiter-right', 'Adenopathy': 'No', 'Pathology': 'Micropapillary', 'Focality': 'Uni-Focal', 'Risk': 'Low', 'T': 'T1a', 'N': 'N0', 'M': 'M0', 'Stage': 'I', 'Response': 'Excellent', 'Recurred': 'No'}\n",
      "{'Age': 52, 'Gender': 'M', 'Smoking': 'Yes', 'Hx Smoking': 'No', 'Hx Radiothreapy': 'No', 'Thyroid Function': 'Euthyroid', 'Physical Examination': 'Multinodular goiter', 'Adenopathy': 'No', 'Pathology': 'Micropapillary', 'Focality': 'Multi-Focal', 'Risk': 'Low', 'T': 'T1a', 'N': 'N0', 'M': 'M0', 'Stage': 'I', 'Response': 'Indeterminate', 'Recurred': 'No'}\n",
      "{'Age': 41, 'Gender': 'F', 'Smoking': 'No', 'Hx Smoking': 'Yes', 'Hx Radiothreapy': 'No', 'Thyroid Function': 'Clinical Hyperthyroidism', 'Physical Examination': 'Single nodular goiter-right', 'Adenopathy': 'No', 'Pathology': 'Micropapillary', 'Focality': 'Uni-Focal', 'Risk': 'Low', 'T': 'T1a', 'N': 'N0', 'M': 'M0', 'Stage': 'I', 'Response': 'Excellent', 'Recurred': 'No'}\n",
      "{'Age': 46, 'Gender': 'F', 'Smoking': 'No', 'Hx Smoking': 'No', 'Hx Radiothreapy': 'No', 'Thyroid Function': 'Euthyroid', 'Physical Examination': 'Single nodular goiter-right', 'Adenopathy': 'No', 'Pathology': 'Micropapillary', 'Focality': 'Uni-Focal', 'Risk': 'Low', 'T': 'T1a', 'N': 'N0', 'M': 'M0', 'Stage': 'I', 'Response': 'Excellent', 'Recurred': 'No'}\n",
      "{'Age': 51, 'Gender': 'F', 'Smoking': 'No', 'Hx Smoking': 'No', 'Hx Radiothreapy': 'No', 'Thyroid Function': 'Euthyroid', 'Physical Examination': 'Single nodular goiter-right', 'Adenopathy': 'No', 'Pathology': 'Micropapillary', 'Focality': 'Uni-Focal', 'Risk': 'Low', 'T': 'T1a', 'N': 'N0', 'M': 'M0', 'Stage': 'I', 'Response': 'Excellent', 'Recurred': 'No'}\n",
      "{'Age': 40, 'Gender': 'F', 'Smoking': 'No', 'Hx Smoking': 'No', 'Hx Radiothreapy': 'No', 'Thyroid Function': 'Euthyroid', 'Physical Examination': 'Single nodular goiter-right', 'Adenopathy': 'No', 'Pathology': 'Micropapillary', 'Focality': 'Uni-Focal', 'Risk': 'Low', 'T': 'T1a', 'N': 'N0', 'M': 'M0', 'Stage': 'I', 'Response': 'Excellent', 'Recurred': 'No'}\n",
      "{'Age': 59, 'Gender': 'F', 'Smoking': 'No', 'Hx Smoking': 'No', 'Hx Radiothreapy': 'No', 'Thyroid Function': 'Euthyroid', 'Physical Examination': 'Single nodular goiter-left', 'Adenopathy': 'No', 'Pathology': 'Micropapillary', 'Focality': 'Uni-Focal', 'Risk': 'Low', 'T': 'T1a', 'N': 'N0', 'M': 'M0', 'Stage': 'I', 'Response': 'Excellent', 'Recurred': 'No'}\n",
      "{'Age': 49, 'Gender': 'F', 'Smoking': 'No', 'Hx Smoking': 'No', 'Hx Radiothreapy': 'No', 'Thyroid Function': 'Euthyroid', 'Physical Examination': 'Multinodular goiter', 'Adenopathy': 'No', 'Pathology': 'Micropapillary', 'Focality': 'Uni-Focal', 'Risk': 'Low', 'T': 'T1a', 'N': 'N0', 'M': 'M0', 'Stage': 'I', 'Response': 'Excellent', 'Recurred': 'No'}\n",
      "{'Age': 50, 'Gender': 'F', 'Smoking': 'No', 'Hx Smoking': 'No', 'Hx Radiothreapy': 'No', 'Thyroid Function': 'Clinical Hyperthyroidism', 'Physical Examination': 'Multinodular goiter', 'Adenopathy': 'No', 'Pathology': 'Micropapillary', 'Focality': 'Uni-Focal', 'Risk': 'Low', 'T': 'T1a', 'N': 'N0', 'M': 'M0', 'Stage': 'I', 'Response': 'Excellent', 'Recurred': 'No'}\n"
     ]
    }
   ],
   "source": [
    "#2. Recherche de documents avec des plages sur un champ numérique (range)\n",
    "response = es.search(index=\"thyroid_risk\", body={\n",
    "    \"query\": {\n",
    "        \"range\": {\n",
    "            \"Age\": {\n",
    "                \"gte\": 30,  # plus grand ou égal à 30\n",
    "                \"lte\": 60   # moins ou égal à 60\n",
    "            }\n",
    "        }\n",
    "    }\n",
    "})\n",
    "\n",
    "# Afficher les résultats\n",
    "for hit in response['hits']['hits']:\n",
    "    print(hit['_source'])\n"
   ]
  },
  {
   "cell_type": "code",
   "execution_count": 32,
   "id": "5688f982-e0b3-44f1-948f-69df1f45835a",
   "metadata": {},
   "outputs": [
    {
     "name": "stdout",
     "output_type": "stream",
     "text": [
      "{'Age': 27, 'Gender': 'F', 'Smoking': 'No', 'Hx Smoking': 'No', 'Hx Radiothreapy': 'No', 'Thyroid Function': 'Euthyroid', 'Physical Examination': 'Single nodular goiter-left', 'Adenopathy': 'No', 'Pathology': 'Micropapillary', 'Focality': 'Uni-Focal', 'Risk': 'Low', 'T': 'T1a', 'N': 'N0', 'M': 'M0', 'Stage': 'I', 'Response': 'Indeterminate', 'Recurred': 'No'}\n",
      "{'Age': 34, 'Gender': 'F', 'Smoking': 'No', 'Hx Smoking': 'Yes', 'Hx Radiothreapy': 'No', 'Thyroid Function': 'Euthyroid', 'Physical Examination': 'Multinodular goiter', 'Adenopathy': 'No', 'Pathology': 'Micropapillary', 'Focality': 'Uni-Focal', 'Risk': 'Low', 'T': 'T1a', 'N': 'N0', 'M': 'M0', 'Stage': 'I', 'Response': 'Excellent', 'Recurred': 'No'}\n",
      "{'Age': 30, 'Gender': 'F', 'Smoking': 'No', 'Hx Smoking': 'No', 'Hx Radiothreapy': 'No', 'Thyroid Function': 'Euthyroid', 'Physical Examination': 'Single nodular goiter-right', 'Adenopathy': 'No', 'Pathology': 'Micropapillary', 'Focality': 'Uni-Focal', 'Risk': 'Low', 'T': 'T1a', 'N': 'N0', 'M': 'M0', 'Stage': 'I', 'Response': 'Excellent', 'Recurred': 'No'}\n",
      "{'Age': 62, 'Gender': 'F', 'Smoking': 'No', 'Hx Smoking': 'No', 'Hx Radiothreapy': 'No', 'Thyroid Function': 'Euthyroid', 'Physical Examination': 'Single nodular goiter-right', 'Adenopathy': 'No', 'Pathology': 'Micropapillary', 'Focality': 'Uni-Focal', 'Risk': 'Low', 'T': 'T1a', 'N': 'N0', 'M': 'M0', 'Stage': 'I', 'Response': 'Excellent', 'Recurred': 'No'}\n",
      "{'Age': 62, 'Gender': 'F', 'Smoking': 'No', 'Hx Smoking': 'No', 'Hx Radiothreapy': 'No', 'Thyroid Function': 'Euthyroid', 'Physical Examination': 'Multinodular goiter', 'Adenopathy': 'No', 'Pathology': 'Micropapillary', 'Focality': 'Multi-Focal', 'Risk': 'Low', 'T': 'T1a', 'N': 'N0', 'M': 'M0', 'Stage': 'I', 'Response': 'Excellent', 'Recurred': 'No'}\n",
      "{'Age': 52, 'Gender': 'M', 'Smoking': 'Yes', 'Hx Smoking': 'No', 'Hx Radiothreapy': 'No', 'Thyroid Function': 'Euthyroid', 'Physical Examination': 'Multinodular goiter', 'Adenopathy': 'No', 'Pathology': 'Micropapillary', 'Focality': 'Multi-Focal', 'Risk': 'Low', 'T': 'T1a', 'N': 'N0', 'M': 'M0', 'Stage': 'I', 'Response': 'Indeterminate', 'Recurred': 'No'}\n",
      "{'Age': 41, 'Gender': 'F', 'Smoking': 'No', 'Hx Smoking': 'Yes', 'Hx Radiothreapy': 'No', 'Thyroid Function': 'Clinical Hyperthyroidism', 'Physical Examination': 'Single nodular goiter-right', 'Adenopathy': 'No', 'Pathology': 'Micropapillary', 'Focality': 'Uni-Focal', 'Risk': 'Low', 'T': 'T1a', 'N': 'N0', 'M': 'M0', 'Stage': 'I', 'Response': 'Excellent', 'Recurred': 'No'}\n",
      "{'Age': 46, 'Gender': 'F', 'Smoking': 'No', 'Hx Smoking': 'No', 'Hx Radiothreapy': 'No', 'Thyroid Function': 'Euthyroid', 'Physical Examination': 'Single nodular goiter-right', 'Adenopathy': 'No', 'Pathology': 'Micropapillary', 'Focality': 'Uni-Focal', 'Risk': 'Low', 'T': 'T1a', 'N': 'N0', 'M': 'M0', 'Stage': 'I', 'Response': 'Excellent', 'Recurred': 'No'}\n",
      "{'Age': 51, 'Gender': 'F', 'Smoking': 'No', 'Hx Smoking': 'No', 'Hx Radiothreapy': 'No', 'Thyroid Function': 'Euthyroid', 'Physical Examination': 'Single nodular goiter-right', 'Adenopathy': 'No', 'Pathology': 'Micropapillary', 'Focality': 'Uni-Focal', 'Risk': 'Low', 'T': 'T1a', 'N': 'N0', 'M': 'M0', 'Stage': 'I', 'Response': 'Excellent', 'Recurred': 'No'}\n",
      "{'Age': 40, 'Gender': 'F', 'Smoking': 'No', 'Hx Smoking': 'No', 'Hx Radiothreapy': 'No', 'Thyroid Function': 'Euthyroid', 'Physical Examination': 'Single nodular goiter-right', 'Adenopathy': 'No', 'Pathology': 'Micropapillary', 'Focality': 'Uni-Focal', 'Risk': 'Low', 'T': 'T1a', 'N': 'N0', 'M': 'M0', 'Stage': 'I', 'Response': 'Excellent', 'Recurred': 'No'}\n"
     ]
    }
   ],
   "source": [
    "#3. Requête de recherche plein texte avec match\n",
    "# Recherche des patients avec \"Micropapillary\" dans la Pathology :\n",
    "response = es.search(index=\"thyroid_risk\", body={\n",
    "    \"query\": {\n",
    "        \"match\": {\n",
    "            \"Pathology\": \"Micropapillary\"  # Recherche par mot-clé dans un champ textuel\n",
    "        }\n",
    "    }\n",
    "})\n",
    "\n",
    "# Afficher les résultats\n",
    "for hit in response['hits']['hits']:\n",
    "    print(hit['_source'])\n"
   ]
  },
  {
   "cell_type": "code",
   "execution_count": 33,
   "id": "934ba944-ca63-45e8-97b8-b470fbcd9706",
   "metadata": {},
   "outputs": [
    {
     "name": "stdout",
     "output_type": "stream",
     "text": [
      "{'Age': 27, 'Gender': 'F', 'Smoking': 'No', 'Hx Smoking': 'No', 'Hx Radiothreapy': 'No', 'Thyroid Function': 'Euthyroid', 'Physical Examination': 'Single nodular goiter-left', 'Adenopathy': 'No', 'Pathology': 'Micropapillary', 'Focality': 'Uni-Focal', 'Risk': 'Low', 'T': 'T1a', 'N': 'N0', 'M': 'M0', 'Stage': 'I', 'Response': 'Indeterminate', 'Recurred': 'No'}\n",
      "{'Age': 34, 'Gender': 'F', 'Smoking': 'No', 'Hx Smoking': 'Yes', 'Hx Radiothreapy': 'No', 'Thyroid Function': 'Euthyroid', 'Physical Examination': 'Multinodular goiter', 'Adenopathy': 'No', 'Pathology': 'Micropapillary', 'Focality': 'Uni-Focal', 'Risk': 'Low', 'T': 'T1a', 'N': 'N0', 'M': 'M0', 'Stage': 'I', 'Response': 'Excellent', 'Recurred': 'No'}\n",
      "{'Age': 30, 'Gender': 'F', 'Smoking': 'No', 'Hx Smoking': 'No', 'Hx Radiothreapy': 'No', 'Thyroid Function': 'Euthyroid', 'Physical Examination': 'Single nodular goiter-right', 'Adenopathy': 'No', 'Pathology': 'Micropapillary', 'Focality': 'Uni-Focal', 'Risk': 'Low', 'T': 'T1a', 'N': 'N0', 'M': 'M0', 'Stage': 'I', 'Response': 'Excellent', 'Recurred': 'No'}\n",
      "{'Age': 62, 'Gender': 'F', 'Smoking': 'No', 'Hx Smoking': 'No', 'Hx Radiothreapy': 'No', 'Thyroid Function': 'Euthyroid', 'Physical Examination': 'Single nodular goiter-right', 'Adenopathy': 'No', 'Pathology': 'Micropapillary', 'Focality': 'Uni-Focal', 'Risk': 'Low', 'T': 'T1a', 'N': 'N0', 'M': 'M0', 'Stage': 'I', 'Response': 'Excellent', 'Recurred': 'No'}\n",
      "{'Age': 62, 'Gender': 'F', 'Smoking': 'No', 'Hx Smoking': 'No', 'Hx Radiothreapy': 'No', 'Thyroid Function': 'Euthyroid', 'Physical Examination': 'Multinodular goiter', 'Adenopathy': 'No', 'Pathology': 'Micropapillary', 'Focality': 'Multi-Focal', 'Risk': 'Low', 'T': 'T1a', 'N': 'N0', 'M': 'M0', 'Stage': 'I', 'Response': 'Excellent', 'Recurred': 'No'}\n",
      "{'Age': 52, 'Gender': 'M', 'Smoking': 'Yes', 'Hx Smoking': 'No', 'Hx Radiothreapy': 'No', 'Thyroid Function': 'Euthyroid', 'Physical Examination': 'Multinodular goiter', 'Adenopathy': 'No', 'Pathology': 'Micropapillary', 'Focality': 'Multi-Focal', 'Risk': 'Low', 'T': 'T1a', 'N': 'N0', 'M': 'M0', 'Stage': 'I', 'Response': 'Indeterminate', 'Recurred': 'No'}\n",
      "{'Age': 41, 'Gender': 'F', 'Smoking': 'No', 'Hx Smoking': 'Yes', 'Hx Radiothreapy': 'No', 'Thyroid Function': 'Clinical Hyperthyroidism', 'Physical Examination': 'Single nodular goiter-right', 'Adenopathy': 'No', 'Pathology': 'Micropapillary', 'Focality': 'Uni-Focal', 'Risk': 'Low', 'T': 'T1a', 'N': 'N0', 'M': 'M0', 'Stage': 'I', 'Response': 'Excellent', 'Recurred': 'No'}\n",
      "{'Age': 46, 'Gender': 'F', 'Smoking': 'No', 'Hx Smoking': 'No', 'Hx Radiothreapy': 'No', 'Thyroid Function': 'Euthyroid', 'Physical Examination': 'Single nodular goiter-right', 'Adenopathy': 'No', 'Pathology': 'Micropapillary', 'Focality': 'Uni-Focal', 'Risk': 'Low', 'T': 'T1a', 'N': 'N0', 'M': 'M0', 'Stage': 'I', 'Response': 'Excellent', 'Recurred': 'No'}\n",
      "{'Age': 51, 'Gender': 'F', 'Smoking': 'No', 'Hx Smoking': 'No', 'Hx Radiothreapy': 'No', 'Thyroid Function': 'Euthyroid', 'Physical Examination': 'Single nodular goiter-right', 'Adenopathy': 'No', 'Pathology': 'Micropapillary', 'Focality': 'Uni-Focal', 'Risk': 'Low', 'T': 'T1a', 'N': 'N0', 'M': 'M0', 'Stage': 'I', 'Response': 'Excellent', 'Recurred': 'No'}\n",
      "{'Age': 40, 'Gender': 'F', 'Smoking': 'No', 'Hx Smoking': 'No', 'Hx Radiothreapy': 'No', 'Thyroid Function': 'Euthyroid', 'Physical Examination': 'Single nodular goiter-right', 'Adenopathy': 'No', 'Pathology': 'Micropapillary', 'Focality': 'Uni-Focal', 'Risk': 'Low', 'T': 'T1a', 'N': 'N0', 'M': 'M0', 'Stage': 'I', 'Response': 'Excellent', 'Recurred': 'No'}\n"
     ]
    }
   ],
   "source": [
    "# Recherche sur plusieurs champs avec bool\n",
    "# Recherche des documents où Risk est \"Low\" et Stage est \"I\" :\n",
    "response = es.search(index=\"thyroid_risk\", body={\n",
    "    \"query\": {\n",
    "        \"bool\": {\n",
    "            \"must\": [\n",
    "                {\"term\": {\"Risk.keyword\": \"Low\"}},\n",
    "                {\"term\": {\"Stage.keyword\": \"I\"}}\n",
    "            ]\n",
    "        }\n",
    "    }\n",
    "})\n",
    "\n",
    "# Afficher les résultats\n",
    "for hit in response['hits']['hits']:\n",
    "    print(hit['_source'])\n"
   ]
  },
  {
   "cell_type": "code",
   "execution_count": 34,
   "id": "07152bcc-37ea-47a3-8fc7-4b4451a37bd8",
   "metadata": {},
   "outputs": [
    {
     "name": "stdout",
     "output_type": "stream",
     "text": [
      "Risk: Low, Count: 249\n",
      "Risk: Intermediate, Count: 102\n",
      "Risk: High, Count: 32\n"
     ]
    }
   ],
   "source": [
    "#Agrégation des données pour obtenir la distribution des Risk\n",
    "response = es.search(index=\"thyroid_risk\", body={\n",
    "    \"aggs\": {\n",
    "        \"risk_distribution\": {\n",
    "            \"terms\": {\n",
    "                \"field\": \"Risk.keyword\"  # Agrégation par valeur exacte du champ `Risk`\n",
    "            }\n",
    "        }\n",
    "    }\n",
    "})\n",
    "\n",
    "# Afficher la distribution des risques\n",
    "for bucket in response['aggregations']['risk_distribution']['buckets']:\n",
    "    print(f\"Risk: {bucket['key']}, Count: {bucket['doc_count']}\")\n"
   ]
  },
  {
   "cell_type": "code",
   "execution_count": 35,
   "id": "5b0ff4e9-c68c-433e-a8bb-563aead3e947",
   "metadata": {},
   "outputs": [
    {
     "name": "stdout",
     "output_type": "stream",
     "text": [
      "{'Age': 17, 'Gender': 'F', 'Smoking': 'No', 'Hx Smoking': 'Yes', 'Hx Radiothreapy': 'No', 'Thyroid Function': 'Euthyroid', 'Physical Examination': 'Single nodular goiter-right', 'Adenopathy': 'No', 'Pathology': 'Papillary', 'Focality': 'Uni-Focal', 'Risk': 'Low', 'T': 'T1b', 'N': 'N0', 'M': 'M0', 'Stage': 'I', 'Response': 'Excellent', 'Recurred': 'No'}\n",
      "{'Age': 19, 'Gender': 'F', 'Smoking': 'No', 'Hx Smoking': 'No', 'Hx Radiothreapy': 'No', 'Thyroid Function': 'Euthyroid', 'Physical Examination': 'Single nodular goiter-right', 'Adenopathy': 'No', 'Pathology': 'Papillary', 'Focality': 'Uni-Focal', 'Risk': 'Low', 'T': 'T2', 'N': 'N0', 'M': 'M0', 'Stage': 'I', 'Response': 'Excellent', 'Recurred': 'No'}\n",
      "{'Age': 19, 'Gender': 'F', 'Smoking': 'No', 'Hx Smoking': 'No', 'Hx Radiothreapy': 'No', 'Thyroid Function': 'Euthyroid', 'Physical Examination': 'Multinodular goiter', 'Adenopathy': 'No', 'Pathology': 'Papillary', 'Focality': 'Multi-Focal', 'Risk': 'Low', 'T': 'T3a', 'N': 'N0', 'M': 'M0', 'Stage': 'I', 'Response': 'Excellent', 'Recurred': 'No'}\n",
      "{'Age': 20, 'Gender': 'F', 'Smoking': 'No', 'Hx Smoking': 'No', 'Hx Radiothreapy': 'No', 'Thyroid Function': 'Euthyroid', 'Physical Examination': 'Single nodular goiter-right', 'Adenopathy': 'No', 'Pathology': 'Micropapillary', 'Focality': 'Uni-Focal', 'Risk': 'Low', 'T': 'T1a', 'N': 'N0', 'M': 'M0', 'Stage': 'I', 'Response': 'Excellent', 'Recurred': 'No'}\n",
      "{'Age': 20, 'Gender': 'F', 'Smoking': 'No', 'Hx Smoking': 'No', 'Hx Radiothreapy': 'No', 'Thyroid Function': 'Euthyroid', 'Physical Examination': 'Single nodular goiter-right', 'Adenopathy': 'No', 'Pathology': 'Papillary', 'Focality': 'Uni-Focal', 'Risk': 'Low', 'T': 'T2', 'N': 'N0', 'M': 'M0', 'Stage': 'I', 'Response': 'Excellent', 'Recurred': 'No'}\n",
      "{'Age': 20, 'Gender': 'M', 'Smoking': 'No', 'Hx Smoking': 'No', 'Hx Radiothreapy': 'No', 'Thyroid Function': 'Euthyroid', 'Physical Examination': 'Single nodular goiter-right', 'Adenopathy': 'Right', 'Pathology': 'Papillary', 'Focality': 'Uni-Focal', 'Risk': 'Low', 'T': 'T2', 'N': 'N0', 'M': 'M0', 'Stage': 'I', 'Response': 'Structural Incomplete', 'Recurred': 'Yes'}\n",
      "{'Age': 21, 'Gender': 'F', 'Smoking': 'No', 'Hx Smoking': 'No', 'Hx Radiothreapy': 'No', 'Thyroid Function': 'Euthyroid', 'Physical Examination': 'Single nodular goiter-right', 'Adenopathy': 'No', 'Pathology': 'Papillary', 'Focality': 'Uni-Focal', 'Risk': 'Low', 'T': 'T1b', 'N': 'N0', 'M': 'M0', 'Stage': 'I', 'Response': 'Indeterminate', 'Recurred': 'No'}\n",
      "{'Age': 21, 'Gender': 'F', 'Smoking': 'No', 'Hx Smoking': 'No', 'Hx Radiothreapy': 'No', 'Thyroid Function': 'Euthyroid', 'Physical Examination': 'Single nodular goiter-right', 'Adenopathy': 'No', 'Pathology': 'Papillary', 'Focality': 'Uni-Focal', 'Risk': 'Low', 'T': 'T2', 'N': 'N0', 'M': 'M0', 'Stage': 'I', 'Response': 'Excellent', 'Recurred': 'No'}\n",
      "{'Age': 21, 'Gender': 'F', 'Smoking': 'No', 'Hx Smoking': 'No', 'Hx Radiothreapy': 'No', 'Thyroid Function': 'Euthyroid', 'Physical Examination': 'Single nodular goiter-right', 'Adenopathy': 'No', 'Pathology': 'Papillary', 'Focality': 'Uni-Focal', 'Risk': 'Low', 'T': 'T2', 'N': 'N0', 'M': 'M0', 'Stage': 'I', 'Response': 'Excellent', 'Recurred': 'No'}\n",
      "{'Age': 21, 'Gender': 'F', 'Smoking': 'No', 'Hx Smoking': 'No', 'Hx Radiothreapy': 'No', 'Thyroid Function': 'Euthyroid', 'Physical Examination': 'Single nodular goiter-left', 'Adenopathy': 'No', 'Pathology': 'Papillary', 'Focality': 'Uni-Focal', 'Risk': 'Low', 'T': 'T2', 'N': 'N0', 'M': 'M0', 'Stage': 'I', 'Response': 'Excellent', 'Recurred': 'No'}\n"
     ]
    }
   ],
   "source": [
    "#Requête avec filtrage sur un champ textuel et tri sur un champ numérique\n",
    "response = es.search(index=\"thyroid_risk\", body={\n",
    "    \"query\": {\n",
    "        \"term\": {\n",
    "            \"Risk.keyword\": \"Low\"  # Filtrage par le champ Risk\n",
    "        }\n",
    "    },\n",
    "    \"sort\": [\n",
    "        {\"Age\": {\"order\": \"asc\"}}  # Tri par Age en ordre croissant\n",
    "    ]\n",
    "})\n",
    "\n",
    "# Afficher les résultats triés\n",
    "for hit in response['hits']['hits']:\n",
    "    print(hit['_source'])\n"
   ]
  },
  {
   "cell_type": "code",
   "execution_count": 36,
   "id": "3890a6a7-9774-4c23-88b9-49d47bb32cbe",
   "metadata": {},
   "outputs": [
    {
     "name": "stdout",
     "output_type": "stream",
     "text": [
      "{'Age': 27, 'Gender': 'F', 'Smoking': 'No', 'Hx Smoking': 'No', 'Hx Radiothreapy': 'No', 'Thyroid Function': 'Euthyroid', 'Physical Examination': 'Single nodular goiter-left', 'Adenopathy': 'No', 'Pathology': 'Micropapillary', 'Focality': 'Uni-Focal', 'Risk': 'Low', 'T': 'T1a', 'N': 'N0', 'M': 'M0', 'Stage': 'I', 'Response': 'Indeterminate', 'Recurred': 'No'}\n",
      "{'Age': 34, 'Gender': 'F', 'Smoking': 'No', 'Hx Smoking': 'Yes', 'Hx Radiothreapy': 'No', 'Thyroid Function': 'Euthyroid', 'Physical Examination': 'Multinodular goiter', 'Adenopathy': 'No', 'Pathology': 'Micropapillary', 'Focality': 'Uni-Focal', 'Risk': 'Low', 'T': 'T1a', 'N': 'N0', 'M': 'M0', 'Stage': 'I', 'Response': 'Excellent', 'Recurred': 'No'}\n",
      "{'Age': 30, 'Gender': 'F', 'Smoking': 'No', 'Hx Smoking': 'No', 'Hx Radiothreapy': 'No', 'Thyroid Function': 'Euthyroid', 'Physical Examination': 'Single nodular goiter-right', 'Adenopathy': 'No', 'Pathology': 'Micropapillary', 'Focality': 'Uni-Focal', 'Risk': 'Low', 'T': 'T1a', 'N': 'N0', 'M': 'M0', 'Stage': 'I', 'Response': 'Excellent', 'Recurred': 'No'}\n",
      "{'Age': 62, 'Gender': 'F', 'Smoking': 'No', 'Hx Smoking': 'No', 'Hx Radiothreapy': 'No', 'Thyroid Function': 'Euthyroid', 'Physical Examination': 'Single nodular goiter-right', 'Adenopathy': 'No', 'Pathology': 'Micropapillary', 'Focality': 'Uni-Focal', 'Risk': 'Low', 'T': 'T1a', 'N': 'N0', 'M': 'M0', 'Stage': 'I', 'Response': 'Excellent', 'Recurred': 'No'}\n",
      "{'Age': 62, 'Gender': 'F', 'Smoking': 'No', 'Hx Smoking': 'No', 'Hx Radiothreapy': 'No', 'Thyroid Function': 'Euthyroid', 'Physical Examination': 'Multinodular goiter', 'Adenopathy': 'No', 'Pathology': 'Micropapillary', 'Focality': 'Multi-Focal', 'Risk': 'Low', 'T': 'T1a', 'N': 'N0', 'M': 'M0', 'Stage': 'I', 'Response': 'Excellent', 'Recurred': 'No'}\n",
      "{'Age': 41, 'Gender': 'F', 'Smoking': 'No', 'Hx Smoking': 'Yes', 'Hx Radiothreapy': 'No', 'Thyroid Function': 'Clinical Hyperthyroidism', 'Physical Examination': 'Single nodular goiter-right', 'Adenopathy': 'No', 'Pathology': 'Micropapillary', 'Focality': 'Uni-Focal', 'Risk': 'Low', 'T': 'T1a', 'N': 'N0', 'M': 'M0', 'Stage': 'I', 'Response': 'Excellent', 'Recurred': 'No'}\n",
      "{'Age': 46, 'Gender': 'F', 'Smoking': 'No', 'Hx Smoking': 'No', 'Hx Radiothreapy': 'No', 'Thyroid Function': 'Euthyroid', 'Physical Examination': 'Single nodular goiter-right', 'Adenopathy': 'No', 'Pathology': 'Micropapillary', 'Focality': 'Uni-Focal', 'Risk': 'Low', 'T': 'T1a', 'N': 'N0', 'M': 'M0', 'Stage': 'I', 'Response': 'Excellent', 'Recurred': 'No'}\n",
      "{'Age': 51, 'Gender': 'F', 'Smoking': 'No', 'Hx Smoking': 'No', 'Hx Radiothreapy': 'No', 'Thyroid Function': 'Euthyroid', 'Physical Examination': 'Single nodular goiter-right', 'Adenopathy': 'No', 'Pathology': 'Micropapillary', 'Focality': 'Uni-Focal', 'Risk': 'Low', 'T': 'T1a', 'N': 'N0', 'M': 'M0', 'Stage': 'I', 'Response': 'Excellent', 'Recurred': 'No'}\n",
      "{'Age': 40, 'Gender': 'F', 'Smoking': 'No', 'Hx Smoking': 'No', 'Hx Radiothreapy': 'No', 'Thyroid Function': 'Euthyroid', 'Physical Examination': 'Single nodular goiter-right', 'Adenopathy': 'No', 'Pathology': 'Micropapillary', 'Focality': 'Uni-Focal', 'Risk': 'Low', 'T': 'T1a', 'N': 'N0', 'M': 'M0', 'Stage': 'I', 'Response': 'Excellent', 'Recurred': 'No'}\n",
      "{'Age': 75, 'Gender': 'F', 'Smoking': 'No', 'Hx Smoking': 'No', 'Hx Radiothreapy': 'No', 'Thyroid Function': 'Euthyroid', 'Physical Examination': 'Single nodular goiter-right', 'Adenopathy': 'No', 'Pathology': 'Micropapillary', 'Focality': 'Uni-Focal', 'Risk': 'Low', 'T': 'T1a', 'N': 'N0', 'M': 'M0', 'Stage': 'I', 'Response': 'Excellent', 'Recurred': 'No'}\n"
     ]
    }
   ],
   "source": [
    "#Requête avec des filtres multiples (bool + filter)\n",
    "response = es.search(index=\"thyroid_risk\", body={\n",
    "    \"query\": {\n",
    "        \"bool\": {\n",
    "            \"filter\": [\n",
    "                {\"term\": {\"Gender.keyword\": \"F\"}},  # Filtre exact pour le sexe féminin\n",
    "                {\"term\": {\"Stage.keyword\": \"I\"}}   # Filtre exact pour le stage I\n",
    "            ]\n",
    "        }\n",
    "    }\n",
    "})\n",
    "\n",
    "# Afficher les résultats\n",
    "for hit in response['hits']['hits']:\n",
    "    print(hit['_source'])\n"
   ]
  },
  {
   "cell_type": "code",
   "execution_count": 37,
   "id": "17478d04-de31-47db-8efa-0e220c204f85",
   "metadata": {},
   "outputs": [
    {
     "name": "stdout",
     "output_type": "stream",
     "text": [
      "{'Age': 27, 'Gender': 'F', 'Smoking': 'No', 'Hx Smoking': 'No', 'Hx Radiothreapy': 'No', 'Thyroid Function': 'Euthyroid', 'Physical Examination': 'Single nodular goiter-left', 'Adenopathy': 'No', 'Pathology': 'Micropapillary', 'Focality': 'Uni-Focal', 'Risk': 'Low', 'T': 'T1a', 'N': 'N0', 'M': 'M0', 'Stage': 'I', 'Response': 'Indeterminate', 'Recurred': 'No'}\n",
      "{'Age': 34, 'Gender': 'F', 'Smoking': 'No', 'Hx Smoking': 'Yes', 'Hx Radiothreapy': 'No', 'Thyroid Function': 'Euthyroid', 'Physical Examination': 'Multinodular goiter', 'Adenopathy': 'No', 'Pathology': 'Micropapillary', 'Focality': 'Uni-Focal', 'Risk': 'Low', 'T': 'T1a', 'N': 'N0', 'M': 'M0', 'Stage': 'I', 'Response': 'Excellent', 'Recurred': 'No'}\n",
      "{'Age': 30, 'Gender': 'F', 'Smoking': 'No', 'Hx Smoking': 'No', 'Hx Radiothreapy': 'No', 'Thyroid Function': 'Euthyroid', 'Physical Examination': 'Single nodular goiter-right', 'Adenopathy': 'No', 'Pathology': 'Micropapillary', 'Focality': 'Uni-Focal', 'Risk': 'Low', 'T': 'T1a', 'N': 'N0', 'M': 'M0', 'Stage': 'I', 'Response': 'Excellent', 'Recurred': 'No'}\n",
      "{'Age': 62, 'Gender': 'F', 'Smoking': 'No', 'Hx Smoking': 'No', 'Hx Radiothreapy': 'No', 'Thyroid Function': 'Euthyroid', 'Physical Examination': 'Single nodular goiter-right', 'Adenopathy': 'No', 'Pathology': 'Micropapillary', 'Focality': 'Uni-Focal', 'Risk': 'Low', 'T': 'T1a', 'N': 'N0', 'M': 'M0', 'Stage': 'I', 'Response': 'Excellent', 'Recurred': 'No'}\n",
      "{'Age': 62, 'Gender': 'F', 'Smoking': 'No', 'Hx Smoking': 'No', 'Hx Radiothreapy': 'No', 'Thyroid Function': 'Euthyroid', 'Physical Examination': 'Multinodular goiter', 'Adenopathy': 'No', 'Pathology': 'Micropapillary', 'Focality': 'Multi-Focal', 'Risk': 'Low', 'T': 'T1a', 'N': 'N0', 'M': 'M0', 'Stage': 'I', 'Response': 'Excellent', 'Recurred': 'No'}\n",
      "{'Age': 52, 'Gender': 'M', 'Smoking': 'Yes', 'Hx Smoking': 'No', 'Hx Radiothreapy': 'No', 'Thyroid Function': 'Euthyroid', 'Physical Examination': 'Multinodular goiter', 'Adenopathy': 'No', 'Pathology': 'Micropapillary', 'Focality': 'Multi-Focal', 'Risk': 'Low', 'T': 'T1a', 'N': 'N0', 'M': 'M0', 'Stage': 'I', 'Response': 'Indeterminate', 'Recurred': 'No'}\n",
      "{'Age': 41, 'Gender': 'F', 'Smoking': 'No', 'Hx Smoking': 'Yes', 'Hx Radiothreapy': 'No', 'Thyroid Function': 'Clinical Hyperthyroidism', 'Physical Examination': 'Single nodular goiter-right', 'Adenopathy': 'No', 'Pathology': 'Micropapillary', 'Focality': 'Uni-Focal', 'Risk': 'Low', 'T': 'T1a', 'N': 'N0', 'M': 'M0', 'Stage': 'I', 'Response': 'Excellent', 'Recurred': 'No'}\n",
      "{'Age': 46, 'Gender': 'F', 'Smoking': 'No', 'Hx Smoking': 'No', 'Hx Radiothreapy': 'No', 'Thyroid Function': 'Euthyroid', 'Physical Examination': 'Single nodular goiter-right', 'Adenopathy': 'No', 'Pathology': 'Micropapillary', 'Focality': 'Uni-Focal', 'Risk': 'Low', 'T': 'T1a', 'N': 'N0', 'M': 'M0', 'Stage': 'I', 'Response': 'Excellent', 'Recurred': 'No'}\n",
      "{'Age': 51, 'Gender': 'F', 'Smoking': 'No', 'Hx Smoking': 'No', 'Hx Radiothreapy': 'No', 'Thyroid Function': 'Euthyroid', 'Physical Examination': 'Single nodular goiter-right', 'Adenopathy': 'No', 'Pathology': 'Micropapillary', 'Focality': 'Uni-Focal', 'Risk': 'Low', 'T': 'T1a', 'N': 'N0', 'M': 'M0', 'Stage': 'I', 'Response': 'Excellent', 'Recurred': 'No'}\n",
      "{'Age': 40, 'Gender': 'F', 'Smoking': 'No', 'Hx Smoking': 'No', 'Hx Radiothreapy': 'No', 'Thyroid Function': 'Euthyroid', 'Physical Examination': 'Single nodular goiter-right', 'Adenopathy': 'No', 'Pathology': 'Micropapillary', 'Focality': 'Uni-Focal', 'Risk': 'Low', 'T': 'T1a', 'N': 'N0', 'M': 'M0', 'Stage': 'I', 'Response': 'Excellent', 'Recurred': 'No'}\n"
     ]
    }
   ],
   "source": [
    "#Recherche des documents où le champ Smoking existe :\n",
    "response = es.search(index=\"thyroid_risk\", body={\n",
    "    \"query\": {\n",
    "        \"exists\": {\n",
    "            \"field\": \"Smoking\"  # Vérifie si le champ `Smoking` existe\n",
    "        }\n",
    "    }\n",
    "})\n",
    "\n",
    "# Afficher les résultats\n",
    "for hit in response['hits']['hits']:\n",
    "    print(hit['_source'])\n"
   ]
  },
  {
   "cell_type": "code",
   "execution_count": 38,
   "id": "e25a28a8-10ab-4a13-9636-c6c5d570aab3",
   "metadata": {},
   "outputs": [
    {
     "name": "stdout",
     "output_type": "stream",
     "text": [
      "{'Age': 27, 'Gender': 'F', 'Smoking': 'No', 'Hx Smoking': 'No', 'Hx Radiothreapy': 'No', 'Thyroid Function': 'Euthyroid', 'Physical Examination': 'Single nodular goiter-left', 'Adenopathy': 'No', 'Pathology': 'Micropapillary', 'Focality': 'Uni-Focal', 'Risk': 'Low', 'T': 'T1a', 'N': 'N0', 'M': 'M0', 'Stage': 'I', 'Response': 'Indeterminate', 'Recurred': 'No'}\n",
      "{'Age': 34, 'Gender': 'F', 'Smoking': 'No', 'Hx Smoking': 'Yes', 'Hx Radiothreapy': 'No', 'Thyroid Function': 'Euthyroid', 'Physical Examination': 'Multinodular goiter', 'Adenopathy': 'No', 'Pathology': 'Micropapillary', 'Focality': 'Uni-Focal', 'Risk': 'Low', 'T': 'T1a', 'N': 'N0', 'M': 'M0', 'Stage': 'I', 'Response': 'Excellent', 'Recurred': 'No'}\n",
      "{'Age': 30, 'Gender': 'F', 'Smoking': 'No', 'Hx Smoking': 'No', 'Hx Radiothreapy': 'No', 'Thyroid Function': 'Euthyroid', 'Physical Examination': 'Single nodular goiter-right', 'Adenopathy': 'No', 'Pathology': 'Micropapillary', 'Focality': 'Uni-Focal', 'Risk': 'Low', 'T': 'T1a', 'N': 'N0', 'M': 'M0', 'Stage': 'I', 'Response': 'Excellent', 'Recurred': 'No'}\n",
      "{'Age': 62, 'Gender': 'F', 'Smoking': 'No', 'Hx Smoking': 'No', 'Hx Radiothreapy': 'No', 'Thyroid Function': 'Euthyroid', 'Physical Examination': 'Single nodular goiter-right', 'Adenopathy': 'No', 'Pathology': 'Micropapillary', 'Focality': 'Uni-Focal', 'Risk': 'Low', 'T': 'T1a', 'N': 'N0', 'M': 'M0', 'Stage': 'I', 'Response': 'Excellent', 'Recurred': 'No'}\n",
      "{'Age': 62, 'Gender': 'F', 'Smoking': 'No', 'Hx Smoking': 'No', 'Hx Radiothreapy': 'No', 'Thyroid Function': 'Euthyroid', 'Physical Examination': 'Multinodular goiter', 'Adenopathy': 'No', 'Pathology': 'Micropapillary', 'Focality': 'Multi-Focal', 'Risk': 'Low', 'T': 'T1a', 'N': 'N0', 'M': 'M0', 'Stage': 'I', 'Response': 'Excellent', 'Recurred': 'No'}\n",
      "{'Age': 52, 'Gender': 'M', 'Smoking': 'Yes', 'Hx Smoking': 'No', 'Hx Radiothreapy': 'No', 'Thyroid Function': 'Euthyroid', 'Physical Examination': 'Multinodular goiter', 'Adenopathy': 'No', 'Pathology': 'Micropapillary', 'Focality': 'Multi-Focal', 'Risk': 'Low', 'T': 'T1a', 'N': 'N0', 'M': 'M0', 'Stage': 'I', 'Response': 'Indeterminate', 'Recurred': 'No'}\n",
      "{'Age': 41, 'Gender': 'F', 'Smoking': 'No', 'Hx Smoking': 'Yes', 'Hx Radiothreapy': 'No', 'Thyroid Function': 'Clinical Hyperthyroidism', 'Physical Examination': 'Single nodular goiter-right', 'Adenopathy': 'No', 'Pathology': 'Micropapillary', 'Focality': 'Uni-Focal', 'Risk': 'Low', 'T': 'T1a', 'N': 'N0', 'M': 'M0', 'Stage': 'I', 'Response': 'Excellent', 'Recurred': 'No'}\n",
      "{'Age': 46, 'Gender': 'F', 'Smoking': 'No', 'Hx Smoking': 'No', 'Hx Radiothreapy': 'No', 'Thyroid Function': 'Euthyroid', 'Physical Examination': 'Single nodular goiter-right', 'Adenopathy': 'No', 'Pathology': 'Micropapillary', 'Focality': 'Uni-Focal', 'Risk': 'Low', 'T': 'T1a', 'N': 'N0', 'M': 'M0', 'Stage': 'I', 'Response': 'Excellent', 'Recurred': 'No'}\n",
      "{'Age': 51, 'Gender': 'F', 'Smoking': 'No', 'Hx Smoking': 'No', 'Hx Radiothreapy': 'No', 'Thyroid Function': 'Euthyroid', 'Physical Examination': 'Single nodular goiter-right', 'Adenopathy': 'No', 'Pathology': 'Micropapillary', 'Focality': 'Uni-Focal', 'Risk': 'Low', 'T': 'T1a', 'N': 'N0', 'M': 'M0', 'Stage': 'I', 'Response': 'Excellent', 'Recurred': 'No'}\n",
      "{'Age': 40, 'Gender': 'F', 'Smoking': 'No', 'Hx Smoking': 'No', 'Hx Radiothreapy': 'No', 'Thyroid Function': 'Euthyroid', 'Physical Examination': 'Single nodular goiter-right', 'Adenopathy': 'No', 'Pathology': 'Micropapillary', 'Focality': 'Uni-Focal', 'Risk': 'Low', 'T': 'T1a', 'N': 'N0', 'M': 'M0', 'Stage': 'I', 'Response': 'Excellent', 'Recurred': 'No'}\n"
     ]
    }
   ],
   "source": [
    "#Recherche avec wildcard pour des correspondances partielles\n",
    "response = es.search(index=\"thyroid_risk\", body={\n",
    "    \"query\": {\n",
    "        \"wildcard\": {\n",
    "            \"Physical Examination.keyword\": \"*nodular*\"  # Recherche partielle dans le champ Physical Examination\n",
    "        }\n",
    "    }\n",
    "})\n",
    "\n",
    "# Afficher les résultats\n",
    "for hit in response['hits']['hits']:\n",
    "    print(hit['_source'])\n"
   ]
  },
  {
   "cell_type": "code",
   "execution_count": 40,
   "id": "790f6596-7f78-497a-ac02-17ff11097e6e",
   "metadata": {},
   "outputs": [
    {
     "name": "stdout",
     "output_type": "stream",
     "text": [
      "Risk: Low, Count: 249\n",
      "Risk: Intermediate, Count: 102\n",
      "Risk: High, Count: 32\n"
     ]
    }
   ],
   "source": [
    "#Agrégation sur le nombre de documents par Risk\n",
    "response = es.search(index=\"thyroid_risk\", body={\n",
    "    \"aggs\": {\n",
    "        \"risk_distribution\": {\n",
    "            \"terms\": {\n",
    "                \"field\": \"Risk.keyword\"  # Agrégation par valeur exacte du champ 'Risk'\n",
    "            }\n",
    "        }\n",
    "    }\n",
    "})\n",
    "\n",
    "# Afficher la répartition des risques\n",
    "for bucket in response['aggregations']['risk_distribution']['buckets']:\n",
    "    print(f\"Risk: {bucket['key']}, Count: {bucket['doc_count']}\")\n",
    "\n"
   ]
  },
  {
   "cell_type": "code",
   "execution_count": 41,
   "id": "baa0bcc4-02a5-47bd-bc24-94e1d5772027",
   "metadata": {},
   "outputs": [
    {
     "name": "stdout",
     "output_type": "stream",
     "text": [
      "Average Age: 40.866840731070496\n"
     ]
    }
   ],
   "source": [
    "#Agrégation avec average sur le champ Age\n",
    "response = es.search(index=\"thyroid_risk\", body={\n",
    "    \"aggs\": {\n",
    "        \"average_age\": {\n",
    "            \"avg\": {\n",
    "                \"field\": \"Age\"  # Calcul de l'âge moyen\n",
    "            }\n",
    "        }\n",
    "    }\n",
    "})\n",
    "\n",
    "# Afficher l'âge moyen\n",
    "print(\"Average Age:\", response['aggregations']['average_age']['value'])\n"
   ]
  },
  {
   "cell_type": "code",
   "execution_count": 42,
   "id": "0b6c48ac-c514-42db-8a3b-7fcf150f1717",
   "metadata": {},
   "outputs": [
    {
     "name": "stdout",
     "output_type": "stream",
     "text": [
      "Minimum Age: 15.0\n",
      "Maximum Age: 82.0\n"
     ]
    }
   ],
   "source": [
    "#Agrégation avec min et max sur le champ Age\n",
    "response = es.search(index=\"thyroid_risk\", body={\n",
    "    \"aggs\": {\n",
    "        \"min_age\": {\n",
    "            \"min\": {\n",
    "                \"field\": \"Age\"  # Trouver l'âge minimum\n",
    "            }\n",
    "        },\n",
    "        \"max_age\": {\n",
    "            \"max\": {\n",
    "                \"field\": \"Age\"  # Trouver l'âge maximum\n",
    "            }\n",
    "        }\n",
    "    }\n",
    "})\n",
    "\n",
    "# Afficher l'âge minimum et maximum\n",
    "print(\"Minimum Age:\", response['aggregations']['min_age']['value'])\n",
    "print(\"Maximum Age:\", response['aggregations']['max_age']['value'])\n"
   ]
  },
  {
   "cell_type": "code",
   "execution_count": 43,
   "id": "2a214f20-46d1-451f-9a2e-09a16db17dda",
   "metadata": {},
   "outputs": [
    {
     "name": "stdout",
     "output_type": "stream",
     "text": [
      "Age range: 10.0 - 20.0, Count: 7\n",
      "Age range: 20.0 - 30.0, Count: 90\n",
      "Age range: 30.0 - 40.0, Count: 111\n",
      "Age range: 40.0 - 50.0, Count: 67\n",
      "Age range: 50.0 - 60.0, Count: 50\n",
      "Age range: 60.0 - 70.0, Count: 37\n",
      "Age range: 70.0 - 80.0, Count: 15\n",
      "Age range: 80.0 - 90.0, Count: 6\n"
     ]
    }
   ],
   "source": [
    "#Agrégation avec histogram pour la distribution des âges\n",
    "response = es.search(index=\"thyroid_risk\", body={\n",
    "    \"aggs\": {\n",
    "        \"age_histogram\": {\n",
    "            \"histogram\": {\n",
    "                \"field\": \"Age\",  # Champ sur lequel baser l'histogramme\n",
    "                \"interval\": 10    # Tranches de 10 ans\n",
    "            }\n",
    "        }\n",
    "    }\n",
    "})\n",
    "\n",
    "# Afficher l'histogramme des âges\n",
    "for bucket in response['aggregations']['age_histogram']['buckets']:\n",
    "    print(f\"Age range: {bucket['key']} - {bucket['key'] + 10}, Count: {bucket['doc_count']}\")\n"
   ]
  },
  {
   "cell_type": "code",
   "execution_count": 44,
   "id": "41fcc26c-82d0-4068-b71a-597b5972fa94",
   "metadata": {},
   "outputs": [
    {
     "name": "stdout",
     "output_type": "stream",
     "text": [
      "Unique Gender Count: 2\n"
     ]
    }
   ],
   "source": [
    "#Agrégation avec cardinality pour obtenir le nombre unique de valeurs\n",
    "response = es.search(index=\"thyroid_risk\", body={\n",
    "    \"aggs\": {\n",
    "        \"unique_gender_count\": {\n",
    "            \"cardinality\": {\n",
    "                \"field\": \"Gender.keyword\"  # Nombre de valeurs uniques dans Gender\n",
    "            }\n",
    "        }\n",
    "    }\n",
    "})\n",
    "\n",
    "# Afficher le nombre de genres uniques\n",
    "print(\"Unique Gender Count:\", response['aggregations']['unique_gender_count']['value'])\n"
   ]
  },
  {
   "cell_type": "code",
   "execution_count": 47,
   "id": "a6465613-55e8-4f45-990b-04a428171110",
   "metadata": {},
   "outputs": [
    {
     "name": "stdout",
     "output_type": "stream",
     "text": [
      "V0ePapMBMyiJ_kB7xKkW {'Age': 27, 'Gender': 'F', 'Smoking': 'No', 'Hx Smoking': 'No', 'Hx Radiothreapy': 'No', 'Thyroid Function': 'Euthyroid', 'Physical Examination': 'Single nodular goiter-left', 'Adenopathy': 'No', 'Pathology': 'Micropapillary', 'Focality': 'Uni-Focal', 'Risk': 'Low', 'T': 'T1a', 'N': 'N0', 'M': 'M0', 'Stage': 'I', 'Response': 'Indeterminate', 'Recurred': 'No'}\n",
      "WEePapMBMyiJ_kB7xKlt {'Age': 34, 'Gender': 'F', 'Smoking': 'No', 'Hx Smoking': 'Yes', 'Hx Radiothreapy': 'No', 'Thyroid Function': 'Euthyroid', 'Physical Examination': 'Multinodular goiter', 'Adenopathy': 'No', 'Pathology': 'Micropapillary', 'Focality': 'Uni-Focal', 'Risk': 'Low', 'T': 'T1a', 'N': 'N0', 'M': 'M0', 'Stage': 'I', 'Response': 'Excellent', 'Recurred': 'No'}\n",
      "WUePapMBMyiJ_kB7xKl1 {'Age': 30, 'Gender': 'F', 'Smoking': 'No', 'Hx Smoking': 'No', 'Hx Radiothreapy': 'No', 'Thyroid Function': 'Euthyroid', 'Physical Examination': 'Single nodular goiter-right', 'Adenopathy': 'No', 'Pathology': 'Micropapillary', 'Focality': 'Uni-Focal', 'Risk': 'Low', 'T': 'T1a', 'N': 'N0', 'M': 'M0', 'Stage': 'I', 'Response': 'Excellent', 'Recurred': 'No'}\n",
      "WkePapMBMyiJ_kB7xKl9 {'Age': 62, 'Gender': 'F', 'Smoking': 'No', 'Hx Smoking': 'No', 'Hx Radiothreapy': 'No', 'Thyroid Function': 'Euthyroid', 'Physical Examination': 'Single nodular goiter-right', 'Adenopathy': 'No', 'Pathology': 'Micropapillary', 'Focality': 'Uni-Focal', 'Risk': 'Low', 'T': 'T1a', 'N': 'N0', 'M': 'M0', 'Stage': 'I', 'Response': 'Excellent', 'Recurred': 'No'}\n",
      "W0ePapMBMyiJ_kB7xKmC {'Age': 62, 'Gender': 'F', 'Smoking': 'No', 'Hx Smoking': 'No', 'Hx Radiothreapy': 'No', 'Thyroid Function': 'Euthyroid', 'Physical Examination': 'Multinodular goiter', 'Adenopathy': 'No', 'Pathology': 'Micropapillary', 'Focality': 'Multi-Focal', 'Risk': 'Low', 'T': 'T1a', 'N': 'N0', 'M': 'M0', 'Stage': 'I', 'Response': 'Excellent', 'Recurred': 'No'}\n",
      "XEePapMBMyiJ_kB7xKmI {'Age': 52, 'Gender': 'M', 'Smoking': 'Yes', 'Hx Smoking': 'No', 'Hx Radiothreapy': 'No', 'Thyroid Function': 'Euthyroid', 'Physical Examination': 'Multinodular goiter', 'Adenopathy': 'No', 'Pathology': 'Micropapillary', 'Focality': 'Multi-Focal', 'Risk': 'Low', 'T': 'T1a', 'N': 'N0', 'M': 'M0', 'Stage': 'I', 'Response': 'Indeterminate', 'Recurred': 'No'}\n",
      "XUePapMBMyiJ_kB7xKmN {'Age': 41, 'Gender': 'F', 'Smoking': 'No', 'Hx Smoking': 'Yes', 'Hx Radiothreapy': 'No', 'Thyroid Function': 'Clinical Hyperthyroidism', 'Physical Examination': 'Single nodular goiter-right', 'Adenopathy': 'No', 'Pathology': 'Micropapillary', 'Focality': 'Uni-Focal', 'Risk': 'Low', 'T': 'T1a', 'N': 'N0', 'M': 'M0', 'Stage': 'I', 'Response': 'Excellent', 'Recurred': 'No'}\n",
      "XkePapMBMyiJ_kB7xKmS {'Age': 46, 'Gender': 'F', 'Smoking': 'No', 'Hx Smoking': 'No', 'Hx Radiothreapy': 'No', 'Thyroid Function': 'Euthyroid', 'Physical Examination': 'Single nodular goiter-right', 'Adenopathy': 'No', 'Pathology': 'Micropapillary', 'Focality': 'Uni-Focal', 'Risk': 'Low', 'T': 'T1a', 'N': 'N0', 'M': 'M0', 'Stage': 'I', 'Response': 'Excellent', 'Recurred': 'No'}\n",
      "X0ePapMBMyiJ_kB7xKma {'Age': 51, 'Gender': 'F', 'Smoking': 'No', 'Hx Smoking': 'No', 'Hx Radiothreapy': 'No', 'Thyroid Function': 'Euthyroid', 'Physical Examination': 'Single nodular goiter-right', 'Adenopathy': 'No', 'Pathology': 'Micropapillary', 'Focality': 'Uni-Focal', 'Risk': 'Low', 'T': 'T1a', 'N': 'N0', 'M': 'M0', 'Stage': 'I', 'Response': 'Excellent', 'Recurred': 'No'}\n",
      "YEePapMBMyiJ_kB7xKmf {'Age': 40, 'Gender': 'F', 'Smoking': 'No', 'Hx Smoking': 'No', 'Hx Radiothreapy': 'No', 'Thyroid Function': 'Euthyroid', 'Physical Examination': 'Single nodular goiter-right', 'Adenopathy': 'No', 'Pathology': 'Micropapillary', 'Focality': 'Uni-Focal', 'Risk': 'Low', 'T': 'T1a', 'N': 'N0', 'M': 'M0', 'Stage': 'I', 'Response': 'Excellent', 'Recurred': 'No'}\n"
     ]
    }
   ],
   "source": [
    "response = es.search(index=\"thyroid_risk\", body={\n",
    "    \"query\": {\n",
    "        \"match_all\": {}\n",
    "    },\n",
    "    \"size\": 10  # Limite à 10 résultats\n",
    "})\n",
    "\n",
    "# Afficher les résultats\n",
    "for hit in response['hits']['hits']:\n",
    "    print(hit['_id'], hit['_source'])\n"
   ]
  },
  {
   "cell_type": "code",
   "execution_count": 48,
   "id": "87deddaf-a63f-4942-a318-d119101f1bba",
   "metadata": {},
   "outputs": [
    {
     "name": "stdout",
     "output_type": "stream",
     "text": [
      "ID: V0ePapMBMyiJ_kB7xKkW\n",
      "Age: 27\n",
      "Gender: F\n",
      "Smoking: No\n",
      "Hx Smoking: No\n",
      "Hx Radiothreapy: No\n",
      "Thyroid Function: Euthyroid\n",
      "Physical Examination: Single nodular goiter-left\n",
      "Adenopathy: No\n",
      "Pathology: Micropapillary\n",
      "Focality: Uni-Focal\n",
      "Risk: Low\n",
      "T: T1a\n",
      "N: N0\n",
      "M: M0\n",
      "Stage: I\n",
      "Response: Indeterminate\n",
      "Recurred: No\n",
      "--------------------------------------------------\n",
      "ID: WEePapMBMyiJ_kB7xKlt\n",
      "Age: 34\n",
      "Gender: F\n",
      "Smoking: No\n",
      "Hx Smoking: Yes\n",
      "Hx Radiothreapy: No\n",
      "Thyroid Function: Euthyroid\n",
      "Physical Examination: Multinodular goiter\n",
      "Adenopathy: No\n",
      "Pathology: Micropapillary\n",
      "Focality: Uni-Focal\n",
      "Risk: Low\n",
      "T: T1a\n",
      "N: N0\n",
      "M: M0\n",
      "Stage: I\n",
      "Response: Excellent\n",
      "Recurred: No\n",
      "--------------------------------------------------\n",
      "ID: WUePapMBMyiJ_kB7xKl1\n",
      "Age: 30\n",
      "Gender: F\n",
      "Smoking: No\n",
      "Hx Smoking: No\n",
      "Hx Radiothreapy: No\n",
      "Thyroid Function: Euthyroid\n",
      "Physical Examination: Single nodular goiter-right\n",
      "Adenopathy: No\n",
      "Pathology: Micropapillary\n",
      "Focality: Uni-Focal\n",
      "Risk: Low\n",
      "T: T1a\n",
      "N: N0\n",
      "M: M0\n",
      "Stage: I\n",
      "Response: Excellent\n",
      "Recurred: No\n",
      "--------------------------------------------------\n",
      "ID: WkePapMBMyiJ_kB7xKl9\n",
      "Age: 62\n",
      "Gender: F\n",
      "Smoking: No\n",
      "Hx Smoking: No\n",
      "Hx Radiothreapy: No\n",
      "Thyroid Function: Euthyroid\n",
      "Physical Examination: Single nodular goiter-right\n",
      "Adenopathy: No\n",
      "Pathology: Micropapillary\n",
      "Focality: Uni-Focal\n",
      "Risk: Low\n",
      "T: T1a\n",
      "N: N0\n",
      "M: M0\n",
      "Stage: I\n",
      "Response: Excellent\n",
      "Recurred: No\n",
      "--------------------------------------------------\n",
      "ID: W0ePapMBMyiJ_kB7xKmC\n",
      "Age: 62\n",
      "Gender: F\n",
      "Smoking: No\n",
      "Hx Smoking: No\n",
      "Hx Radiothreapy: No\n",
      "Thyroid Function: Euthyroid\n",
      "Physical Examination: Multinodular goiter\n",
      "Adenopathy: No\n",
      "Pathology: Micropapillary\n",
      "Focality: Multi-Focal\n",
      "Risk: Low\n",
      "T: T1a\n",
      "N: N0\n",
      "M: M0\n",
      "Stage: I\n",
      "Response: Excellent\n",
      "Recurred: No\n",
      "--------------------------------------------------\n",
      "ID: XEePapMBMyiJ_kB7xKmI\n",
      "Age: 52\n",
      "Gender: M\n",
      "Smoking: Yes\n",
      "Hx Smoking: No\n",
      "Hx Radiothreapy: No\n",
      "Thyroid Function: Euthyroid\n",
      "Physical Examination: Multinodular goiter\n",
      "Adenopathy: No\n",
      "Pathology: Micropapillary\n",
      "Focality: Multi-Focal\n",
      "Risk: Low\n",
      "T: T1a\n",
      "N: N0\n",
      "M: M0\n",
      "Stage: I\n",
      "Response: Indeterminate\n",
      "Recurred: No\n",
      "--------------------------------------------------\n",
      "ID: XUePapMBMyiJ_kB7xKmN\n",
      "Age: 41\n",
      "Gender: F\n",
      "Smoking: No\n",
      "Hx Smoking: Yes\n",
      "Hx Radiothreapy: No\n",
      "Thyroid Function: Clinical Hyperthyroidism\n",
      "Physical Examination: Single nodular goiter-right\n",
      "Adenopathy: No\n",
      "Pathology: Micropapillary\n",
      "Focality: Uni-Focal\n",
      "Risk: Low\n",
      "T: T1a\n",
      "N: N0\n",
      "M: M0\n",
      "Stage: I\n",
      "Response: Excellent\n",
      "Recurred: No\n",
      "--------------------------------------------------\n",
      "ID: XkePapMBMyiJ_kB7xKmS\n",
      "Age: 46\n",
      "Gender: F\n",
      "Smoking: No\n",
      "Hx Smoking: No\n",
      "Hx Radiothreapy: No\n",
      "Thyroid Function: Euthyroid\n",
      "Physical Examination: Single nodular goiter-right\n",
      "Adenopathy: No\n",
      "Pathology: Micropapillary\n",
      "Focality: Uni-Focal\n",
      "Risk: Low\n",
      "T: T1a\n",
      "N: N0\n",
      "M: M0\n",
      "Stage: I\n",
      "Response: Excellent\n",
      "Recurred: No\n",
      "--------------------------------------------------\n",
      "ID: X0ePapMBMyiJ_kB7xKma\n",
      "Age: 51\n",
      "Gender: F\n",
      "Smoking: No\n",
      "Hx Smoking: No\n",
      "Hx Radiothreapy: No\n",
      "Thyroid Function: Euthyroid\n",
      "Physical Examination: Single nodular goiter-right\n",
      "Adenopathy: No\n",
      "Pathology: Micropapillary\n",
      "Focality: Uni-Focal\n",
      "Risk: Low\n",
      "T: T1a\n",
      "N: N0\n",
      "M: M0\n",
      "Stage: I\n",
      "Response: Excellent\n",
      "Recurred: No\n",
      "--------------------------------------------------\n",
      "ID: YEePapMBMyiJ_kB7xKmf\n",
      "Age: 40\n",
      "Gender: F\n",
      "Smoking: No\n",
      "Hx Smoking: No\n",
      "Hx Radiothreapy: No\n",
      "Thyroid Function: Euthyroid\n",
      "Physical Examination: Single nodular goiter-right\n",
      "Adenopathy: No\n",
      "Pathology: Micropapillary\n",
      "Focality: Uni-Focal\n",
      "Risk: Low\n",
      "T: T1a\n",
      "N: N0\n",
      "M: M0\n",
      "Stage: I\n",
      "Response: Excellent\n",
      "Recurred: No\n",
      "--------------------------------------------------\n"
     ]
    }
   ],
   "source": [
    "# Exemple pour extraire les informations de chaque document de manière lisible\n",
    "for hit in response['hits']['hits']:\n",
    "    print(f\"ID: {hit['_id']}\")\n",
    "    for key, value in hit['_source'].items():\n",
    "        print(f\"{key}: {value}\")\n",
    "    print(\"-\" * 50)\n"
   ]
  },
  {
   "cell_type": "code",
   "execution_count": 49,
   "id": "0d120749-d9dd-45d5-aa1c-760911bf927b",
   "metadata": {},
   "outputs": [
    {
     "name": "stdout",
     "output_type": "stream",
     "text": [
      "Document mis à jour: {'_index': 'thyroid_risk', '_id': 'V0ePapMBMyiJ_kB7xKkW', '_version': 2, 'result': 'updated', '_shards': {'total': 1, 'successful': 1, 'failed': 0}, '_seq_no': 383, '_primary_term': 1}\n"
     ]
    }
   ],
   "source": [
    "#Mise à jour simple d'un champ\n",
    "#Mise à jour de l'âge d'un patient\n",
    "response = es.update(index=\"thyroid_risk\", id=\"V0ePapMBMyiJ_kB7xKkW\", body={\n",
    "    \"doc\": {\n",
    "        \"Age\": 28  # Augmenter l'âge de 1 an\n",
    "    }\n",
    "})\n",
    "\n",
    "print(\"Document mis à jour:\", response)\n"
   ]
  },
  {
   "cell_type": "code",
   "execution_count": 52,
   "id": "b0f69aa8-e3d9-46a4-9cf2-178dfeb12bc2",
   "metadata": {},
   "outputs": [
    {
     "name": "stdout",
     "output_type": "stream",
     "text": [
      "Document récupéré: {'Age': 28, 'Gender': 'F', 'Smoking': 'No', 'Hx Smoking': 'No', 'Hx Radiothreapy': 'No', 'Thyroid Function': 'Euthyroid', 'Physical Examination': 'Single nodular goiter-left', 'Adenopathy': 'No', 'Pathology': 'Micropapillary', 'Focality': 'Uni-Focal', 'Risk': 'Low', 'T': 'T1a', 'N': 'N0', 'M': 'M0', 'Stage': 'I', 'Response': 'Indeterminate', 'Recurred': 'No'}\n"
     ]
    }
   ],
   "source": [
    "document = es.get(index=\"thyroid_risk\", id=\"V0ePapMBMyiJ_kB7xKkW\")\n",
    "print(\"Document récupéré:\", document['_source'])\n"
   ]
  },
  {
   "cell_type": "code",
   "execution_count": 53,
   "id": "01819c6f-1283-4cb9-b001-0aa33fa87525",
   "metadata": {},
   "outputs": [
    {
     "name": "stdout",
     "output_type": "stream",
     "text": [
      "Document ckePapMBMyiJ_kB7xKns mis à jour: {'_index': 'thyroid_risk', '_id': 'ckePapMBMyiJ_kB7xKns', '_version': 2, 'result': 'updated', '_shards': {'total': 1, 'successful': 1, 'failed': 0}, '_seq_no': 384, '_primary_term': 1}\n",
      "Document gUePapMBMyiJ_kB7xakg mis à jour: {'_index': 'thyroid_risk', '_id': 'gUePapMBMyiJ_kB7xakg', '_version': 2, 'result': 'updated', '_shards': {'total': 1, 'successful': 1, 'failed': 0}, '_seq_no': 385, '_primary_term': 1}\n",
      "Document h0ePapMBMyiJ_kB7xak2 mis à jour: {'_index': 'thyroid_risk', '_id': 'h0ePapMBMyiJ_kB7xak2', '_version': 2, 'result': 'updated', '_shards': {'total': 1, 'successful': 1, 'failed': 0}, '_seq_no': 386, '_primary_term': 1}\n",
      "Document iEePapMBMyiJ_kB7xak6 mis à jour: {'_index': 'thyroid_risk', '_id': 'iEePapMBMyiJ_kB7xak6', '_version': 2, 'result': 'updated', '_shards': {'total': 1, 'successful': 1, 'failed': 0}, '_seq_no': 387, '_primary_term': 1}\n",
      "Document i0ePapMBMyiJ_kB7xalI mis à jour: {'_index': 'thyroid_risk', '_id': 'i0ePapMBMyiJ_kB7xalI', '_version': 2, 'result': 'updated', '_shards': {'total': 1, 'successful': 1, 'failed': 0}, '_seq_no': 388, '_primary_term': 1}\n",
      "Document jEePapMBMyiJ_kB7xalM mis à jour: {'_index': 'thyroid_risk', '_id': 'jEePapMBMyiJ_kB7xalM', '_version': 2, 'result': 'updated', '_shards': {'total': 1, 'successful': 1, 'failed': 0}, '_seq_no': 389, '_primary_term': 1}\n",
      "Document jUePapMBMyiJ_kB7xalP mis à jour: {'_index': 'thyroid_risk', '_id': 'jUePapMBMyiJ_kB7xalP', '_version': 2, 'result': 'updated', '_shards': {'total': 1, 'successful': 1, 'failed': 0}, '_seq_no': 390, '_primary_term': 1}\n",
      "Document jkePapMBMyiJ_kB7xalV mis à jour: {'_index': 'thyroid_risk', '_id': 'jkePapMBMyiJ_kB7xalV', '_version': 2, 'result': 'updated', '_shards': {'total': 1, 'successful': 1, 'failed': 0}, '_seq_no': 391, '_primary_term': 1}\n",
      "Document kEePapMBMyiJ_kB7xald mis à jour: {'_index': 'thyroid_risk', '_id': 'kEePapMBMyiJ_kB7xald', '_version': 2, 'result': 'updated', '_shards': {'total': 1, 'successful': 1, 'failed': 0}, '_seq_no': 392, '_primary_term': 1}\n",
      "Document kUePapMBMyiJ_kB7xalh mis à jour: {'_index': 'thyroid_risk', '_id': 'kUePapMBMyiJ_kB7xalh', '_version': 2, 'result': 'updated', '_shards': {'total': 1, 'successful': 1, 'failed': 0}, '_seq_no': 393, '_primary_term': 1}\n"
     ]
    }
   ],
   "source": [
    "#Mise à jour par recherche\n",
    "# Recherche des documents où l'âge est inférieur à 30\n",
    "response_search = es.search(index=\"thyroid_risk\", body={\n",
    "    \"query\": {\n",
    "        \"range\": {\n",
    "            \"Age\": {\n",
    "                \"lt\": 30  # Âge inférieur à 30\n",
    "            }\n",
    "        }\n",
    "    },\n",
    "    \"size\": 10  # Limiter à 10 documents\n",
    "})\n",
    "\n",
    "# Mise à jour des documents trouvés\n",
    "for hit in response_search['hits']['hits']:\n",
    "    doc_id = hit['_id']\n",
    "    response_update = es.update(index=\"thyroid_risk\", id=doc_id, body={\n",
    "        \"doc\": {\n",
    "            \"Risk\": \"High\"  # Exemple : mettre à jour le champ Risk à \"High\"\n",
    "        }\n",
    "    })\n",
    "    print(f\"Document {doc_id} mis à jour:\", response_update)\n"
   ]
  },
  {
   "cell_type": "code",
   "execution_count": 54,
   "id": "2e8d910a-dbdd-490a-9e21-76f09ba2df69",
   "metadata": {},
   "outputs": [
    {
     "name": "stdout",
     "output_type": "stream",
     "text": [
      "Document k0ePapMBMyiJ_kB7xalp mis à jour: {'_index': 'thyroid_risk', '_id': 'k0ePapMBMyiJ_kB7xalp', '_version': 2, 'result': 'updated', '_shards': {'total': 1, 'successful': 1, 'failed': 0}, '_seq_no': 394, '_primary_term': 1}\n",
      "Champs mis à jour: {'Age': 24, 'Gender': 'M', 'Smoking': 'No', 'Hx Smoking': 'No', 'Hx Radiothreapy': 'No', 'Thyroid Function': 'Euthyroid', 'Physical Examination': 'Single nodular goiter-left', 'Adenopathy': 'No', 'Pathology': 'Papillary', 'Focality': 'Uni-Focal', 'Risk': 'High', 'T': 'T1b', 'N': 'N0', 'M': 'M0', 'Stage': 'I', 'Response': 'Excellent', 'Recurred': 'No'}\n",
      "Document l0ePapMBMyiJ_kB7xal4 mis à jour: {'_index': 'thyroid_risk', '_id': 'l0ePapMBMyiJ_kB7xal4', '_version': 2, 'result': 'updated', '_shards': {'total': 1, 'successful': 1, 'failed': 0}, '_seq_no': 395, '_primary_term': 1}\n",
      "Champs mis à jour: {'Age': 22, 'Gender': 'F', 'Smoking': 'No', 'Hx Smoking': 'No', 'Hx Radiothreapy': 'No', 'Thyroid Function': 'Subclinical Hyperthyroidism', 'Physical Examination': 'Single nodular goiter-right', 'Adenopathy': 'No', 'Pathology': 'Papillary', 'Focality': 'Uni-Focal', 'Risk': 'High', 'T': 'T1b', 'N': 'N0', 'M': 'M0', 'Stage': 'I', 'Response': 'Excellent', 'Recurred': 'No'}\n",
      "Document m0ePapMBMyiJ_kB7xamH mis à jour: {'_index': 'thyroid_risk', '_id': 'm0ePapMBMyiJ_kB7xamH', '_version': 2, 'result': 'updated', '_shards': {'total': 1, 'successful': 1, 'failed': 0}, '_seq_no': 396, '_primary_term': 1}\n",
      "Champs mis à jour: {'Age': 22, 'Gender': 'M', 'Smoking': 'No', 'Hx Smoking': 'No', 'Hx Radiothreapy': 'No', 'Thyroid Function': 'Euthyroid', 'Physical Examination': 'Multinodular goiter', 'Adenopathy': 'No', 'Pathology': 'Papillary', 'Focality': 'Multi-Focal', 'Risk': 'High', 'T': 'T1b', 'N': 'N0', 'M': 'M0', 'Stage': 'I', 'Response': 'Excellent', 'Recurred': 'No'}\n",
      "Document oEePapMBMyiJ_kB7xama mis à jour: {'_index': 'thyroid_risk', '_id': 'oEePapMBMyiJ_kB7xama', '_version': 2, 'result': 'updated', '_shards': {'total': 1, 'successful': 1, 'failed': 0}, '_seq_no': 397, '_primary_term': 1}\n",
      "Champs mis à jour: {'Age': 29, 'Gender': 'F', 'Smoking': 'No', 'Hx Smoking': 'No', 'Hx Radiothreapy': 'No', 'Thyroid Function': 'Euthyroid', 'Physical Examination': 'Single nodular goiter-right', 'Adenopathy': 'No', 'Pathology': 'Papillary', 'Focality': 'Uni-Focal', 'Risk': 'High', 'T': 'T1b', 'N': 'N0', 'M': 'M0', 'Stage': 'I', 'Response': 'Excellent', 'Recurred': 'No'}\n",
      "Document okePapMBMyiJ_kB7xami mis à jour: {'_index': 'thyroid_risk', '_id': 'okePapMBMyiJ_kB7xami', '_version': 2, 'result': 'updated', '_shards': {'total': 1, 'successful': 1, 'failed': 0}, '_seq_no': 398, '_primary_term': 1}\n",
      "Champs mis à jour: {'Age': 28, 'Gender': 'F', 'Smoking': 'No', 'Hx Smoking': 'No', 'Hx Radiothreapy': 'No', 'Thyroid Function': 'Euthyroid', 'Physical Examination': 'Multinodular goiter', 'Adenopathy': 'No', 'Pathology': 'Papillary', 'Focality': 'Uni-Focal', 'Risk': 'High', 'T': 'T1b', 'N': 'N0', 'M': 'M0', 'Stage': 'I', 'Response': 'Excellent', 'Recurred': 'No'}\n",
      "Document o0ePapMBMyiJ_kB7xaml mis à jour: {'_index': 'thyroid_risk', '_id': 'o0ePapMBMyiJ_kB7xaml', '_version': 2, 'result': 'updated', '_shards': {'total': 1, 'successful': 1, 'failed': 0}, '_seq_no': 399, '_primary_term': 1}\n",
      "Champs mis à jour: {'Age': 22, 'Gender': 'F', 'Smoking': 'No', 'Hx Smoking': 'No', 'Hx Radiothreapy': 'No', 'Thyroid Function': 'Clinical Hypothyroidism', 'Physical Examination': 'Single nodular goiter-right', 'Adenopathy': 'No', 'Pathology': 'Papillary', 'Focality': 'Uni-Focal', 'Risk': 'High', 'T': 'T1b', 'N': 'N0', 'M': 'M0', 'Stage': 'I', 'Response': 'Excellent', 'Recurred': 'No'}\n",
      "Document pEePapMBMyiJ_kB7xamp mis à jour: {'_index': 'thyroid_risk', '_id': 'pEePapMBMyiJ_kB7xamp', '_version': 2, 'result': 'updated', '_shards': {'total': 1, 'successful': 1, 'failed': 0}, '_seq_no': 400, '_primary_term': 1}\n",
      "Champs mis à jour: {'Age': 29, 'Gender': 'F', 'Smoking': 'No', 'Hx Smoking': 'No', 'Hx Radiothreapy': 'No', 'Thyroid Function': 'Euthyroid', 'Physical Examination': 'Single nodular goiter-right', 'Adenopathy': 'No', 'Pathology': 'Papillary', 'Focality': 'Uni-Focal', 'Risk': 'High', 'T': 'T1b', 'N': 'N0', 'M': 'M0', 'Stage': 'I', 'Response': 'Excellent', 'Recurred': 'No'}\n",
      "Document p0ePapMBMyiJ_kB7xam1 mis à jour: {'_index': 'thyroid_risk', '_id': 'p0ePapMBMyiJ_kB7xam1', '_version': 2, 'result': 'updated', '_shards': {'total': 1, 'successful': 1, 'failed': 0}, '_seq_no': 401, '_primary_term': 1}\n",
      "Champs mis à jour: {'Age': 27, 'Gender': 'F', 'Smoking': 'No', 'Hx Smoking': 'No', 'Hx Radiothreapy': 'No', 'Thyroid Function': 'Clinical Hyperthyroidism', 'Physical Examination': 'Diffuse goiter', 'Adenopathy': 'No', 'Pathology': 'Papillary', 'Focality': 'Uni-Focal', 'Risk': 'High', 'T': 'T1b', 'N': 'N0', 'M': 'M0', 'Stage': 'I', 'Response': 'Excellent', 'Recurred': 'No'}\n",
      "Document qEePapMBMyiJ_kB7xam5 mis à jour: {'_index': 'thyroid_risk', '_id': 'qEePapMBMyiJ_kB7xam5', '_version': 2, 'result': 'updated', '_shards': {'total': 1, 'successful': 1, 'failed': 0}, '_seq_no': 402, '_primary_term': 1}\n",
      "Champs mis à jour: {'Age': 17, 'Gender': 'F', 'Smoking': 'No', 'Hx Smoking': 'Yes', 'Hx Radiothreapy': 'No', 'Thyroid Function': 'Euthyroid', 'Physical Examination': 'Single nodular goiter-right', 'Adenopathy': 'No', 'Pathology': 'Papillary', 'Focality': 'Uni-Focal', 'Risk': 'High', 'T': 'T1b', 'N': 'N0', 'M': 'M0', 'Stage': 'I', 'Response': 'Excellent', 'Recurred': 'No'}\n",
      "Document qUePapMBMyiJ_kB7xam9 mis à jour: {'_index': 'thyroid_risk', '_id': 'qUePapMBMyiJ_kB7xam9', '_version': 2, 'result': 'updated', '_shards': {'total': 1, 'successful': 1, 'failed': 0}, '_seq_no': 403, '_primary_term': 1}\n",
      "Champs mis à jour: {'Age': 27, 'Gender': 'F', 'Smoking': 'No', 'Hx Smoking': 'No', 'Hx Radiothreapy': 'No', 'Thyroid Function': 'Subclinical Hyperthyroidism', 'Physical Examination': 'Single nodular goiter-right', 'Adenopathy': 'No', 'Pathology': 'Papillary', 'Focality': 'Uni-Focal', 'Risk': 'High', 'T': 'T1b', 'N': 'N0', 'M': 'M0', 'Stage': 'I', 'Response': 'Excellent', 'Recurred': 'No'}\n"
     ]
    }
   ],
   "source": [
    "# Pour afficher le résultat de cette mise à jour \n",
    "# Recherche des documents où l'âge est inférieur à 30\n",
    "response_search = es.search(index=\"thyroid_risk\", body={\n",
    "    \"query\": {\n",
    "        \"range\": {\n",
    "            \"Age\": {\n",
    "                \"lt\": 30  # Âge inférieur à 30\n",
    "            }\n",
    "        }\n",
    "    },\n",
    "    \"size\": 10  # Limiter à 10 documents\n",
    "})\n",
    "\n",
    "# Mise à jour des documents trouvés et affichage des champs mis à jour\n",
    "for hit in response_search['hits']['hits']:\n",
    "    doc_id = hit['_id']\n",
    "    \n",
    "    # Mise à jour du document\n",
    "    response_update = es.update(index=\"thyroid_risk\", id=doc_id, body={\n",
    "        \"doc\": {\n",
    "            \"Risk\": \"High\"  # Exemple : mettre à jour le champ Risk à \"High\"\n",
    "        }\n",
    "    })\n",
    "    print(f\"Document {doc_id} mis à jour:\", response_update)\n",
    "    \n",
    "    # Récupérer le document mis à jour pour afficher les champs\n",
    "    updated_doc = es.get(index=\"thyroid_risk\", id=doc_id)\n",
    "    print(\"Champs mis à jour:\", updated_doc['_source'])  # Affiche les champs du document mis à jour\n"
   ]
  },
  {
   "cell_type": "code",
   "execution_count": 56,
   "id": "ffa13ac9-c5eb-49d2-8bb9-f8f699e2e387",
   "metadata": {},
   "outputs": [
    {
     "name": "stdout",
     "output_type": "stream",
     "text": [
      "Mise à jour en masse terminée: (2, [])\n",
      "Champs mis à jour du document WUePapMBMyiJ_kB7xKl1: {'Age': 31, 'Gender': 'F', 'Smoking': 'No', 'Hx Smoking': 'No', 'Hx Radiothreapy': 'No', 'Thyroid Function': 'Euthyroid', 'Physical Examination': 'Single nodular goiter-right', 'Adenopathy': 'No', 'Pathology': 'Micropapillary', 'Focality': 'Uni-Focal', 'Risk': 'Low', 'T': 'T1a', 'N': 'N0', 'M': 'M0', 'Stage': 'I', 'Response': 'Excellent', 'Recurred': 'No'}\n",
      "Champs mis à jour du document WkePapMBMyiJ_kB7xKl9: {'Age': 63, 'Gender': 'F', 'Smoking': 'No', 'Hx Smoking': 'No', 'Hx Radiothreapy': 'No', 'Thyroid Function': 'Euthyroid', 'Physical Examination': 'Single nodular goiter-right', 'Adenopathy': 'No', 'Pathology': 'Micropapillary', 'Focality': 'Uni-Focal', 'Risk': 'Low', 'T': 'T1a', 'N': 'N0', 'M': 'M0', 'Stage': 'I', 'Response': 'Excellent', 'Recurred': 'No'}\n"
     ]
    }
   ],
   "source": [
    "#Mise à jour en masse avec l'API Bulk\n",
    "from elasticsearch.helpers import bulk\n",
    "\n",
    "# Préparer les actions de mise à jour en masse\n",
    "actions = [\n",
    "    {\n",
    "        \"_op_type\": \"update\",  # Type d'opération (update)\n",
    "        \"_index\": \"thyroid_risk\",\n",
    "        \"_id\": \"WUePapMBMyiJ_kB7xKl1\",  # ID du document\n",
    "        \"doc\": {\n",
    "            \"Age\": 31  # Mise à jour de l'âge\n",
    "        }\n",
    "    },\n",
    "    {\n",
    "        \"_op_type\": \"update\",\n",
    "        \"_index\": \"thyroid_risk\",\n",
    "        \"_id\": \"WkePapMBMyiJ_kB7xKl9\",\n",
    "        \"doc\": {\n",
    "            \"Age\": 63  # Mise à jour de l'âge\n",
    "        }\n",
    "    }\n",
    "]\n",
    "\n",
    "# Exécuter la mise à jour en masse\n",
    "response = bulk(es, actions)\n",
    "\n",
    "# Afficher la réponse de mise à jour en masse\n",
    "print(\"Mise à jour en masse terminée:\", response)\n",
    "\n",
    "# Afficher les champs des documents mis à jour\n",
    "doc_ids = [\"WUePapMBMyiJ_kB7xKl1\", \"WkePapMBMyiJ_kB7xKl9\"]\n",
    "\n",
    "for doc_id in doc_ids:\n",
    "    # Récupérer le document mis à jour\n",
    "    updated_doc = es.get(index=\"thyroid_risk\", id=doc_id)\n",
    "    print(f\"Champs mis à jour du document {doc_id}: {updated_doc['_source']}\")\n",
    "\n"
   ]
  },
  {
   "cell_type": "code",
   "execution_count": 57,
   "id": "9d2a4881-35ab-47be-82f5-b109e936bd82",
   "metadata": {},
   "outputs": [
    {
     "name": "stdout",
     "output_type": "stream",
     "text": [
      "Requirement already satisfied: elasticsearch in c:\\users\\jawaher\\pycharmprojects\\projectbigdata\\venv\\lib\\site-packages (8.16.0)\n",
      "Requirement already satisfied: pandas in c:\\users\\jawaher\\pycharmprojects\\projectbigdata\\venv\\lib\\site-packages (2.2.3)\n",
      "Collecting matplotlib\n",
      "  Obtaining dependency information for matplotlib from https://files.pythonhosted.org/packages/71/a8/9b18bd1fef16f71821c890b4db3697be5102f2b839765d9608479cd33874/matplotlib-3.9.2-cp39-cp39-win_amd64.whl.metadata\n",
      "  Downloading matplotlib-3.9.2-cp39-cp39-win_amd64.whl.metadata (11 kB)\n",
      "Collecting seaborn\n",
      "  Obtaining dependency information for seaborn from https://files.pythonhosted.org/packages/83/11/00d3c3dfc25ad54e731d91449895a79e4bf2384dc3ac01809010ba88f6d5/seaborn-0.13.2-py3-none-any.whl.metadata\n",
      "  Downloading seaborn-0.13.2-py3-none-any.whl.metadata (5.4 kB)\n",
      "Requirement already satisfied: elastic-transport<9,>=8.15.1 in c:\\users\\jawaher\\pycharmprojects\\projectbigdata\\venv\\lib\\site-packages (from elasticsearch) (8.15.1)\n",
      "Requirement already satisfied: numpy>=1.22.4 in c:\\users\\jawaher\\pycharmprojects\\projectbigdata\\venv\\lib\\site-packages (from pandas) (2.0.2)\n",
      "Requirement already satisfied: python-dateutil>=2.8.2 in c:\\users\\jawaher\\pycharmprojects\\projectbigdata\\venv\\lib\\site-packages (from pandas) (2.9.0.post0)\n",
      "Requirement already satisfied: pytz>=2020.1 in c:\\users\\jawaher\\pycharmprojects\\projectbigdata\\venv\\lib\\site-packages (from pandas) (2024.2)\n",
      "Requirement already satisfied: tzdata>=2022.7 in c:\\users\\jawaher\\pycharmprojects\\projectbigdata\\venv\\lib\\site-packages (from pandas) (2024.2)\n",
      "Collecting contourpy>=1.0.1 (from matplotlib)\n",
      "  Obtaining dependency information for contourpy>=1.0.1 from https://files.pythonhosted.org/packages/53/23/db9f69676308e094d3c45f20cc52e12d10d64f027541c995d89c11ad5c75/contourpy-1.3.0-cp39-cp39-win_amd64.whl.metadata\n",
      "  Downloading contourpy-1.3.0-cp39-cp39-win_amd64.whl.metadata (5.4 kB)\n",
      "Collecting cycler>=0.10 (from matplotlib)\n",
      "  Obtaining dependency information for cycler>=0.10 from https://files.pythonhosted.org/packages/e7/05/c19819d5e3d95294a6f5947fb9b9629efb316b96de511b418c53d245aae6/cycler-0.12.1-py3-none-any.whl.metadata\n",
      "  Downloading cycler-0.12.1-py3-none-any.whl.metadata (3.8 kB)\n",
      "Collecting fonttools>=4.22.0 (from matplotlib)\n",
      "  Obtaining dependency information for fonttools>=4.22.0 from https://files.pythonhosted.org/packages/9b/fa/0bd359e011f71afb11f33d8f7adc9cd81213a42c8e62d05ba75befd228ad/fonttools-4.55.0-cp39-cp39-win_amd64.whl.metadata\n",
      "  Downloading fonttools-4.55.0-cp39-cp39-win_amd64.whl.metadata (167 kB)\n",
      "     ---------------------------------------- 0.0/167.9 kB ? eta -:--:--\n",
      "     -- ------------------------------------- 10.2/167.9 kB ? eta -:--:--\n",
      "     -- ------------------------------------- 10.2/167.9 kB ? eta -:--:--\n",
      "     ------ ------------------------------ 30.7/167.9 kB 217.9 kB/s eta 0:00:01\n",
      "     ------ ------------------------------ 30.7/167.9 kB 217.9 kB/s eta 0:00:01\n",
      "     ------ ------------------------------ 30.7/167.9 kB 217.9 kB/s eta 0:00:01\n",
      "     ------ ------------------------------ 30.7/167.9 kB 217.9 kB/s eta 0:00:01\n",
      "     ------ ------------------------------ 30.7/167.9 kB 217.9 kB/s eta 0:00:01\n",
      "     ------ ------------------------------ 30.7/167.9 kB 217.9 kB/s eta 0:00:01\n",
      "     --------- ---------------------------- 41.0/167.9 kB 81.9 kB/s eta 0:00:02\n",
      "     ------------------ ------------------ 81.9/167.9 kB 169.9 kB/s eta 0:00:01\n",
      "     -------------------- ---------------- 92.2/167.9 kB 174.7 kB/s eta 0:00:01\n",
      "     -------------------- ---------------- 92.2/167.9 kB 174.7 kB/s eta 0:00:01\n",
      "     ------------------------ ----------- 112.6/167.9 kB 177.2 kB/s eta 0:00:01\n",
      "     -------------------------- --------- 122.9/167.9 kB 180.2 kB/s eta 0:00:01\n",
      "     ------------------------------ ----- 143.4/167.9 kB 189.4 kB/s eta 0:00:01\n",
      "     ------------------------------ ----- 143.4/167.9 kB 189.4 kB/s eta 0:00:01\n",
      "     ------------------------------------ 167.9/167.9 kB 201.6 kB/s eta 0:00:00\n",
      "Collecting kiwisolver>=1.3.1 (from matplotlib)\n",
      "  Obtaining dependency information for kiwisolver>=1.3.1 from https://files.pythonhosted.org/packages/ef/17/cd10d020578764ea91740204edc6b3236ed8106228a46f568d716b11feb2/kiwisolver-1.4.7-cp39-cp39-win_amd64.whl.metadata\n",
      "  Downloading kiwisolver-1.4.7-cp39-cp39-win_amd64.whl.metadata (6.4 kB)\n",
      "Requirement already satisfied: packaging>=20.0 in c:\\users\\jawaher\\pycharmprojects\\projectbigdata\\venv\\lib\\site-packages (from matplotlib) (24.2)\n",
      "Collecting pillow>=8 (from matplotlib)\n",
      "  Obtaining dependency information for pillow>=8 from https://files.pythonhosted.org/packages/9f/e4/c90bf7889489f3a14803bd00d3645945dd476020ab67579985af8233ab30/pillow-11.0.0-cp39-cp39-win_amd64.whl.metadata\n",
      "  Downloading pillow-11.0.0-cp39-cp39-win_amd64.whl.metadata (9.3 kB)\n",
      "Collecting pyparsing>=2.3.1 (from matplotlib)\n",
      "  Obtaining dependency information for pyparsing>=2.3.1 from https://files.pythonhosted.org/packages/be/ec/2eb3cd785efd67806c46c13a17339708ddc346cbb684eade7a6e6f79536a/pyparsing-3.2.0-py3-none-any.whl.metadata\n",
      "  Downloading pyparsing-3.2.0-py3-none-any.whl.metadata (5.0 kB)\n",
      "Collecting importlib-resources>=3.2.0 (from matplotlib)\n",
      "  Obtaining dependency information for importlib-resources>=3.2.0 from https://files.pythonhosted.org/packages/e1/6a/4604f9ae2fa62ef47b9de2fa5ad599589d28c9fd1d335f32759813dfa91e/importlib_resources-6.4.5-py3-none-any.whl.metadata\n",
      "  Downloading importlib_resources-6.4.5-py3-none-any.whl.metadata (4.0 kB)\n",
      "Requirement already satisfied: urllib3<3,>=1.26.2 in c:\\users\\jawaher\\pycharmprojects\\projectbigdata\\venv\\lib\\site-packages (from elastic-transport<9,>=8.15.1->elasticsearch) (2.2.3)\n",
      "Requirement already satisfied: certifi in c:\\users\\jawaher\\pycharmprojects\\projectbigdata\\venv\\lib\\site-packages (from elastic-transport<9,>=8.15.1->elasticsearch) (2024.8.30)\n",
      "Requirement already satisfied: zipp>=3.1.0 in c:\\users\\jawaher\\pycharmprojects\\projectbigdata\\venv\\lib\\site-packages (from importlib-resources>=3.2.0->matplotlib) (3.21.0)\n",
      "Requirement already satisfied: six>=1.5 in c:\\users\\jawaher\\pycharmprojects\\projectbigdata\\venv\\lib\\site-packages (from python-dateutil>=2.8.2->pandas) (1.16.0)\n",
      "Downloading matplotlib-3.9.2-cp39-cp39-win_amd64.whl (7.8 MB)\n",
      "   ---------------------------------------- 0.0/7.8 MB ? eta -:--:--\n",
      "   ---------------------------------------- 0.0/7.8 MB ? eta -:--:--\n",
      "   ---------------------------------------- 0.0/7.8 MB 640.0 kB/s eta 0:00:13\n",
      "   ---------------------------------------- 0.0/7.8 MB 487.6 kB/s eta 0:00:16\n",
      "   ---------------------------------------- 0.1/7.8 MB 544.7 kB/s eta 0:00:15\n",
      "    --------------------------------------- 0.1/7.8 MB 490.2 kB/s eta 0:00:16\n",
      "    --------------------------------------- 0.1/7.8 MB 435.7 kB/s eta 0:00:18\n",
      "    --------------------------------------- 0.1/7.8 MB 435.7 kB/s eta 0:00:18\n",
      "    --------------------------------------- 0.1/7.8 MB 435.7 kB/s eta 0:00:18\n",
      "    --------------------------------------- 0.1/7.8 MB 314.3 kB/s eta 0:00:25\n",
      "    --------------------------------------- 0.1/7.8 MB 314.3 kB/s eta 0:00:25\n",
      "    --------------------------------------- 0.1/7.8 MB 314.3 kB/s eta 0:00:25\n",
      "    --------------------------------------- 0.1/7.8 MB 314.3 kB/s eta 0:00:25\n",
      "    --------------------------------------- 0.2/7.8 MB 280.8 kB/s eta 0:00:28\n",
      "    --------------------------------------- 0.2/7.8 MB 278.5 kB/s eta 0:00:28\n",
      "    --------------------------------------- 0.2/7.8 MB 274.3 kB/s eta 0:00:28\n",
      "    --------------------------------------- 0.2/7.8 MB 274.3 kB/s eta 0:00:28\n",
      "   - -------------------------------------- 0.2/7.8 MB 273.1 kB/s eta 0:00:28\n",
      "   - -------------------------------------- 0.2/7.8 MB 264.5 kB/s eta 0:00:29\n",
      "   - -------------------------------------- 0.2/7.8 MB 273.9 kB/s eta 0:00:28\n",
      "   - -------------------------------------- 0.3/7.8 MB 282.2 kB/s eta 0:00:27\n",
      "   - -------------------------------------- 0.3/7.8 MB 295.9 kB/s eta 0:00:26\n",
      "   - -------------------------------------- 0.3/7.8 MB 292.3 kB/s eta 0:00:26\n",
      "   - -------------------------------------- 0.3/7.8 MB 307.6 kB/s eta 0:00:25\n",
      "   - -------------------------------------- 0.4/7.8 MB 313.7 kB/s eta 0:00:24\n",
      "   - -------------------------------------- 0.4/7.8 MB 323.1 kB/s eta 0:00:24\n",
      "   -- ------------------------------------- 0.4/7.8 MB 331.7 kB/s eta 0:00:23\n",
      "   -- ------------------------------------- 0.4/7.8 MB 340.0 kB/s eta 0:00:22\n",
      "   -- ------------------------------------- 0.4/7.8 MB 339.7 kB/s eta 0:00:22\n",
      "   -- ------------------------------------- 0.5/7.8 MB 343.2 kB/s eta 0:00:22\n",
      "   -- ------------------------------------- 0.5/7.8 MB 353.9 kB/s eta 0:00:21\n",
      "   -- ------------------------------------- 0.5/7.8 MB 363.9 kB/s eta 0:00:21\n",
      "   -- ------------------------------------- 0.5/7.8 MB 363.9 kB/s eta 0:00:21\n",
      "   -- ------------------------------------- 0.5/7.8 MB 347.6 kB/s eta 0:00:21\n",
      "   -- ------------------------------------- 0.6/7.8 MB 360.3 kB/s eta 0:00:21\n",
      "   --- ------------------------------------ 0.6/7.8 MB 368.9 kB/s eta 0:00:20\n",
      "   --- ------------------------------------ 0.7/7.8 MB 389.3 kB/s eta 0:00:19\n",
      "   --- ------------------------------------ 0.7/7.8 MB 389.3 kB/s eta 0:00:19\n",
      "   --- ------------------------------------ 0.7/7.8 MB 389.3 kB/s eta 0:00:19\n",
      "   --- ------------------------------------ 0.7/7.8 MB 376.1 kB/s eta 0:00:19\n",
      "   --- ------------------------------------ 0.7/7.8 MB 376.1 kB/s eta 0:00:19\n",
      "   --- ------------------------------------ 0.7/7.8 MB 368.2 kB/s eta 0:00:20\n",
      "   --- ------------------------------------ 0.7/7.8 MB 368.2 kB/s eta 0:00:20\n",
      "   --- ------------------------------------ 0.8/7.8 MB 376.6 kB/s eta 0:00:19\n",
      "   --- ------------------------------------ 0.8/7.8 MB 376.6 kB/s eta 0:00:19\n",
      "   --- ------------------------------------ 0.8/7.8 MB 370.2 kB/s eta 0:00:20\n",
      "   ---- ----------------------------------- 0.8/7.8 MB 371.7 kB/s eta 0:00:19\n",
      "   ---- ----------------------------------- 0.8/7.8 MB 368.3 kB/s eta 0:00:20\n",
      "   ---- ----------------------------------- 0.8/7.8 MB 373.8 kB/s eta 0:00:19\n",
      "   ---- ----------------------------------- 0.9/7.8 MB 379.6 kB/s eta 0:00:19\n",
      "   ---- ----------------------------------- 0.9/7.8 MB 382.5 kB/s eta 0:00:19\n",
      "   ---- ----------------------------------- 1.0/7.8 MB 394.0 kB/s eta 0:00:18\n",
      "   ---- ----------------------------------- 1.0/7.8 MB 390.6 kB/s eta 0:00:18\n",
      "   ----- ---------------------------------- 1.0/7.8 MB 394.0 kB/s eta 0:00:18\n",
      "   ----- ---------------------------------- 1.0/7.8 MB 399.7 kB/s eta 0:00:18\n",
      "   ----- ---------------------------------- 1.0/7.8 MB 402.0 kB/s eta 0:00:17\n",
      "   ----- ---------------------------------- 1.1/7.8 MB 409.6 kB/s eta 0:00:17\n",
      "   ----- ---------------------------------- 1.1/7.8 MB 409.6 kB/s eta 0:00:17\n",
      "   ----- ---------------------------------- 1.1/7.8 MB 403.8 kB/s eta 0:00:17\n",
      "   ----- ---------------------------------- 1.1/7.8 MB 403.8 kB/s eta 0:00:17\n",
      "   ----- ---------------------------------- 1.1/7.8 MB 397.5 kB/s eta 0:00:17\n",
      "   ----- ---------------------------------- 1.1/7.8 MB 397.5 kB/s eta 0:00:17\n",
      "   ----- ---------------------------------- 1.1/7.8 MB 397.5 kB/s eta 0:00:17\n",
      "   ----- ---------------------------------- 1.2/7.8 MB 391.7 kB/s eta 0:00:17\n",
      "   ------ --------------------------------- 1.2/7.8 MB 389.1 kB/s eta 0:00:18\n",
      "   ------ --------------------------------- 1.2/7.8 MB 389.1 kB/s eta 0:00:18\n",
      "   ------ --------------------------------- 1.2/7.8 MB 387.8 kB/s eta 0:00:18\n",
      "   ------ --------------------------------- 1.2/7.8 MB 387.2 kB/s eta 0:00:18\n",
      "   ------ --------------------------------- 1.2/7.8 MB 386.0 kB/s eta 0:00:18\n",
      "   ------ --------------------------------- 1.2/7.8 MB 386.7 kB/s eta 0:00:17\n",
      "   ------ --------------------------------- 1.3/7.8 MB 386.2 kB/s eta 0:00:17\n",
      "   ------ --------------------------------- 1.3/7.8 MB 386.2 kB/s eta 0:00:17\n",
      "   ------ --------------------------------- 1.3/7.8 MB 377.9 kB/s eta 0:00:18\n",
      "   ------ --------------------------------- 1.3/7.8 MB 377.9 kB/s eta 0:00:18\n",
      "   ------ --------------------------------- 1.3/7.8 MB 376.5 kB/s eta 0:00:18\n",
      "   ------ --------------------------------- 1.3/7.8 MB 377.4 kB/s eta 0:00:18\n",
      "   ------ --------------------------------- 1.3/7.8 MB 376.9 kB/s eta 0:00:18\n",
      "   ------- -------------------------------- 1.4/7.8 MB 380.5 kB/s eta 0:00:17\n",
      "   ------- -------------------------------- 1.4/7.8 MB 379.7 kB/s eta 0:00:17\n",
      "   ------- -------------------------------- 1.4/7.8 MB 382.0 kB/s eta 0:00:17\n",
      "   ------- -------------------------------- 1.4/7.8 MB 382.0 kB/s eta 0:00:17\n",
      "   ------- -------------------------------- 1.4/7.8 MB 372.2 kB/s eta 0:00:18\n",
      "   ------- -------------------------------- 1.5/7.8 MB 375.6 kB/s eta 0:00:17\n",
      "   ------- -------------------------------- 1.5/7.8 MB 382.7 kB/s eta 0:00:17\n",
      "   ------- -------------------------------- 1.5/7.8 MB 384.8 kB/s eta 0:00:17\n",
      "   ------- -------------------------------- 1.6/7.8 MB 385.0 kB/s eta 0:00:17\n",
      "   ------- -------------------------------- 1.6/7.8 MB 385.0 kB/s eta 0:00:17\n",
      "   ------- -------------------------------- 1.6/7.8 MB 385.0 kB/s eta 0:00:17\n",
      "   ------- -------------------------------- 1.6/7.8 MB 385.0 kB/s eta 0:00:17\n",
      "   ------- -------------------------------- 1.6/7.8 MB 385.0 kB/s eta 0:00:17\n",
      "   -------- ------------------------------- 1.6/7.8 MB 368.6 kB/s eta 0:00:17\n",
      "   -------- ------------------------------- 1.6/7.8 MB 368.6 kB/s eta 0:00:17\n",
      "   -------- ------------------------------- 1.6/7.8 MB 369.0 kB/s eta 0:00:17\n",
      "   -------- ------------------------------- 1.6/7.8 MB 369.0 kB/s eta 0:00:17\n",
      "   -------- ------------------------------- 1.6/7.8 MB 366.1 kB/s eta 0:00:17\n",
      "   -------- ------------------------------- 1.6/7.8 MB 366.9 kB/s eta 0:00:17\n",
      "   -------- ------------------------------- 1.7/7.8 MB 367.6 kB/s eta 0:00:17\n",
      "   -------- ------------------------------- 1.7/7.8 MB 366.0 kB/s eta 0:00:17\n",
      "   -------- ------------------------------- 1.7/7.8 MB 366.5 kB/s eta 0:00:17\n",
      "   -------- ------------------------------- 1.7/7.8 MB 366.0 kB/s eta 0:00:17\n",
      "   -------- ------------------------------- 1.7/7.8 MB 366.0 kB/s eta 0:00:17\n",
      "   -------- ------------------------------- 1.8/7.8 MB 367.6 kB/s eta 0:00:17\n",
      "   --------- ------------------------------ 1.8/7.8 MB 368.1 kB/s eta 0:00:17\n",
      "   --------- ------------------------------ 1.8/7.8 MB 370.6 kB/s eta 0:00:17\n",
      "   --------- ------------------------------ 1.8/7.8 MB 370.6 kB/s eta 0:00:17\n",
      "   --------- ------------------------------ 1.8/7.8 MB 370.6 kB/s eta 0:00:17\n",
      "   --------- ------------------------------ 1.8/7.8 MB 364.5 kB/s eta 0:00:17\n",
      "   --------- ------------------------------ 1.8/7.8 MB 364.5 kB/s eta 0:00:17\n",
      "   --------- ------------------------------ 1.8/7.8 MB 364.5 kB/s eta 0:00:17\n",
      "   --------- ------------------------------ 1.8/7.8 MB 364.5 kB/s eta 0:00:17\n",
      "   --------- ------------------------------ 1.9/7.8 MB 358.4 kB/s eta 0:00:17\n",
      "   --------- ------------------------------ 1.9/7.8 MB 358.0 kB/s eta 0:00:17\n",
      "   --------- ------------------------------ 1.9/7.8 MB 358.7 kB/s eta 0:00:17\n",
      "   --------- ------------------------------ 1.9/7.8 MB 357.4 kB/s eta 0:00:17\n",
      "   --------- ------------------------------ 1.9/7.8 MB 359.2 kB/s eta 0:00:17\n",
      "   --------- ------------------------------ 1.9/7.8 MB 357.9 kB/s eta 0:00:17\n",
      "   --------- ------------------------------ 1.9/7.8 MB 357.9 kB/s eta 0:00:17\n",
      "   ---------- ----------------------------- 2.0/7.8 MB 352.6 kB/s eta 0:00:17\n",
      "   ---------- ----------------------------- 2.0/7.8 MB 354.2 kB/s eta 0:00:17\n",
      "   ---------- ----------------------------- 2.0/7.8 MB 353.2 kB/s eta 0:00:17\n",
      "   ---------- ----------------------------- 2.0/7.8 MB 354.8 kB/s eta 0:00:17\n",
      "   ---------- ----------------------------- 2.0/7.8 MB 356.3 kB/s eta 0:00:17\n",
      "   ---------- ----------------------------- 2.1/7.8 MB 358.7 kB/s eta 0:00:16\n",
      "   ---------- ----------------------------- 2.1/7.8 MB 358.7 kB/s eta 0:00:16\n",
      "   ---------- ----------------------------- 2.1/7.8 MB 356.5 kB/s eta 0:00:17\n",
      "   ---------- ----------------------------- 2.1/7.8 MB 356.3 kB/s eta 0:00:17\n",
      "   ---------- ----------------------------- 2.1/7.8 MB 357.0 kB/s eta 0:00:16\n",
      "   ----------- ---------------------------- 2.2/7.8 MB 362.6 kB/s eta 0:00:16\n",
      "   ----------- ---------------------------- 2.2/7.8 MB 363.1 kB/s eta 0:00:16\n",
      "   ----------- ---------------------------- 2.3/7.8 MB 367.8 kB/s eta 0:00:16\n",
      "   ----------- ---------------------------- 2.3/7.8 MB 371.4 kB/s eta 0:00:15\n",
      "   ------------ --------------------------- 2.4/7.8 MB 375.2 kB/s eta 0:00:15\n",
      "   ------------ --------------------------- 2.4/7.8 MB 379.8 kB/s eta 0:00:15\n",
      "   ------------ --------------------------- 2.4/7.8 MB 379.8 kB/s eta 0:00:15\n",
      "   ------------ --------------------------- 2.4/7.8 MB 379.8 kB/s eta 0:00:15\n",
      "   ------------ --------------------------- 2.4/7.8 MB 377.0 kB/s eta 0:00:15\n",
      "   ------------ --------------------------- 2.5/7.8 MB 377.4 kB/s eta 0:00:15\n",
      "   ------------ --------------------------- 2.5/7.8 MB 378.5 kB/s eta 0:00:15\n",
      "   ------------ --------------------------- 2.5/7.8 MB 378.5 kB/s eta 0:00:15\n",
      "   ------------ --------------------------- 2.5/7.8 MB 378.9 kB/s eta 0:00:15\n",
      "   ------------ --------------------------- 2.5/7.8 MB 379.1 kB/s eta 0:00:14\n",
      "   ------------- -------------------------- 2.6/7.8 MB 380.3 kB/s eta 0:00:14\n",
      "   ------------- -------------------------- 2.6/7.8 MB 382.3 kB/s eta 0:00:14\n",
      "   ------------- -------------------------- 2.6/7.8 MB 383.3 kB/s eta 0:00:14\n",
      "   ------------- -------------------------- 2.7/7.8 MB 385.1 kB/s eta 0:00:14\n",
      "   ------------- -------------------------- 2.7/7.8 MB 385.1 kB/s eta 0:00:14\n",
      "   ------------- -------------------------- 2.7/7.8 MB 383.7 kB/s eta 0:00:14\n",
      "   ------------- -------------------------- 2.7/7.8 MB 384.7 kB/s eta 0:00:14\n",
      "   ------------- -------------------------- 2.7/7.8 MB 387.3 kB/s eta 0:00:14\n",
      "   -------------- ------------------------- 2.8/7.8 MB 389.1 kB/s eta 0:00:13\n",
      "   -------------- ------------------------- 2.8/7.8 MB 389.1 kB/s eta 0:00:13\n",
      "   -------------- ------------------------- 2.8/7.8 MB 389.1 kB/s eta 0:00:13\n",
      "   -------------- ------------------------- 2.8/7.8 MB 385.2 kB/s eta 0:00:14\n",
      "   -------------- ------------------------- 2.8/7.8 MB 384.7 kB/s eta 0:00:14\n",
      "   -------------- ------------------------- 2.8/7.8 MB 384.7 kB/s eta 0:00:14\n",
      "   -------------- ------------------------- 2.8/7.8 MB 382.4 kB/s eta 0:00:14\n",
      "   -------------- ------------------------- 2.9/7.8 MB 382.5 kB/s eta 0:00:13\n",
      "   -------------- ------------------------- 2.9/7.8 MB 382.8 kB/s eta 0:00:13\n",
      "   -------------- ------------------------- 2.9/7.8 MB 383.0 kB/s eta 0:00:13\n",
      "   -------------- ------------------------- 2.9/7.8 MB 381.1 kB/s eta 0:00:13\n",
      "   --------------- ------------------------ 3.0/7.8 MB 383.9 kB/s eta 0:00:13\n",
      "   --------------- ------------------------ 3.0/7.8 MB 385.8 kB/s eta 0:00:13\n",
      "   --------------- ------------------------ 3.0/7.8 MB 385.8 kB/s eta 0:00:13\n",
      "   --------------- ------------------------ 3.1/7.8 MB 387.5 kB/s eta 0:00:13\n",
      "   --------------- ------------------------ 3.1/7.8 MB 391.7 kB/s eta 0:00:13\n",
      "   ---------------- ----------------------- 3.1/7.8 MB 392.7 kB/s eta 0:00:12\n",
      "   ---------------- ----------------------- 3.1/7.8 MB 392.4 kB/s eta 0:00:12\n",
      "   ---------------- ----------------------- 3.1/7.8 MB 392.4 kB/s eta 0:00:12\n",
      "   ---------------- ----------------------- 3.2/7.8 MB 390.4 kB/s eta 0:00:12\n",
      "   ---------------- ----------------------- 3.2/7.8 MB 388.7 kB/s eta 0:00:12\n",
      "   ---------------- ----------------------- 3.2/7.8 MB 391.4 kB/s eta 0:00:12\n",
      "   ---------------- ----------------------- 3.2/7.8 MB 392.9 kB/s eta 0:00:12\n",
      "   ---------------- ----------------------- 3.3/7.8 MB 396.2 kB/s eta 0:00:12\n",
      "   ----------------- ---------------------- 3.3/7.8 MB 398.3 kB/s eta 0:00:12\n",
      "   ----------------- ---------------------- 3.4/7.8 MB 402.7 kB/s eta 0:00:11\n",
      "   ----------------- ---------------------- 3.4/7.8 MB 404.1 kB/s eta 0:00:11\n",
      "   ----------------- ---------------------- 3.5/7.8 MB 407.9 kB/s eta 0:00:11\n",
      "   ------------------ --------------------- 3.5/7.8 MB 411.7 kB/s eta 0:00:11\n",
      "   ------------------ --------------------- 3.6/7.8 MB 416.2 kB/s eta 0:00:11\n",
      "   ------------------ --------------------- 3.6/7.8 MB 419.8 kB/s eta 0:00:10\n",
      "   ------------------ --------------------- 3.7/7.8 MB 422.3 kB/s eta 0:00:10\n",
      "   ------------------- -------------------- 3.7/7.8 MB 425.1 kB/s eta 0:00:10\n",
      "   ------------------- -------------------- 3.7/7.8 MB 426.4 kB/s eta 0:00:10\n",
      "   ------------------- -------------------- 3.8/7.8 MB 430.7 kB/s eta 0:00:10\n",
      "   ------------------- -------------------- 3.9/7.8 MB 433.4 kB/s eta 0:00:10\n",
      "   -------------------- ------------------- 3.9/7.8 MB 437.3 kB/s eta 0:00:09\n",
      "   -------------------- ------------------- 4.0/7.8 MB 438.8 kB/s eta 0:00:09\n",
      "   -------------------- ------------------- 4.0/7.8 MB 439.2 kB/s eta 0:00:09\n",
      "   -------------------- ------------------- 4.0/7.8 MB 439.2 kB/s eta 0:00:09\n",
      "   -------------------- ------------------- 4.0/7.8 MB 438.0 kB/s eta 0:00:09\n",
      "   -------------------- ------------------- 4.0/7.8 MB 438.8 kB/s eta 0:00:09\n",
      "   -------------------- ------------------- 4.1/7.8 MB 440.2 kB/s eta 0:00:09\n",
      "   --------------------- ------------------ 4.1/7.8 MB 444.3 kB/s eta 0:00:09\n",
      "   --------------------- ------------------ 4.1/7.8 MB 444.2 kB/s eta 0:00:09\n",
      "   --------------------- ------------------ 4.2/7.8 MB 445.3 kB/s eta 0:00:09\n",
      "   --------------------- ------------------ 4.2/7.8 MB 446.3 kB/s eta 0:00:09\n",
      "   --------------------- ------------------ 4.2/7.8 MB 447.3 kB/s eta 0:00:08\n",
      "   --------------------- ------------------ 4.3/7.8 MB 447.3 kB/s eta 0:00:08\n",
      "   --------------------- ------------------ 4.3/7.8 MB 448.3 kB/s eta 0:00:08\n",
      "   ---------------------- ----------------- 4.4/7.8 MB 453.6 kB/s eta 0:00:08\n",
      "   ---------------------- ----------------- 4.4/7.8 MB 455.3 kB/s eta 0:00:08\n",
      "   ---------------------- ----------------- 4.5/7.8 MB 460.8 kB/s eta 0:00:08\n",
      "   ----------------------- ---------------- 4.6/7.8 MB 466.3 kB/s eta 0:00:07\n",
      "   ----------------------- ---------------- 4.6/7.8 MB 469.6 kB/s eta 0:00:07\n",
      "   ------------------------ --------------- 4.7/7.8 MB 473.9 kB/s eta 0:00:07\n",
      "   ------------------------ --------------- 4.8/7.8 MB 477.8 kB/s eta 0:00:07\n",
      "   ------------------------ --------------- 4.8/7.8 MB 481.7 kB/s eta 0:00:07\n",
      "   ------------------------- -------------- 4.9/7.8 MB 486.6 kB/s eta 0:00:07\n",
      "   ------------------------- -------------- 4.9/7.8 MB 490.2 kB/s eta 0:00:06\n",
      "   ------------------------- -------------- 5.0/7.8 MB 490.2 kB/s eta 0:00:06\n",
      "   ------------------------- -------------- 5.0/7.8 MB 491.8 kB/s eta 0:00:06\n",
      "   ------------------------- -------------- 5.1/7.8 MB 494.7 kB/s eta 0:00:06\n",
      "   -------------------------- ------------- 5.1/7.8 MB 498.2 kB/s eta 0:00:06\n",
      "   -------------------------- ------------- 5.1/7.8 MB 499.0 kB/s eta 0:00:06\n",
      "   -------------------------- ------------- 5.2/7.8 MB 500.6 kB/s eta 0:00:06\n",
      "   -------------------------- ------------- 5.2/7.8 MB 502.1 kB/s eta 0:00:06\n",
      "   -------------------------- ------------- 5.3/7.8 MB 504.0 kB/s eta 0:00:06\n",
      "   -------------------------- ------------- 5.3/7.8 MB 503.5 kB/s eta 0:00:06\n",
      "   --------------------------- ------------ 5.3/7.8 MB 504.6 kB/s eta 0:00:05\n",
      "   --------------------------- ------------ 5.3/7.8 MB 505.8 kB/s eta 0:00:05\n",
      "   --------------------------- ------------ 5.4/7.8 MB 506.5 kB/s eta 0:00:05\n",
      "   --------------------------- ------------ 5.4/7.8 MB 505.2 kB/s eta 0:00:05\n",
      "   --------------------------- ------------ 5.5/7.8 MB 508.2 kB/s eta 0:00:05\n",
      "   ---------------------------- ----------- 5.5/7.8 MB 509.6 kB/s eta 0:00:05\n",
      "   ---------------------------- ----------- 5.6/7.8 MB 512.3 kB/s eta 0:00:05\n",
      "   ---------------------------- ----------- 5.6/7.8 MB 514.8 kB/s eta 0:00:05\n",
      "   ---------------------------- ----------- 5.7/7.8 MB 516.6 kB/s eta 0:00:05\n",
      "   ----------------------------- ---------- 5.7/7.8 MB 519.2 kB/s eta 0:00:05\n",
      "   ----------------------------- ---------- 5.8/7.8 MB 520.7 kB/s eta 0:00:04\n",
      "   ----------------------------- ---------- 5.8/7.8 MB 521.5 kB/s eta 0:00:04\n",
      "   ----------------------------- ---------- 5.8/7.8 MB 523.0 kB/s eta 0:00:04\n",
      "   ------------------------------ --------- 5.9/7.8 MB 525.4 kB/s eta 0:00:04\n",
      "   ------------------------------ --------- 6.0/7.8 MB 530.7 kB/s eta 0:00:04\n",
      "   ------------------------------ --------- 6.0/7.8 MB 530.7 kB/s eta 0:00:04\n",
      "   ------------------------------ --------- 6.0/7.8 MB 527.3 kB/s eta 0:00:04\n",
      "   ------------------------------ --------- 6.0/7.8 MB 527.3 kB/s eta 0:00:04\n",
      "   ------------------------------ --------- 6.0/7.8 MB 527.3 kB/s eta 0:00:04\n",
      "   ------------------------------ --------- 6.0/7.8 MB 527.3 kB/s eta 0:00:04\n",
      "   ------------------------------ --------- 6.0/7.8 MB 520.7 kB/s eta 0:00:04\n",
      "   ------------------------------- -------- 6.1/7.8 MB 521.3 kB/s eta 0:00:04\n",
      "   ------------------------------- -------- 6.1/7.8 MB 524.3 kB/s eta 0:00:04\n",
      "   ------------------------------- -------- 6.1/7.8 MB 524.3 kB/s eta 0:00:04\n",
      "   ------------------------------- -------- 6.1/7.8 MB 523.4 kB/s eta 0:00:04\n",
      "   ------------------------------- -------- 6.2/7.8 MB 521.7 kB/s eta 0:00:04\n",
      "   ------------------------------- -------- 6.2/7.8 MB 521.8 kB/s eta 0:00:04\n",
      "   ------------------------------- -------- 6.2/7.8 MB 522.7 kB/s eta 0:00:04\n",
      "   -------------------------------- ------- 6.3/7.8 MB 523.2 kB/s eta 0:00:03\n",
      "   -------------------------------- ------- 6.3/7.8 MB 524.2 kB/s eta 0:00:03\n",
      "   -------------------------------- ------- 6.3/7.8 MB 526.0 kB/s eta 0:00:03\n",
      "   -------------------------------- ------- 6.4/7.8 MB 527.2 kB/s eta 0:00:03\n",
      "   -------------------------------- ------- 6.4/7.8 MB 529.2 kB/s eta 0:00:03\n",
      "   -------------------------------- ------- 6.4/7.8 MB 529.0 kB/s eta 0:00:03\n",
      "   --------------------------------- ------ 6.5/7.8 MB 530.5 kB/s eta 0:00:03\n",
      "   --------------------------------- ------ 6.5/7.8 MB 531.8 kB/s eta 0:00:03\n",
      "   --------------------------------- ------ 6.6/7.8 MB 532.1 kB/s eta 0:00:03\n",
      "   --------------------------------- ------ 6.6/7.8 MB 533.2 kB/s eta 0:00:03\n",
      "   --------------------------------- ------ 6.6/7.8 MB 532.3 kB/s eta 0:00:03\n",
      "   --------------------------------- ------ 6.6/7.8 MB 533.4 kB/s eta 0:00:03\n",
      "   ---------------------------------- ----- 6.7/7.8 MB 533.6 kB/s eta 0:00:03\n",
      "   ---------------------------------- ----- 6.7/7.8 MB 532.8 kB/s eta 0:00:03\n",
      "   ---------------------------------- ----- 6.7/7.8 MB 531.6 kB/s eta 0:00:03\n",
      "   ---------------------------------- ----- 6.7/7.8 MB 533.5 kB/s eta 0:00:03\n",
      "   ---------------------------------- ----- 6.7/7.8 MB 532.3 kB/s eta 0:00:03\n",
      "   ---------------------------------- ----- 6.8/7.8 MB 532.2 kB/s eta 0:00:02\n",
      "   ---------------------------------- ----- 6.8/7.8 MB 534.2 kB/s eta 0:00:02\n",
      "   ----------------------------------- ---- 6.9/7.8 MB 537.9 kB/s eta 0:00:02\n",
      "   ----------------------------------- ---- 7.0/7.8 MB 541.6 kB/s eta 0:00:02\n",
      "   ------------------------------------ --- 7.1/7.8 MB 545.3 kB/s eta 0:00:02\n",
      "   ------------------------------------ --- 7.1/7.8 MB 547.4 kB/s eta 0:00:02\n",
      "   ------------------------------------ --- 7.2/7.8 MB 550.0 kB/s eta 0:00:02\n",
      "   ------------------------------------- -- 7.2/7.8 MB 552.8 kB/s eta 0:00:02\n",
      "   ------------------------------------- -- 7.3/7.8 MB 554.7 kB/s eta 0:00:01\n",
      "   ------------------------------------- -- 7.3/7.8 MB 555.7 kB/s eta 0:00:01\n",
      "   ------------------------------------- -- 7.4/7.8 MB 559.2 kB/s eta 0:00:01\n",
      "   -------------------------------------- - 7.5/7.8 MB 562.0 kB/s eta 0:00:01\n",
      "   -------------------------------------- - 7.6/7.8 MB 565.6 kB/s eta 0:00:01\n",
      "   -------------------------------------- - 7.6/7.8 MB 568.2 kB/s eta 0:00:01\n",
      "   ---------------------------------------  7.7/7.8 MB 570.8 kB/s eta 0:00:01\n",
      "   ---------------------------------------  7.8/7.8 MB 574.1 kB/s eta 0:00:01\n",
      "   ---------------------------------------  7.8/7.8 MB 576.6 kB/s eta 0:00:01\n",
      "   ---------------------------------------- 7.8/7.8 MB 576.0 kB/s eta 0:00:00\n",
      "Downloading seaborn-0.13.2-py3-none-any.whl (294 kB)\n",
      "   ---------------------------------------- 0.0/294.9 kB ? eta -:--:--\n",
      "   -------- ------------------------------- 61.4/294.9 kB 1.1 MB/s eta 0:00:01\n",
      "   --------------- ------------------------ 112.6/294.9 kB 1.3 MB/s eta 0:00:01\n",
      "   -------------------- ------------------- 153.6/294.9 kB 1.1 MB/s eta 0:00:01\n",
      "   ------------------------------ --------- 225.3/294.9 kB 1.3 MB/s eta 0:00:01\n",
      "   ---------------------------------------- 294.9/294.9 kB 1.2 MB/s eta 0:00:00\n",
      "Downloading contourpy-1.3.0-cp39-cp39-win_amd64.whl (211 kB)\n",
      "   ---------------------------------------- 0.0/211.8 kB ? eta -:--:--\n",
      "   ----------- ---------------------------- 61.4/211.8 kB 3.2 MB/s eta 0:00:01\n",
      "   ----------------------- ---------------- 122.9/211.8 kB 1.4 MB/s eta 0:00:01\n",
      "   ------------------------------------ --- 194.6/211.8 kB 1.5 MB/s eta 0:00:01\n",
      "   ---------------------------------------- 211.8/211.8 kB 1.4 MB/s eta 0:00:00\n",
      "Downloading cycler-0.12.1-py3-none-any.whl (8.3 kB)\n",
      "Downloading fonttools-4.55.0-cp39-cp39-win_amd64.whl (2.2 MB)\n",
      "   ---------------------------------------- 0.0/2.2 MB ? eta -:--:--\n",
      "   - -------------------------------------- 0.1/2.2 MB 1.7 MB/s eta 0:00:02\n",
      "   -- ------------------------------------- 0.1/2.2 MB 1.4 MB/s eta 0:00:02\n",
      "   --- ------------------------------------ 0.2/2.2 MB 1.6 MB/s eta 0:00:02\n",
      "   ---- ----------------------------------- 0.3/2.2 MB 1.6 MB/s eta 0:00:02\n",
      "   ----- ---------------------------------- 0.3/2.2 MB 1.4 MB/s eta 0:00:02\n",
      "   ------- -------------------------------- 0.4/2.2 MB 1.4 MB/s eta 0:00:02\n",
      "   ------- -------------------------------- 0.4/2.2 MB 1.3 MB/s eta 0:00:02\n",
      "   -------- ------------------------------- 0.5/2.2 MB 1.3 MB/s eta 0:00:02\n",
      "   --------- ------------------------------ 0.6/2.2 MB 1.3 MB/s eta 0:00:02\n",
      "   ---------- ----------------------------- 0.6/2.2 MB 1.3 MB/s eta 0:00:02\n",
      "   ----------- ---------------------------- 0.7/2.2 MB 1.3 MB/s eta 0:00:02\n",
      "   ------------ --------------------------- 0.7/2.2 MB 1.3 MB/s eta 0:00:02\n",
      "   ------------- -------------------------- 0.7/2.2 MB 1.2 MB/s eta 0:00:02\n",
      "   -------------- ------------------------- 0.8/2.2 MB 1.3 MB/s eta 0:00:02\n",
      "   --------------- ------------------------ 0.9/2.2 MB 1.3 MB/s eta 0:00:02\n",
      "   ---------------- ----------------------- 0.9/2.2 MB 1.3 MB/s eta 0:00:02\n",
      "   ----------------- ---------------------- 1.0/2.2 MB 1.2 MB/s eta 0:00:02\n",
      "   ------------------ --------------------- 1.0/2.2 MB 1.2 MB/s eta 0:00:01\n",
      "   ------------------- -------------------- 1.1/2.2 MB 1.2 MB/s eta 0:00:01\n",
      "   -------------------- ------------------- 1.1/2.2 MB 1.3 MB/s eta 0:00:01\n",
      "   --------------------- ------------------ 1.2/2.2 MB 1.2 MB/s eta 0:00:01\n",
      "   ---------------------- ----------------- 1.3/2.2 MB 1.2 MB/s eta 0:00:01\n",
      "   ------------------------ --------------- 1.3/2.2 MB 1.3 MB/s eta 0:00:01\n",
      "   ------------------------- -------------- 1.4/2.2 MB 1.3 MB/s eta 0:00:01\n",
      "   ------------------------- -------------- 1.4/2.2 MB 1.3 MB/s eta 0:00:01\n",
      "   ------------------------- -------------- 1.4/2.2 MB 1.3 MB/s eta 0:00:01\n",
      "   --------------------------- ------------ 1.5/2.2 MB 1.2 MB/s eta 0:00:01\n",
      "   ---------------------------- ----------- 1.6/2.2 MB 1.2 MB/s eta 0:00:01\n",
      "   ---------------------------- ----------- 1.6/2.2 MB 1.2 MB/s eta 0:00:01\n",
      "   ----------------------------- ---------- 1.6/2.2 MB 1.1 MB/s eta 0:00:01\n",
      "   ------------------------------ --------- 1.7/2.2 MB 1.1 MB/s eta 0:00:01\n",
      "   ------------------------------ --------- 1.7/2.2 MB 1.1 MB/s eta 0:00:01\n",
      "   ------------------------------- -------- 1.7/2.2 MB 1.1 MB/s eta 0:00:01\n",
      "   ------------------------------- -------- 1.8/2.2 MB 1.1 MB/s eta 0:00:01\n",
      "   -------------------------------- ------- 1.8/2.2 MB 1.1 MB/s eta 0:00:01\n",
      "   -------------------------------- ------- 1.8/2.2 MB 1.1 MB/s eta 0:00:01\n",
      "   --------------------------------- ------ 1.8/2.2 MB 1.1 MB/s eta 0:00:01\n",
      "   ---------------------------------- ----- 1.9/2.2 MB 1.1 MB/s eta 0:00:01\n",
      "   ---------------------------------- ----- 1.9/2.2 MB 1.0 MB/s eta 0:00:01\n",
      "   ----------------------------------- ---- 1.9/2.2 MB 1.0 MB/s eta 0:00:01\n",
      "   ------------------------------------ --- 2.0/2.2 MB 1.0 MB/s eta 0:00:01\n",
      "   ------------------------------------ --- 2.0/2.2 MB 1.0 MB/s eta 0:00:01\n",
      "   ------------------------------------- -- 2.1/2.2 MB 1.0 MB/s eta 0:00:01\n",
      "   -------------------------------------- - 2.1/2.2 MB 1.0 MB/s eta 0:00:01\n",
      "   -------------------------------------- - 2.1/2.2 MB 1.0 MB/s eta 0:00:01\n",
      "   -------------------------------------- - 2.1/2.2 MB 987.9 kB/s eta 0:00:01\n",
      "   ---------------------------------------  2.2/2.2 MB 983.3 kB/s eta 0:00:01\n",
      "   ---------------------------------------  2.2/2.2 MB 960.3 kB/s eta 0:00:01\n",
      "   ---------------------------------------  2.2/2.2 MB 952.2 kB/s eta 0:00:01\n",
      "   ---------------------------------------- 2.2/2.2 MB 940.4 kB/s eta 0:00:00\n",
      "Downloading importlib_resources-6.4.5-py3-none-any.whl (36 kB)\n",
      "Downloading kiwisolver-1.4.7-cp39-cp39-win_amd64.whl (55 kB)\n",
      "   ---------------------------------------- 0.0/55.8 kB ? eta -:--:--\n",
      "   ------- -------------------------------- 10.2/55.8 kB ? eta -:--:--\n",
      "   ------- -------------------------------- 10.2/55.8 kB ? eta -:--:--\n",
      "   ------- -------------------------------- 10.2/55.8 kB ? eta -:--:--\n",
      "   ------- -------------------------------- 10.2/55.8 kB ? eta -:--:--\n",
      "   ---------------------- ----------------- 30.7/55.8 kB 100.9 kB/s eta 0:00:01\n",
      "   ---------------------------------------- 55.8/55.8 kB 182.4 kB/s eta 0:00:00\n",
      "Downloading pillow-11.0.0-cp39-cp39-win_amd64.whl (2.6 MB)\n",
      "   ---------------------------------------- 0.0/2.6 MB ? eta -:--:--\n",
      "   ---------------------------------------- 0.0/2.6 MB ? eta -:--:--\n",
      "   ---------------------------------------- 0.0/2.6 MB 660.6 kB/s eta 0:00:04\n",
      "    --------------------------------------- 0.0/2.6 MB 393.8 kB/s eta 0:00:07\n",
      "   - -------------------------------------- 0.1/2.6 MB 573.4 kB/s eta 0:00:05\n",
      "   - -------------------------------------- 0.1/2.6 MB 525.1 kB/s eta 0:00:05\n",
      "   - -------------------------------------- 0.1/2.6 MB 481.4 kB/s eta 0:00:06\n",
      "   -- ------------------------------------- 0.2/2.6 MB 546.6 kB/s eta 0:00:05\n",
      "   -- ------------------------------------- 0.2/2.6 MB 525.1 kB/s eta 0:00:05\n",
      "   --- ------------------------------------ 0.2/2.6 MB 541.9 kB/s eta 0:00:05\n",
      "   --- ------------------------------------ 0.2/2.6 MB 603.9 kB/s eta 0:00:04\n",
      "   ---- ----------------------------------- 0.3/2.6 MB 567.7 kB/s eta 0:00:05\n",
      "   ---- ----------------------------------- 0.3/2.6 MB 593.9 kB/s eta 0:00:04\n",
      "   ----- ---------------------------------- 0.3/2.6 MB 617.1 kB/s eta 0:00:04\n",
      "   ------ --------------------------------- 0.4/2.6 MB 622.1 kB/s eta 0:00:04\n",
      "   ------ --------------------------------- 0.4/2.6 MB 640.0 kB/s eta 0:00:04\n",
      "   ------- -------------------------------- 0.5/2.6 MB 670.7 kB/s eta 0:00:04\n",
      "   ------- -------------------------------- 0.5/2.6 MB 669.4 kB/s eta 0:00:04\n",
      "   ------- -------------------------------- 0.5/2.6 MB 629.3 kB/s eta 0:00:04\n",
      "   -------- ------------------------------- 0.5/2.6 MB 642.4 kB/s eta 0:00:04\n",
      "   -------- ------------------------------- 0.5/2.6 MB 608.0 kB/s eta 0:00:04\n",
      "   -------- ------------------------------- 0.5/2.6 MB 608.0 kB/s eta 0:00:04\n",
      "   -------- ------------------------------- 0.6/2.6 MB 581.2 kB/s eta 0:00:04\n",
      "   -------- ------------------------------- 0.6/2.6 MB 581.2 kB/s eta 0:00:04\n",
      "   -------- ------------------------------- 0.6/2.6 MB 581.2 kB/s eta 0:00:04\n",
      "   -------- ------------------------------- 0.6/2.6 MB 581.2 kB/s eta 0:00:04\n",
      "   --------- ------------------------------ 0.6/2.6 MB 509.0 kB/s eta 0:00:04\n",
      "   --------- ------------------------------ 0.6/2.6 MB 519.2 kB/s eta 0:00:04\n",
      "   ---------- ----------------------------- 0.7/2.6 MB 510.0 kB/s eta 0:00:04\n",
      "   ---------- ----------------------------- 0.7/2.6 MB 510.0 kB/s eta 0:00:04\n",
      "   ---------- ----------------------------- 0.7/2.6 MB 487.6 kB/s eta 0:00:04\n",
      "   ---------- ----------------------------- 0.7/2.6 MB 487.6 kB/s eta 0:00:04\n",
      "   ---------- ----------------------------- 0.7/2.6 MB 460.1 kB/s eta 0:00:05\n",
      "   ---------- ----------------------------- 0.7/2.6 MB 460.1 kB/s eta 0:00:05\n",
      "   ---------- ----------------------------- 0.7/2.6 MB 460.1 kB/s eta 0:00:05\n",
      "   ---------- ----------------------------- 0.7/2.6 MB 460.1 kB/s eta 0:00:05\n",
      "   ---------- ----------------------------- 0.7/2.6 MB 426.4 kB/s eta 0:00:05\n",
      "   ---------- ----------------------------- 0.7/2.6 MB 426.4 kB/s eta 0:00:05\n",
      "   ----------- ---------------------------- 0.7/2.6 MB 414.9 kB/s eta 0:00:05\n",
      "   ----------- ---------------------------- 0.7/2.6 MB 414.9 kB/s eta 0:00:05\n",
      "   ----------- ---------------------------- 0.7/2.6 MB 401.2 kB/s eta 0:00:05\n",
      "   ----------- ---------------------------- 0.8/2.6 MB 397.6 kB/s eta 0:00:05\n",
      "   ----------- ---------------------------- 0.8/2.6 MB 397.6 kB/s eta 0:00:05\n",
      "   ------------ --------------------------- 0.8/2.6 MB 393.2 kB/s eta 0:00:05\n",
      "   ------------ --------------------------- 0.8/2.6 MB 394.2 kB/s eta 0:00:05\n",
      "   ------------ --------------------------- 0.8/2.6 MB 392.3 kB/s eta 0:00:05\n",
      "   ------------ --------------------------- 0.8/2.6 MB 392.3 kB/s eta 0:00:05\n",
      "   ------------ --------------------------- 0.8/2.6 MB 392.3 kB/s eta 0:00:05\n",
      "   ------------ --------------------------- 0.8/2.6 MB 392.3 kB/s eta 0:00:05\n",
      "   ------------ --------------------------- 0.8/2.6 MB 392.3 kB/s eta 0:00:05\n",
      "   ------------ --------------------------- 0.8/2.6 MB 392.3 kB/s eta 0:00:05\n",
      "   ------------ --------------------------- 0.8/2.6 MB 392.3 kB/s eta 0:00:05\n",
      "   ------------ --------------------------- 0.8/2.6 MB 392.3 kB/s eta 0:00:05\n",
      "   ------------ --------------------------- 0.8/2.6 MB 392.3 kB/s eta 0:00:05\n",
      "   ------------ --------------------------- 0.8/2.6 MB 327.7 kB/s eta 0:00:06\n",
      "   ------------ --------------------------- 0.8/2.6 MB 327.7 kB/s eta 0:00:06\n",
      "   ------------- -------------------------- 0.8/2.6 MB 323.7 kB/s eta 0:00:06\n",
      "   ------------- -------------------------- 0.9/2.6 MB 323.8 kB/s eta 0:00:06\n",
      "   ------------- -------------------------- 0.9/2.6 MB 323.8 kB/s eta 0:00:06\n",
      "   ------------- -------------------------- 0.9/2.6 MB 320.1 kB/s eta 0:00:06\n",
      "   ------------- -------------------------- 0.9/2.6 MB 320.1 kB/s eta 0:00:06\n",
      "   -------------- ------------------------- 0.9/2.6 MB 316.8 kB/s eta 0:00:06\n",
      "   -------------- ------------------------- 0.9/2.6 MB 313.4 kB/s eta 0:00:06\n",
      "   -------------- ------------------------- 0.9/2.6 MB 313.8 kB/s eta 0:00:06\n",
      "   -------------- ------------------------- 0.9/2.6 MB 312.3 kB/s eta 0:00:06\n",
      "   -------------- ------------------------- 1.0/2.6 MB 315.9 kB/s eta 0:00:06\n",
      "   --------------- ------------------------ 1.0/2.6 MB 317.7 kB/s eta 0:00:05\n",
      "   --------------- ------------------------ 1.0/2.6 MB 316.2 kB/s eta 0:00:05\n",
      "   --------------- ------------------------ 1.0/2.6 MB 319.6 kB/s eta 0:00:05\n",
      "   ---------------- ----------------------- 1.0/2.6 MB 324.5 kB/s eta 0:00:05\n",
      "   ---------------- ----------------------- 1.1/2.6 MB 326.2 kB/s eta 0:00:05\n",
      "   ----------------- ---------------------- 1.1/2.6 MB 332.3 kB/s eta 0:00:05\n",
      "   ----------------- ---------------------- 1.1/2.6 MB 339.9 kB/s eta 0:00:05\n",
      "   ------------------ --------------------- 1.2/2.6 MB 339.8 kB/s eta 0:00:05\n",
      "   ------------------ --------------------- 1.2/2.6 MB 342.6 kB/s eta 0:00:05\n",
      "   ------------------- -------------------- 1.2/2.6 MB 351.3 kB/s eta 0:00:04\n",
      "   ------------------- -------------------- 1.3/2.6 MB 355.4 kB/s eta 0:00:04\n",
      "   -------------------- ------------------- 1.3/2.6 MB 357.7 kB/s eta 0:00:04\n",
      "   -------------------- ------------------- 1.3/2.6 MB 363.2 kB/s eta 0:00:04\n",
      "   --------------------- ------------------ 1.4/2.6 MB 365.3 kB/s eta 0:00:04\n",
      "   ---------------------- ----------------- 1.4/2.6 MB 375.7 kB/s eta 0:00:04\n",
      "   ---------------------- ----------------- 1.4/2.6 MB 379.6 kB/s eta 0:00:03\n",
      "   ---------------------- ----------------- 1.5/2.6 MB 378.8 kB/s eta 0:00:03\n",
      "   ----------------------- ---------------- 1.5/2.6 MB 387.4 kB/s eta 0:00:03\n",
      "   ------------------------ --------------- 1.6/2.6 MB 395.9 kB/s eta 0:00:03\n",
      "   ------------------------- -------------- 1.6/2.6 MB 405.1 kB/s eta 0:00:03\n",
      "   ------------------------- -------------- 1.6/2.6 MB 409.6 kB/s eta 0:00:03\n",
      "   -------------------------- ------------- 1.7/2.6 MB 421.9 kB/s eta 0:00:02\n",
      "   --------------------------- ------------ 1.8/2.6 MB 429.5 kB/s eta 0:00:02\n",
      "   ---------------------------- ----------- 1.8/2.6 MB 438.6 kB/s eta 0:00:02\n",
      "   ----------------------------- ---------- 1.9/2.6 MB 441.0 kB/s eta 0:00:02\n",
      "   ----------------------------- ---------- 1.9/2.6 MB 439.4 kB/s eta 0:00:02\n",
      "   ----------------------------- ---------- 1.9/2.6 MB 444.1 kB/s eta 0:00:02\n",
      "   ----------------------------- ---------- 1.9/2.6 MB 444.1 kB/s eta 0:00:02\n",
      "   ------------------------------ --------- 2.0/2.6 MB 443.9 kB/s eta 0:00:02\n",
      "   ------------------------------- -------- 2.0/2.6 MB 449.2 kB/s eta 0:00:02\n",
      "   ------------------------------- -------- 2.0/2.6 MB 449.2 kB/s eta 0:00:02\n",
      "   ------------------------------- -------- 2.0/2.6 MB 442.3 kB/s eta 0:00:02\n",
      "   ------------------------------- -------- 2.0/2.6 MB 443.6 kB/s eta 0:00:02\n",
      "   ------------------------------- -------- 2.0/2.6 MB 442.1 kB/s eta 0:00:02\n",
      "   ------------------------------- -------- 2.0/2.6 MB 442.1 kB/s eta 0:00:02\n",
      "   ------------------------------- -------- 2.0/2.6 MB 442.1 kB/s eta 0:00:02\n",
      "   -------------------------------- ------- 2.1/2.6 MB 439.1 kB/s eta 0:00:02\n",
      "   --------------------------------- ------ 2.1/2.6 MB 442.6 kB/s eta 0:00:01\n",
      "   --------------------------------- ------ 2.2/2.6 MB 443.9 kB/s eta 0:00:01\n",
      "   ---------------------------------- ----- 2.2/2.6 MB 447.3 kB/s eta 0:00:01\n",
      "   ---------------------------------- ----- 2.2/2.6 MB 443.8 kB/s eta 0:00:01\n",
      "   ----------------------------------- ---- 2.3/2.6 MB 445.7 kB/s eta 0:00:01\n",
      "   ----------------------------------- ---- 2.3/2.6 MB 449.7 kB/s eta 0:00:01\n",
      "   ------------------------------------ --- 2.3/2.6 MB 453.0 kB/s eta 0:00:01\n",
      "   ------------------------------------- -- 2.4/2.6 MB 456.0 kB/s eta 0:00:01\n",
      "   ------------------------------------- -- 2.4/2.6 MB 458.4 kB/s eta 0:00:01\n",
      "   -------------------------------------- - 2.5/2.6 MB 462.0 kB/s eta 0:00:01\n",
      "   -------------------------------------- - 2.5/2.6 MB 465.6 kB/s eta 0:00:01\n",
      "   ---------------------------------------  2.5/2.6 MB 470.6 kB/s eta 0:00:01\n",
      "   ---------------------------------------- 2.6/2.6 MB 471.5 kB/s eta 0:00:00\n",
      "Downloading pyparsing-3.2.0-py3-none-any.whl (106 kB)\n",
      "   ---------------------------------------- 0.0/106.9 kB ? eta -:--:--\n",
      "   ----------- --------------------------- 30.7/106.9 kB 660.6 kB/s eta 0:00:01\n",
      "   -------------- ------------------------ 41.0/106.9 kB 495.5 kB/s eta 0:00:01\n",
      "   ---------------------- ---------------- 61.4/106.9 kB 409.6 kB/s eta 0:00:01\n",
      "   ----------------------------- --------- 81.9/106.9 kB 459.5 kB/s eta 0:00:01\n",
      "   -------------------------------------- 106.9/106.9 kB 476.3 kB/s eta 0:00:00\n",
      "Installing collected packages: pyparsing, pillow, kiwisolver, importlib-resources, fonttools, cycler, contourpy, matplotlib, seaborn\n",
      "Successfully installed contourpy-1.3.0 cycler-0.12.1 fonttools-4.55.0 importlib-resources-6.4.5 kiwisolver-1.4.7 matplotlib-3.9.2 pillow-11.0.0 pyparsing-3.2.0 seaborn-0.13.2\n",
      "Note: you may need to restart the kernel to use updated packages.\n"
     ]
    },
    {
     "name": "stderr",
     "output_type": "stream",
     "text": [
      "\n",
      "[notice] A new release of pip is available: 23.2.1 -> 24.3.1\n",
      "[notice] To update, run: python.exe -m pip install --upgrade pip\n"
     ]
    }
   ],
   "source": [
    "pip install elasticsearch pandas matplotlib seaborn\n"
   ]
  },
  {
   "cell_type": "code",
   "execution_count": 58,
   "id": "3c612436-94b5-4664-b92c-5bf058525c0b",
   "metadata": {},
   "outputs": [
    {
     "data": {
      "text/html": [
       "<div>\n",
       "<style scoped>\n",
       "    .dataframe tbody tr th:only-of-type {\n",
       "        vertical-align: middle;\n",
       "    }\n",
       "\n",
       "    .dataframe tbody tr th {\n",
       "        vertical-align: top;\n",
       "    }\n",
       "\n",
       "    .dataframe thead th {\n",
       "        text-align: right;\n",
       "    }\n",
       "</style>\n",
       "<table border=\"1\" class=\"dataframe\">\n",
       "  <thead>\n",
       "    <tr style=\"text-align: right;\">\n",
       "      <th></th>\n",
       "      <th>Age</th>\n",
       "      <th>Gender</th>\n",
       "      <th>Smoking</th>\n",
       "      <th>Hx Smoking</th>\n",
       "      <th>Hx Radiothreapy</th>\n",
       "      <th>Thyroid Function</th>\n",
       "      <th>Physical Examination</th>\n",
       "      <th>Adenopathy</th>\n",
       "      <th>Pathology</th>\n",
       "      <th>Focality</th>\n",
       "      <th>Risk</th>\n",
       "      <th>T</th>\n",
       "      <th>N</th>\n",
       "      <th>M</th>\n",
       "      <th>Stage</th>\n",
       "      <th>Response</th>\n",
       "      <th>Recurred</th>\n",
       "    </tr>\n",
       "  </thead>\n",
       "  <tbody>\n",
       "    <tr>\n",
       "      <th>0</th>\n",
       "      <td>34</td>\n",
       "      <td>F</td>\n",
       "      <td>No</td>\n",
       "      <td>Yes</td>\n",
       "      <td>No</td>\n",
       "      <td>Euthyroid</td>\n",
       "      <td>Multinodular goiter</td>\n",
       "      <td>No</td>\n",
       "      <td>Micropapillary</td>\n",
       "      <td>Uni-Focal</td>\n",
       "      <td>Low</td>\n",
       "      <td>T1a</td>\n",
       "      <td>N0</td>\n",
       "      <td>M0</td>\n",
       "      <td>I</td>\n",
       "      <td>Excellent</td>\n",
       "      <td>No</td>\n",
       "    </tr>\n",
       "    <tr>\n",
       "      <th>1</th>\n",
       "      <td>62</td>\n",
       "      <td>F</td>\n",
       "      <td>No</td>\n",
       "      <td>No</td>\n",
       "      <td>No</td>\n",
       "      <td>Euthyroid</td>\n",
       "      <td>Multinodular goiter</td>\n",
       "      <td>No</td>\n",
       "      <td>Micropapillary</td>\n",
       "      <td>Multi-Focal</td>\n",
       "      <td>Low</td>\n",
       "      <td>T1a</td>\n",
       "      <td>N0</td>\n",
       "      <td>M0</td>\n",
       "      <td>I</td>\n",
       "      <td>Excellent</td>\n",
       "      <td>No</td>\n",
       "    </tr>\n",
       "    <tr>\n",
       "      <th>2</th>\n",
       "      <td>52</td>\n",
       "      <td>M</td>\n",
       "      <td>Yes</td>\n",
       "      <td>No</td>\n",
       "      <td>No</td>\n",
       "      <td>Euthyroid</td>\n",
       "      <td>Multinodular goiter</td>\n",
       "      <td>No</td>\n",
       "      <td>Micropapillary</td>\n",
       "      <td>Multi-Focal</td>\n",
       "      <td>Low</td>\n",
       "      <td>T1a</td>\n",
       "      <td>N0</td>\n",
       "      <td>M0</td>\n",
       "      <td>I</td>\n",
       "      <td>Indeterminate</td>\n",
       "      <td>No</td>\n",
       "    </tr>\n",
       "    <tr>\n",
       "      <th>3</th>\n",
       "      <td>41</td>\n",
       "      <td>F</td>\n",
       "      <td>No</td>\n",
       "      <td>Yes</td>\n",
       "      <td>No</td>\n",
       "      <td>Clinical Hyperthyroidism</td>\n",
       "      <td>Single nodular goiter-right</td>\n",
       "      <td>No</td>\n",
       "      <td>Micropapillary</td>\n",
       "      <td>Uni-Focal</td>\n",
       "      <td>Low</td>\n",
       "      <td>T1a</td>\n",
       "      <td>N0</td>\n",
       "      <td>M0</td>\n",
       "      <td>I</td>\n",
       "      <td>Excellent</td>\n",
       "      <td>No</td>\n",
       "    </tr>\n",
       "    <tr>\n",
       "      <th>4</th>\n",
       "      <td>46</td>\n",
       "      <td>F</td>\n",
       "      <td>No</td>\n",
       "      <td>No</td>\n",
       "      <td>No</td>\n",
       "      <td>Euthyroid</td>\n",
       "      <td>Single nodular goiter-right</td>\n",
       "      <td>No</td>\n",
       "      <td>Micropapillary</td>\n",
       "      <td>Uni-Focal</td>\n",
       "      <td>Low</td>\n",
       "      <td>T1a</td>\n",
       "      <td>N0</td>\n",
       "      <td>M0</td>\n",
       "      <td>I</td>\n",
       "      <td>Excellent</td>\n",
       "      <td>No</td>\n",
       "    </tr>\n",
       "  </tbody>\n",
       "</table>\n",
       "</div>"
      ],
      "text/plain": [
       "   Age Gender Smoking Hx Smoking Hx Radiothreapy          Thyroid Function  \\\n",
       "0   34      F      No        Yes              No                 Euthyroid   \n",
       "1   62      F      No         No              No                 Euthyroid   \n",
       "2   52      M     Yes         No              No                 Euthyroid   \n",
       "3   41      F      No        Yes              No  Clinical Hyperthyroidism   \n",
       "4   46      F      No         No              No                 Euthyroid   \n",
       "\n",
       "          Physical Examination Adenopathy       Pathology     Focality Risk  \\\n",
       "0          Multinodular goiter         No  Micropapillary    Uni-Focal  Low   \n",
       "1          Multinodular goiter         No  Micropapillary  Multi-Focal  Low   \n",
       "2          Multinodular goiter         No  Micropapillary  Multi-Focal  Low   \n",
       "3  Single nodular goiter-right         No  Micropapillary    Uni-Focal  Low   \n",
       "4  Single nodular goiter-right         No  Micropapillary    Uni-Focal  Low   \n",
       "\n",
       "     T   N   M Stage       Response Recurred  \n",
       "0  T1a  N0  M0     I      Excellent       No  \n",
       "1  T1a  N0  M0     I      Excellent       No  \n",
       "2  T1a  N0  M0     I  Indeterminate       No  \n",
       "3  T1a  N0  M0     I      Excellent       No  \n",
       "4  T1a  N0  M0     I      Excellent       No  "
      ]
     },
     "execution_count": 58,
     "metadata": {},
     "output_type": "execute_result"
    }
   ],
   "source": [
    "from elasticsearch import Elasticsearch\n",
    "import pandas as pd\n",
    "\n",
    "# Connexion à Elasticsearch\n",
    "es = Elasticsearch(\"http://localhost:9200\")  # Remplacez par l'URL de votre cluster Elasticsearch\n",
    "\n",
    "# Requête pour récupérer les documents\n",
    "response = es.search(index=\"thyroid_risk\", body={\n",
    "    \"query\": {\n",
    "        \"match_all\": {}  # Récupère tous les documents de l'index\n",
    "    },\n",
    "    \"size\": 1000  # Limite à 1000 documents, vous pouvez ajuster la taille\n",
    "})\n",
    "\n",
    "# Extraire les hits (documents) de la réponse\n",
    "hits = response['hits']['hits']\n",
    "\n",
    "# Convertir les documents en DataFrame pandas\n",
    "data = [hit['_source'] for hit in hits]\n",
    "df = pd.DataFrame(data)\n",
    "\n",
    "# Afficher les premières lignes du DataFrame\n",
    "df.head()\n"
   ]
  },
  {
   "cell_type": "code",
   "execution_count": 59,
   "id": "d9ef5923-fa56-4c03-92b1-da557d104833",
   "metadata": {},
   "outputs": [
    {
     "data": {
      "image/png": "[encoded data removed]",
      "text/plain": [
       "<Figure size 1000x600 with 1 Axes>"
      ]
     },
     "metadata": {},
     "output_type": "display_data"
    }
   ],
   "source": [
    "#Exemple 1 : Visualiser la distribution des âges\n",
    "\n",
    "import matplotlib.pyplot as plt\n",
    "import seaborn as sns\n",
    "\n",
    "# Créer une figure et un axe\n",
    "plt.figure(figsize=(10, 6))\n",
    "\n",
    "# Créer un histogramme de la distribution des âges\n",
    "sns.histplot(df['Age'], bins=20, kde=True, color='blue')\n",
    "\n",
    "# Ajouter des labels\n",
    "plt.title('Distribution des âges')\n",
    "plt.xlabel('Âge')\n",
    "plt.ylabel('Fréquence')\n",
    "\n",
    "# Afficher le graphique\n",
    "plt.show()\n"
   ]
  },
  {
   "cell_type": "code",
   "execution_count": 60,
   "id": "184d6337-f8d2-4416-8eb6-4dbb3bdc1ee4",
   "metadata": {},
   "outputs": [
    {
     "name": "stderr",
     "output_type": "stream",
     "text": [
      "C:\\Users\\jawaher\\AppData\\Local\\Temp\\ipykernel_16720\\3694286898.py:5: FutureWarning: \n",
      "\n",
      "Passing `palette` without assigning `hue` is deprecated and will be removed in v0.14.0. Assign the `x` variable to `hue` and set `legend=False` for the same effect.\n",
      "\n",
      "  sns.countplot(x='Risk', data=df, palette='viridis')\n"
     ]
    },
    {
     "data": {
      "image/png": "[encoded data removed]",
      "text/plain": [
       "<Figure size 1000x600 with 1 Axes>"
      ]
     },
     "metadata": {},
     "output_type": "display_data"
    }
   ],
   "source": [
    "#Visualiser la répartition des risques\n",
    "# Créer un graphique de barres pour la répartition des risques\n",
    "plt.figure(figsize=(10, 6))\n",
    "\n",
    "# Créer un comptage des valeurs uniques dans la colonne 'Risk'\n",
    "sns.countplot(x='Risk', data=df, palette='viridis')\n",
    "\n",
    "# Ajouter des labels\n",
    "plt.title('Répartition des risques')\n",
    "plt.xlabel('Niveau de risque')\n",
    "plt.ylabel('Nombre de cas')\n",
    "\n",
    "# Afficher le graphique\n",
    "plt.show()\n"
   ]
  },
  {
   "cell_type": "code",
   "execution_count": 61,
   "id": "9e5a23fb-d426-4fc8-a7cc-a8f114a290ba",
   "metadata": {},
   "outputs": [
    {
     "name": "stdout",
     "output_type": "stream",
     "text": [
      "Collecting plotly\n",
      "  Obtaining dependency information for plotly from https://files.pythonhosted.org/packages/e5/ae/580600f441f6fc05218bd6c9d5794f4aef072a7d9093b291f1c50a9db8bc/plotly-5.24.1-py3-none-any.whl.metadata\n",
      "  Downloading plotly-5.24.1-py3-none-any.whl.metadata (7.3 kB)\n",
      "Collecting tenacity>=6.2.0 (from plotly)\n",
      "  Obtaining dependency information for tenacity>=6.2.0 from https://files.pythonhosted.org/packages/b6/cb/b86984bed139586d01532a587464b5805f12e397594f19f931c4c2fbfa61/tenacity-9.0.0-py3-none-any.whl.metadata\n",
      "  Downloading tenacity-9.0.0-py3-none-any.whl.metadata (1.2 kB)\n",
      "Requirement already satisfied: packaging in c:\\users\\jawaher\\pycharmprojects\\projectbigdata\\venv\\lib\\site-packages (from plotly) (24.2)\n",
      "Downloading plotly-5.24.1-py3-none-any.whl (19.1 MB)\n",
      "   ---------------------------------------- 0.0/19.1 MB ? eta -:--:--\n",
      "   ---------------------------------------- 0.0/19.1 MB ? eta -:--:--\n",
      "   ---------------------------------------- 0.0/19.1 MB 487.6 kB/s eta 0:00:39\n",
      "   ---------------------------------------- 0.1/19.1 MB 939.4 kB/s eta 0:00:21\n",
      "   ---------------------------------------- 0.2/19.1 MB 1.1 MB/s eta 0:00:18\n",
      "   ---------------------------------------- 0.2/19.1 MB 1.1 MB/s eta 0:00:17\n",
      "   ---------------------------------------- 0.2/19.1 MB 1.1 MB/s eta 0:00:17\n",
      "   ---------------------------------------- 0.2/19.1 MB 1.1 MB/s eta 0:00:17\n",
      "    --------------------------------------- 0.3/19.1 MB 749.3 kB/s eta 0:00:26\n",
      "    --------------------------------------- 0.3/19.1 MB 749.3 kB/s eta 0:00:26\n",
      "    --------------------------------------- 0.3/19.1 MB 749.3 kB/s eta 0:00:26\n",
      "    --------------------------------------- 0.3/19.1 MB 571.2 kB/s eta 0:00:33\n",
      "    --------------------------------------- 0.3/19.1 MB 561.6 kB/s eta 0:00:34\n",
      "    --------------------------------------- 0.3/19.1 MB 566.9 kB/s eta 0:00:34\n",
      "    --------------------------------------- 0.4/19.1 MB 571.7 kB/s eta 0:00:33\n",
      "    --------------------------------------- 0.4/19.1 MB 563.8 kB/s eta 0:00:34\n",
      "    --------------------------------------- 0.4/19.1 MB 572.0 kB/s eta 0:00:33\n",
      "    --------------------------------------- 0.5/19.1 MB 587.1 kB/s eta 0:00:32\n",
      "    --------------------------------------- 0.5/19.1 MB 565.3 kB/s eta 0:00:33\n",
      "    --------------------------------------- 0.5/19.1 MB 565.3 kB/s eta 0:00:33\n",
      "   - -------------------------------------- 0.5/19.1 MB 519.9 kB/s eta 0:00:36\n",
      "   - -------------------------------------- 0.5/19.1 MB 513.1 kB/s eta 0:00:37\n",
      "   - -------------------------------------- 0.5/19.1 MB 522.2 kB/s eta 0:00:36\n",
      "   - -------------------------------------- 0.5/19.1 MB 522.2 kB/s eta 0:00:36\n",
      "   - -------------------------------------- 0.5/19.1 MB 486.7 kB/s eta 0:00:39\n",
      "   - -------------------------------------- 0.5/19.1 MB 486.7 kB/s eta 0:00:39\n",
      "   - -------------------------------------- 0.6/19.1 MB 453.6 kB/s eta 0:00:41\n",
      "   - -------------------------------------- 0.6/19.1 MB 444.9 kB/s eta 0:00:42\n",
      "   - -------------------------------------- 0.6/19.1 MB 460.1 kB/s eta 0:00:41\n",
      "   - -------------------------------------- 0.6/19.1 MB 457.1 kB/s eta 0:00:41\n",
      "   - -------------------------------------- 0.6/19.1 MB 457.1 kB/s eta 0:00:41\n",
      "   - -------------------------------------- 0.7/19.1 MB 444.0 kB/s eta 0:00:42\n",
      "   - -------------------------------------- 0.7/19.1 MB 446.1 kB/s eta 0:00:42\n",
      "   - -------------------------------------- 0.7/19.1 MB 446.1 kB/s eta 0:00:42\n",
      "   - -------------------------------------- 0.7/19.1 MB 428.3 kB/s eta 0:00:43\n",
      "   - -------------------------------------- 0.7/19.1 MB 428.3 kB/s eta 0:00:43\n",
      "   - -------------------------------------- 0.7/19.1 MB 428.3 kB/s eta 0:00:43\n",
      "   - -------------------------------------- 0.7/19.1 MB 428.3 kB/s eta 0:00:43\n",
      "   - -------------------------------------- 0.7/19.1 MB 428.3 kB/s eta 0:00:43\n",
      "   - -------------------------------------- 0.7/19.1 MB 393.2 kB/s eta 0:00:47\n",
      "   - -------------------------------------- 0.7/19.1 MB 397.7 kB/s eta 0:00:47\n",
      "   - -------------------------------------- 0.7/19.1 MB 389.9 kB/s eta 0:00:47\n",
      "   - -------------------------------------- 0.8/19.1 MB 391.0 kB/s eta 0:00:47\n",
      "   - -------------------------------------- 0.8/19.1 MB 395.2 kB/s eta 0:00:47\n",
      "   - -------------------------------------- 0.8/19.1 MB 391.1 kB/s eta 0:00:47\n",
      "   - -------------------------------------- 0.8/19.1 MB 388.4 kB/s eta 0:00:47\n",
      "   - -------------------------------------- 0.8/19.1 MB 388.4 kB/s eta 0:00:47\n",
      "   - -------------------------------------- 0.9/19.1 MB 390.4 kB/s eta 0:00:47\n",
      "   - -------------------------------------- 0.9/19.1 MB 392.2 kB/s eta 0:00:47\n",
      "   - -------------------------------------- 0.9/19.1 MB 390.6 kB/s eta 0:00:47\n",
      "   - -------------------------------------- 0.9/19.1 MB 395.9 kB/s eta 0:00:46\n",
      "   -- ------------------------------------- 1.0/19.1 MB 401.0 kB/s eta 0:00:46\n",
      "   -- ------------------------------------- 1.0/19.1 MB 404.3 kB/s eta 0:00:45\n",
      "   -- ------------------------------------- 1.0/19.1 MB 404.3 kB/s eta 0:00:45\n",
      "   -- ------------------------------------- 1.0/19.1 MB 390.7 kB/s eta 0:00:47\n",
      "   -- ------------------------------------- 1.0/19.1 MB 390.7 kB/s eta 0:00:47\n",
      "   -- ------------------------------------- 1.0/19.1 MB 390.7 kB/s eta 0:00:47\n",
      "   -- ------------------------------------- 1.0/19.1 MB 390.7 kB/s eta 0:00:47\n",
      "   -- ------------------------------------- 1.0/19.1 MB 371.3 kB/s eta 0:00:49\n",
      "   -- ------------------------------------- 1.0/19.1 MB 380.4 kB/s eta 0:00:48\n",
      "   -- ------------------------------------- 1.1/19.1 MB 379.3 kB/s eta 0:00:48\n",
      "   -- ------------------------------------- 1.1/19.1 MB 378.6 kB/s eta 0:00:48\n",
      "   -- ------------------------------------- 1.1/19.1 MB 379.7 kB/s eta 0:00:48\n",
      "   -- ------------------------------------- 1.1/19.1 MB 378.0 kB/s eta 0:00:48\n",
      "   -- ------------------------------------- 1.1/19.1 MB 380.9 kB/s eta 0:00:48\n",
      "   -- ------------------------------------- 1.2/19.1 MB 385.1 kB/s eta 0:00:47\n",
      "   -- ------------------------------------- 1.2/19.1 MB 387.8 kB/s eta 0:00:47\n",
      "   -- ------------------------------------- 1.2/19.1 MB 389.9 kB/s eta 0:00:46\n",
      "   -- ------------------------------------- 1.2/19.1 MB 389.4 kB/s eta 0:00:46\n",
      "   -- ------------------------------------- 1.3/19.1 MB 394.5 kB/s eta 0:00:46\n",
      "   -- ------------------------------------- 1.3/19.1 MB 398.2 kB/s eta 0:00:45\n",
      "   -- ------------------------------------- 1.3/19.1 MB 401.8 kB/s eta 0:00:45\n",
      "   -- ------------------------------------- 1.4/19.1 MB 403.5 kB/s eta 0:00:44\n",
      "   -- ------------------------------------- 1.4/19.1 MB 407.0 kB/s eta 0:00:44\n",
      "   -- ------------------------------------- 1.4/19.1 MB 411.0 kB/s eta 0:00:43\n",
      "   -- ------------------------------------- 1.4/19.1 MB 411.0 kB/s eta 0:00:43\n",
      "   -- ------------------------------------- 1.4/19.1 MB 411.0 kB/s eta 0:00:43\n",
      "   --- ------------------------------------ 1.5/19.1 MB 407.4 kB/s eta 0:00:44\n",
      "   --- ------------------------------------ 1.5/19.1 MB 408.9 kB/s eta 0:00:43\n",
      "   --- ------------------------------------ 1.5/19.1 MB 412.0 kB/s eta 0:00:43\n",
      "   --- ------------------------------------ 1.5/19.1 MB 412.0 kB/s eta 0:00:43\n",
      "   --- ------------------------------------ 1.5/19.1 MB 412.0 kB/s eta 0:00:43\n",
      "   --- ------------------------------------ 1.6/19.1 MB 405.5 kB/s eta 0:00:44\n",
      "   --- ------------------------------------ 1.6/19.1 MB 405.5 kB/s eta 0:00:44\n",
      "   --- ------------------------------------ 1.6/19.1 MB 405.5 kB/s eta 0:00:44\n",
      "   --- ------------------------------------ 1.6/19.1 MB 405.5 kB/s eta 0:00:44\n",
      "   --- ------------------------------------ 1.6/19.1 MB 405.5 kB/s eta 0:00:44\n",
      "   --- ------------------------------------ 1.6/19.1 MB 383.1 kB/s eta 0:00:46\n",
      "   --- ------------------------------------ 1.6/19.1 MB 387.3 kB/s eta 0:00:46\n",
      "   --- ------------------------------------ 1.6/19.1 MB 385.3 kB/s eta 0:00:46\n",
      "   --- ------------------------------------ 1.6/19.1 MB 385.9 kB/s eta 0:00:46\n",
      "   --- ------------------------------------ 1.6/19.1 MB 384.1 kB/s eta 0:00:46\n",
      "   --- ------------------------------------ 1.7/19.1 MB 386.1 kB/s eta 0:00:46\n",
      "   --- ------------------------------------ 1.7/19.1 MB 384.2 kB/s eta 0:00:46\n",
      "   --- ------------------------------------ 1.7/19.1 MB 385.8 kB/s eta 0:00:45\n",
      "   --- ------------------------------------ 1.7/19.1 MB 386.3 kB/s eta 0:00:45\n",
      "   --- ------------------------------------ 1.8/19.1 MB 389.1 kB/s eta 0:00:45\n",
      "   --- ------------------------------------ 1.8/19.1 MB 389.1 kB/s eta 0:00:45\n",
      "   --- ------------------------------------ 1.8/19.1 MB 389.1 kB/s eta 0:00:45\n",
      "   --- ------------------------------------ 1.8/19.1 MB 389.1 kB/s eta 0:00:45\n",
      "   --- ------------------------------------ 1.8/19.1 MB 389.1 kB/s eta 0:00:45\n",
      "   --- ------------------------------------ 1.8/19.1 MB 389.1 kB/s eta 0:00:45\n",
      "   --- ------------------------------------ 1.8/19.1 MB 389.1 kB/s eta 0:00:45\n",
      "   --- ------------------------------------ 1.8/19.1 MB 389.1 kB/s eta 0:00:45\n",
      "   --- ------------------------------------ 1.8/19.1 MB 365.7 kB/s eta 0:00:48\n",
      "   --- ------------------------------------ 1.8/19.1 MB 365.0 kB/s eta 0:00:48\n",
      "   --- ------------------------------------ 1.8/19.1 MB 365.0 kB/s eta 0:00:48\n",
      "   --- ------------------------------------ 1.8/19.1 MB 363.4 kB/s eta 0:00:48\n",
      "   --- ------------------------------------ 1.8/19.1 MB 361.0 kB/s eta 0:00:48\n",
      "   --- ------------------------------------ 1.9/19.1 MB 361.6 kB/s eta 0:00:48\n",
      "   --- ------------------------------------ 1.9/19.1 MB 360.3 kB/s eta 0:00:48\n",
      "   --- ------------------------------------ 1.9/19.1 MB 362.1 kB/s eta 0:00:48\n",
      "   ---- ----------------------------------- 1.9/19.1 MB 361.7 kB/s eta 0:00:48\n",
      "   ---- ----------------------------------- 1.9/19.1 MB 362.6 kB/s eta 0:00:48\n",
      "   ---- ----------------------------------- 1.9/19.1 MB 362.6 kB/s eta 0:00:48\n",
      "   ---- ----------------------------------- 1.9/19.1 MB 358.0 kB/s eta 0:00:48\n",
      "   ---- ----------------------------------- 2.0/19.1 MB 357.8 kB/s eta 0:00:48\n",
      "   ---- ----------------------------------- 2.0/19.1 MB 357.8 kB/s eta 0:00:48\n",
      "   ---- ----------------------------------- 2.0/19.1 MB 357.5 kB/s eta 0:00:48\n",
      "   ---- ----------------------------------- 2.0/19.1 MB 360.6 kB/s eta 0:00:48\n",
      "   ---- ----------------------------------- 2.0/19.1 MB 360.4 kB/s eta 0:00:48\n",
      "   ---- ----------------------------------- 2.1/19.1 MB 364.7 kB/s eta 0:00:47\n",
      "   ---- ----------------------------------- 2.1/19.1 MB 364.5 kB/s eta 0:00:47\n",
      "   ---- ----------------------------------- 2.1/19.1 MB 366.1 kB/s eta 0:00:47\n",
      "   ---- ----------------------------------- 2.1/19.1 MB 366.1 kB/s eta 0:00:47\n",
      "   ---- ----------------------------------- 2.1/19.1 MB 366.1 kB/s eta 0:00:47\n",
      "   ---- ----------------------------------- 2.1/19.1 MB 366.1 kB/s eta 0:00:47\n",
      "   ---- ----------------------------------- 2.2/19.1 MB 361.2 kB/s eta 0:00:47\n",
      "   ---- ----------------------------------- 2.2/19.1 MB 359.1 kB/s eta 0:00:48\n",
      "   ---- ----------------------------------- 2.2/19.1 MB 359.1 kB/s eta 0:00:48\n",
      "   ---- ----------------------------------- 2.2/19.1 MB 358.7 kB/s eta 0:00:47\n",
      "   ---- ----------------------------------- 2.2/19.1 MB 358.7 kB/s eta 0:00:47\n",
      "   ---- ----------------------------------- 2.2/19.1 MB 358.4 kB/s eta 0:00:47\n",
      "   ---- ----------------------------------- 2.3/19.1 MB 360.6 kB/s eta 0:00:47\n",
      "   ---- ----------------------------------- 2.3/19.1 MB 360.6 kB/s eta 0:00:47\n",
      "   ---- ----------------------------------- 2.3/19.1 MB 359.4 kB/s eta 0:00:47\n",
      "   ---- ----------------------------------- 2.3/19.1 MB 359.8 kB/s eta 0:00:47\n",
      "   ---- ----------------------------------- 2.3/19.1 MB 362.0 kB/s eta 0:00:47\n",
      "   ---- ----------------------------------- 2.4/19.1 MB 364.1 kB/s eta 0:00:46\n",
      "   ----- ---------------------------------- 2.4/19.1 MB 366.9 kB/s eta 0:00:46\n",
      "   ----- ---------------------------------- 2.4/19.1 MB 366.7 kB/s eta 0:00:46\n",
      "   ----- ---------------------------------- 2.4/19.1 MB 368.8 kB/s eta 0:00:46\n",
      "   ----- ---------------------------------- 2.5/19.1 MB 371.0 kB/s eta 0:00:45\n",
      "   ----- ---------------------------------- 2.5/19.1 MB 372.1 kB/s eta 0:00:45\n",
      "   ----- ---------------------------------- 2.5/19.1 MB 374.1 kB/s eta 0:00:45\n",
      "   ----- ---------------------------------- 2.6/19.1 MB 378.1 kB/s eta 0:00:44\n",
      "   ----- ---------------------------------- 2.6/19.1 MB 383.0 kB/s eta 0:00:43\n",
      "   ----- ---------------------------------- 2.6/19.1 MB 381.9 kB/s eta 0:00:43\n",
      "   ----- ---------------------------------- 2.7/19.1 MB 381.7 kB/s eta 0:00:43\n",
      "   ----- ---------------------------------- 2.7/19.1 MB 384.1 kB/s eta 0:00:43\n",
      "   ----- ---------------------------------- 2.7/19.1 MB 386.8 kB/s eta 0:00:43\n",
      "   ----- ---------------------------------- 2.7/19.1 MB 384.8 kB/s eta 0:00:43\n",
      "   ----- ---------------------------------- 2.8/19.1 MB 386.0 kB/s eta 0:00:43\n",
      "   ----- ---------------------------------- 2.8/19.1 MB 386.0 kB/s eta 0:00:43\n",
      "   ----- ---------------------------------- 2.8/19.1 MB 387.9 kB/s eta 0:00:42\n",
      "   ----- ---------------------------------- 2.8/19.1 MB 387.9 kB/s eta 0:00:42\n",
      "   ----- ---------------------------------- 2.9/19.1 MB 387.6 kB/s eta 0:00:42\n",
      "   ------ --------------------------------- 2.9/19.1 MB 387.4 kB/s eta 0:00:42\n",
      "   ------ --------------------------------- 2.9/19.1 MB 388.2 kB/s eta 0:00:42\n",
      "   ------ --------------------------------- 2.9/19.1 MB 391.3 kB/s eta 0:00:42\n",
      "   ------ --------------------------------- 2.9/19.1 MB 390.2 kB/s eta 0:00:42\n",
      "   ------ --------------------------------- 3.0/19.1 MB 391.9 kB/s eta 0:00:42\n",
      "   ------ --------------------------------- 3.0/19.1 MB 393.0 kB/s eta 0:00:41\n",
      "   ------ --------------------------------- 3.0/19.1 MB 394.6 kB/s eta 0:00:41\n",
      "   ------ --------------------------------- 3.1/19.1 MB 395.3 kB/s eta 0:00:41\n",
      "   ------ --------------------------------- 3.1/19.1 MB 398.8 kB/s eta 0:00:40\n",
      "   ------ --------------------------------- 3.1/19.1 MB 401.1 kB/s eta 0:00:40\n",
      "   ------ --------------------------------- 3.2/19.1 MB 403.9 kB/s eta 0:00:40\n",
      "   ------ --------------------------------- 3.2/19.1 MB 405.4 kB/s eta 0:00:40\n",
      "   ------ --------------------------------- 3.2/19.1 MB 405.1 kB/s eta 0:00:40\n",
      "   ------ --------------------------------- 3.2/19.1 MB 405.1 kB/s eta 0:00:40\n",
      "   ------ --------------------------------- 3.3/19.1 MB 405.1 kB/s eta 0:00:39\n",
      "   ------ --------------------------------- 3.3/19.1 MB 405.1 kB/s eta 0:00:39\n",
      "   ------ --------------------------------- 3.3/19.1 MB 407.5 kB/s eta 0:00:39\n",
      "   ------- -------------------------------- 3.3/19.1 MB 408.5 kB/s eta 0:00:39\n",
      "   ------- -------------------------------- 3.3/19.1 MB 408.5 kB/s eta 0:00:39\n",
      "   ------- -------------------------------- 3.3/19.1 MB 408.5 kB/s eta 0:00:39\n",
      "   ------- -------------------------------- 3.4/19.1 MB 402.8 kB/s eta 0:00:39\n",
      "   ------- -------------------------------- 3.4/19.1 MB 402.8 kB/s eta 0:00:39\n",
      "   ------- -------------------------------- 3.4/19.1 MB 402.8 kB/s eta 0:00:39\n",
      "   ------- -------------------------------- 3.4/19.1 MB 401.6 kB/s eta 0:00:39\n",
      "   ------- -------------------------------- 3.5/19.1 MB 402.3 kB/s eta 0:00:39\n",
      "   ------- -------------------------------- 3.5/19.1 MB 401.3 kB/s eta 0:00:39\n",
      "   ------- -------------------------------- 3.5/19.1 MB 402.2 kB/s eta 0:00:39\n",
      "   ------- -------------------------------- 3.5/19.1 MB 402.1 kB/s eta 0:00:39\n",
      "   ------- -------------------------------- 3.6/19.1 MB 403.5 kB/s eta 0:00:39\n",
      "   ------- -------------------------------- 3.6/19.1 MB 404.3 kB/s eta 0:00:39\n",
      "   ------- -------------------------------- 3.6/19.1 MB 405.7 kB/s eta 0:00:39\n",
      "   ------- -------------------------------- 3.6/19.1 MB 406.3 kB/s eta 0:00:38\n",
      "   ------- -------------------------------- 3.6/19.1 MB 406.7 kB/s eta 0:00:38\n",
      "   ------- -------------------------------- 3.7/19.1 MB 407.3 kB/s eta 0:00:38\n",
      "   ------- -------------------------------- 3.7/19.1 MB 408.9 kB/s eta 0:00:38\n",
      "   ------- -------------------------------- 3.7/19.1 MB 411.0 kB/s eta 0:00:38\n",
      "   ------- -------------------------------- 3.8/19.1 MB 412.2 kB/s eta 0:00:38\n",
      "   -------- ------------------------------- 3.8/19.1 MB 416.1 kB/s eta 0:00:37\n",
      "   -------- ------------------------------- 3.9/19.1 MB 418.5 kB/s eta 0:00:37\n",
      "   -------- ------------------------------- 3.9/19.1 MB 420.7 kB/s eta 0:00:36\n",
      "   -------- ------------------------------- 3.9/19.1 MB 422.2 kB/s eta 0:00:36\n",
      "   -------- ------------------------------- 3.9/19.1 MB 422.2 kB/s eta 0:00:36\n",
      "   -------- ------------------------------- 4.0/19.1 MB 419.5 kB/s eta 0:00:36\n",
      "   -------- ------------------------------- 4.0/19.1 MB 419.5 kB/s eta 0:00:36\n",
      "   -------- ------------------------------- 4.0/19.1 MB 419.5 kB/s eta 0:00:36\n",
      "   -------- ------------------------------- 4.0/19.1 MB 419.1 kB/s eta 0:00:36\n",
      "   -------- ------------------------------- 4.0/19.1 MB 419.2 kB/s eta 0:00:36\n",
      "   -------- ------------------------------- 4.1/19.1 MB 418.2 kB/s eta 0:00:36\n",
      "   -------- ------------------------------- 4.1/19.1 MB 419.0 kB/s eta 0:00:36\n",
      "   -------- ------------------------------- 4.1/19.1 MB 418.8 kB/s eta 0:00:36\n",
      "   -------- ------------------------------- 4.1/19.1 MB 419.5 kB/s eta 0:00:36\n",
      "   -------- ------------------------------- 4.2/19.1 MB 420.7 kB/s eta 0:00:36\n",
      "   -------- ------------------------------- 4.2/19.1 MB 419.7 kB/s eta 0:00:36\n",
      "   -------- ------------------------------- 4.2/19.1 MB 419.8 kB/s eta 0:00:36\n",
      "   -------- ------------------------------- 4.2/19.1 MB 420.9 kB/s eta 0:00:36\n",
      "   -------- ------------------------------- 4.2/19.1 MB 420.9 kB/s eta 0:00:36\n",
      "   -------- ------------------------------- 4.2/19.1 MB 420.9 kB/s eta 0:00:36\n",
      "   -------- ------------------------------- 4.2/19.1 MB 416.4 kB/s eta 0:00:36\n",
      "   -------- ------------------------------- 4.2/19.1 MB 415.5 kB/s eta 0:00:36\n",
      "   --------- ------------------------------ 4.3/19.1 MB 417.9 kB/s eta 0:00:36\n",
      "   --------- ------------------------------ 4.3/19.1 MB 419.7 kB/s eta 0:00:36\n",
      "   --------- ------------------------------ 4.4/19.1 MB 419.1 kB/s eta 0:00:36\n",
      "   --------- ------------------------------ 4.4/19.1 MB 419.8 kB/s eta 0:00:35\n",
      "   --------- ------------------------------ 4.4/19.1 MB 421.5 kB/s eta 0:00:35\n",
      "   --------- ------------------------------ 4.4/19.1 MB 422.6 kB/s eta 0:00:35\n",
      "   --------- ------------------------------ 4.5/19.1 MB 424.9 kB/s eta 0:00:35\n",
      "   --------- ------------------------------ 4.5/19.1 MB 426.5 kB/s eta 0:00:35\n",
      "   --------- ------------------------------ 4.6/19.1 MB 429.5 kB/s eta 0:00:34\n",
      "   --------- ------------------------------ 4.6/19.1 MB 429.5 kB/s eta 0:00:34\n",
      "   --------- ------------------------------ 4.6/19.1 MB 431.5 kB/s eta 0:00:34\n",
      "   --------- ------------------------------ 4.6/19.1 MB 431.5 kB/s eta 0:00:34\n",
      "   --------- ------------------------------ 4.6/19.1 MB 429.3 kB/s eta 0:00:34\n",
      "   --------- ------------------------------ 4.6/19.1 MB 429.3 kB/s eta 0:00:34\n",
      "   --------- ------------------------------ 4.6/19.1 MB 429.3 kB/s eta 0:00:34\n",
      "   --------- ------------------------------ 4.6/19.1 MB 429.3 kB/s eta 0:00:34\n",
      "   --------- ------------------------------ 4.7/19.1 MB 423.8 kB/s eta 0:00:34\n",
      "   --------- ------------------------------ 4.7/19.1 MB 426.7 kB/s eta 0:00:34\n",
      "   --------- ------------------------------ 4.7/19.1 MB 426.7 kB/s eta 0:00:34\n",
      "   --------- ------------------------------ 4.8/19.1 MB 425.0 kB/s eta 0:00:34\n",
      "   ---------- ----------------------------- 4.8/19.1 MB 425.6 kB/s eta 0:00:34\n",
      "   ---------- ----------------------------- 4.8/19.1 MB 425.4 kB/s eta 0:00:34\n",
      "   ---------- ----------------------------- 4.8/19.1 MB 426.0 kB/s eta 0:00:34\n",
      "   ---------- ----------------------------- 4.8/19.1 MB 425.2 kB/s eta 0:00:34\n",
      "   ---------- ----------------------------- 4.9/19.1 MB 425.2 kB/s eta 0:00:34\n",
      "   ---------- ----------------------------- 4.9/19.1 MB 425.6 kB/s eta 0:00:34\n",
      "   ---------- ----------------------------- 4.9/19.1 MB 426.2 kB/s eta 0:00:34\n",
      "   ---------- ----------------------------- 4.9/19.1 MB 426.2 kB/s eta 0:00:34\n",
      "   ---------- ----------------------------- 4.9/19.1 MB 426.2 kB/s eta 0:00:34\n",
      "   ---------- ----------------------------- 4.9/19.1 MB 422.5 kB/s eta 0:00:34\n",
      "   ---------- ----------------------------- 4.9/19.1 MB 422.5 kB/s eta 0:00:34\n",
      "   ---------- ----------------------------- 4.9/19.1 MB 422.5 kB/s eta 0:00:34\n",
      "   ---------- ----------------------------- 4.9/19.1 MB 422.5 kB/s eta 0:00:34\n",
      "   ---------- ----------------------------- 5.0/19.1 MB 419.0 kB/s eta 0:00:34\n",
      "   ---------- ----------------------------- 5.0/19.1 MB 419.1 kB/s eta 0:00:34\n",
      "   ---------- ----------------------------- 5.0/19.1 MB 418.3 kB/s eta 0:00:34\n",
      "   ---------- ----------------------------- 5.0/19.1 MB 418.4 kB/s eta 0:00:34\n",
      "   ---------- ----------------------------- 5.0/19.1 MB 419.5 kB/s eta 0:00:34\n",
      "   ---------- ----------------------------- 5.0/19.1 MB 418.8 kB/s eta 0:00:34\n",
      "   ---------- ----------------------------- 5.1/19.1 MB 419.3 kB/s eta 0:00:34\n",
      "   ---------- ----------------------------- 5.1/19.1 MB 417.5 kB/s eta 0:00:34\n",
      "   ---------- ----------------------------- 5.1/19.1 MB 417.5 kB/s eta 0:00:34\n",
      "   ---------- ----------------------------- 5.1/19.1 MB 417.5 kB/s eta 0:00:34\n",
      "   ---------- ----------------------------- 5.1/19.1 MB 417.5 kB/s eta 0:00:34\n",
      "   ---------- ----------------------------- 5.1/19.1 MB 417.5 kB/s eta 0:00:34\n",
      "   ---------- ----------------------------- 5.1/19.1 MB 413.4 kB/s eta 0:00:34\n",
      "   ---------- ----------------------------- 5.1/19.1 MB 413.4 kB/s eta 0:00:34\n",
      "   ---------- ----------------------------- 5.1/19.1 MB 411.1 kB/s eta 0:00:34\n",
      "   ---------- ----------------------------- 5.2/19.1 MB 410.7 kB/s eta 0:00:34\n",
      "   ---------- ----------------------------- 5.2/19.1 MB 410.5 kB/s eta 0:00:34\n",
      "   ---------- ----------------------------- 5.2/19.1 MB 410.4 kB/s eta 0:00:34\n",
      "   ---------- ----------------------------- 5.2/19.1 MB 410.4 kB/s eta 0:00:34\n",
      "   ---------- ----------------------------- 5.2/19.1 MB 410.3 kB/s eta 0:00:34\n",
      "   ----------- ---------------------------- 5.3/19.1 MB 410.7 kB/s eta 0:00:34\n",
      "   ----------- ---------------------------- 5.3/19.1 MB 410.7 kB/s eta 0:00:34\n",
      "   ----------- ---------------------------- 5.3/19.1 MB 410.7 kB/s eta 0:00:34\n",
      "   ----------- ---------------------------- 5.3/19.1 MB 410.7 kB/s eta 0:00:34\n",
      "   ----------- ---------------------------- 5.3/19.1 MB 410.7 kB/s eta 0:00:34\n",
      "   ----------- ---------------------------- 5.3/19.1 MB 405.0 kB/s eta 0:00:34\n",
      "   ----------- ---------------------------- 5.3/19.1 MB 404.3 kB/s eta 0:00:35\n",
      "   ----------- ---------------------------- 5.3/19.1 MB 403.5 kB/s eta 0:00:35\n",
      "   ----------- ---------------------------- 5.4/19.1 MB 402.9 kB/s eta 0:00:34\n",
      "   ----------- ---------------------------- 5.4/19.1 MB 402.6 kB/s eta 0:00:34\n",
      "   ----------- ---------------------------- 5.4/19.1 MB 401.9 kB/s eta 0:00:35\n",
      "   ----------- ---------------------------- 5.4/19.1 MB 401.9 kB/s eta 0:00:35\n",
      "   ----------- ---------------------------- 5.4/19.1 MB 401.0 kB/s eta 0:00:35\n",
      "   ----------- ---------------------------- 5.4/19.1 MB 401.5 kB/s eta 0:00:34\n",
      "   ----------- ---------------------------- 5.5/19.1 MB 401.2 kB/s eta 0:00:34\n",
      "   ----------- ---------------------------- 5.5/19.1 MB 401.2 kB/s eta 0:00:34\n",
      "   ----------- ---------------------------- 5.5/19.1 MB 401.2 kB/s eta 0:00:34\n",
      "   ----------- ---------------------------- 5.5/19.1 MB 397.8 kB/s eta 0:00:35\n",
      "   ----------- ---------------------------- 5.5/19.1 MB 398.4 kB/s eta 0:00:35\n",
      "   ----------- ---------------------------- 5.5/19.1 MB 396.9 kB/s eta 0:00:35\n",
      "   ----------- ---------------------------- 5.5/19.1 MB 397.9 kB/s eta 0:00:35\n",
      "   ----------- ---------------------------- 5.6/19.1 MB 399.4 kB/s eta 0:00:34\n",
      "   ----------- ---------------------------- 5.6/19.1 MB 399.7 kB/s eta 0:00:34\n",
      "   ----------- ---------------------------- 5.6/19.1 MB 401.3 kB/s eta 0:00:34\n",
      "   ----------- ---------------------------- 5.7/19.1 MB 402.1 kB/s eta 0:00:34\n",
      "   ----------- ---------------------------- 5.7/19.1 MB 402.1 kB/s eta 0:00:34\n",
      "   ----------- ---------------------------- 5.7/19.1 MB 400.4 kB/s eta 0:00:34\n",
      "   ----------- ---------------------------- 5.7/19.1 MB 401.0 kB/s eta 0:00:34\n",
      "   ------------ --------------------------- 5.7/19.1 MB 401.4 kB/s eta 0:00:34\n",
      "   ------------ --------------------------- 5.7/19.1 MB 401.4 kB/s eta 0:00:34\n",
      "   ------------ --------------------------- 5.7/19.1 MB 400.2 kB/s eta 0:00:34\n",
      "   ------------ --------------------------- 5.8/19.1 MB 402.5 kB/s eta 0:00:33\n",
      "   ------------ --------------------------- 5.8/19.1 MB 404.0 kB/s eta 0:00:33\n",
      "   ------------ --------------------------- 5.8/19.1 MB 404.0 kB/s eta 0:00:33\n",
      "   ------------ --------------------------- 5.8/19.1 MB 404.0 kB/s eta 0:00:33\n",
      "   ------------ --------------------------- 5.9/19.1 MB 401.9 kB/s eta 0:00:33\n",
      "   ------------ --------------------------- 5.9/19.1 MB 401.9 kB/s eta 0:00:33\n",
      "   ------------ --------------------------- 5.9/19.1 MB 401.9 kB/s eta 0:00:33\n",
      "   ------------ --------------------------- 5.9/19.1 MB 401.9 kB/s eta 0:00:33\n",
      "   ------------ --------------------------- 5.9/19.1 MB 399.9 kB/s eta 0:00:33\n",
      "   ------------ --------------------------- 5.9/19.1 MB 399.3 kB/s eta 0:00:33\n",
      "   ------------ --------------------------- 5.9/19.1 MB 398.8 kB/s eta 0:00:33\n",
      "   ------------ --------------------------- 6.0/19.1 MB 399.4 kB/s eta 0:00:33\n",
      "   ------------ --------------------------- 6.0/19.1 MB 398.8 kB/s eta 0:00:33\n",
      "   ------------ --------------------------- 6.0/19.1 MB 400.3 kB/s eta 0:00:33\n",
      "   ------------ --------------------------- 6.0/19.1 MB 399.7 kB/s eta 0:00:33\n",
      "   ------------ --------------------------- 6.1/19.1 MB 400.5 kB/s eta 0:00:33\n",
      "   ------------ --------------------------- 6.1/19.1 MB 400.5 kB/s eta 0:00:33\n",
      "   ------------ --------------------------- 6.1/19.1 MB 399.4 kB/s eta 0:00:33\n",
      "   ------------ --------------------------- 6.1/19.1 MB 399.5 kB/s eta 0:00:33\n",
      "   ------------ --------------------------- 6.1/19.1 MB 400.7 kB/s eta 0:00:33\n",
      "   ------------ --------------------------- 6.1/19.1 MB 399.7 kB/s eta 0:00:33\n",
      "   ------------ --------------------------- 6.2/19.1 MB 400.7 kB/s eta 0:00:33\n",
      "   ------------ --------------------------- 6.2/19.1 MB 400.8 kB/s eta 0:00:33\n",
      "   ------------ --------------------------- 6.2/19.1 MB 400.8 kB/s eta 0:00:33\n",
      "   ------------- -------------------------- 6.2/19.1 MB 398.2 kB/s eta 0:00:33\n",
      "   ------------- -------------------------- 6.2/19.1 MB 399.7 kB/s eta 0:00:33\n",
      "   ------------- -------------------------- 6.3/19.1 MB 400.2 kB/s eta 0:00:32\n",
      "   ------------- -------------------------- 6.3/19.1 MB 401.8 kB/s eta 0:00:32\n",
      "   ------------- -------------------------- 6.3/19.1 MB 402.2 kB/s eta 0:00:32\n",
      "   ------------- -------------------------- 6.4/19.1 MB 403.8 kB/s eta 0:00:32\n",
      "   ------------- -------------------------- 6.4/19.1 MB 405.0 kB/s eta 0:00:32\n",
      "   ------------- -------------------------- 6.5/19.1 MB 406.6 kB/s eta 0:00:31\n",
      "   ------------- -------------------------- 6.5/19.1 MB 407.7 kB/s eta 0:00:31\n",
      "   ------------- -------------------------- 6.6/19.1 MB 409.4 kB/s eta 0:00:31\n",
      "   ------------- -------------------------- 6.6/19.1 MB 410.1 kB/s eta 0:00:31\n",
      "   ------------- -------------------------- 6.6/19.1 MB 411.2 kB/s eta 0:00:31\n",
      "   ------------- -------------------------- 6.7/19.1 MB 412.8 kB/s eta 0:00:31\n",
      "   -------------- ------------------------- 6.7/19.1 MB 415.2 kB/s eta 0:00:30\n",
      "   -------------- ------------------------- 6.8/19.1 MB 416.5 kB/s eta 0:00:30\n",
      "   -------------- ------------------------- 6.8/19.1 MB 419.3 kB/s eta 0:00:30\n",
      "   -------------- ------------------------- 6.9/19.1 MB 419.9 kB/s eta 0:00:30\n",
      "   -------------- ------------------------- 6.9/19.1 MB 421.7 kB/s eta 0:00:29\n",
      "   -------------- ------------------------- 7.0/19.1 MB 425.1 kB/s eta 0:00:29\n",
      "   -------------- ------------------------- 7.0/19.1 MB 427.3 kB/s eta 0:00:29\n",
      "   -------------- ------------------------- 7.1/19.1 MB 428.0 kB/s eta 0:00:29\n",
      "   -------------- ------------------------- 7.1/19.1 MB 429.9 kB/s eta 0:00:28\n",
      "   --------------- ------------------------ 7.2/19.1 MB 431.8 kB/s eta 0:00:28\n",
      "   --------------- ------------------------ 7.2/19.1 MB 433.6 kB/s eta 0:00:28\n",
      "   --------------- ------------------------ 7.2/19.1 MB 434.2 kB/s eta 0:00:28\n",
      "   --------------- ------------------------ 7.3/19.1 MB 435.7 kB/s eta 0:00:27\n",
      "   --------------- ------------------------ 7.3/19.1 MB 436.9 kB/s eta 0:00:27\n",
      "   --------------- ------------------------ 7.4/19.1 MB 439.1 kB/s eta 0:00:27\n",
      "   --------------- ------------------------ 7.4/19.1 MB 440.5 kB/s eta 0:00:27\n",
      "   --------------- ------------------------ 7.5/19.1 MB 442.8 kB/s eta 0:00:27\n",
      "   --------------- ------------------------ 7.5/19.1 MB 444.6 kB/s eta 0:00:26\n",
      "   --------------- ------------------------ 7.6/19.1 MB 445.3 kB/s eta 0:00:26\n",
      "   ---------------- ----------------------- 7.6/19.1 MB 446.9 kB/s eta 0:00:26\n",
      "   ---------------- ----------------------- 7.7/19.1 MB 448.1 kB/s eta 0:00:26\n",
      "   ---------------- ----------------------- 7.7/19.1 MB 449.4 kB/s eta 0:00:26\n",
      "   ---------------- ----------------------- 7.7/19.1 MB 449.8 kB/s eta 0:00:26\n",
      "   ---------------- ----------------------- 7.8/19.1 MB 449.5 kB/s eta 0:00:26\n",
      "   ---------------- ----------------------- 7.8/19.1 MB 450.5 kB/s eta 0:00:25\n",
      "   ---------------- ----------------------- 7.9/19.1 MB 451.6 kB/s eta 0:00:25\n",
      "   ---------------- ----------------------- 7.9/19.1 MB 451.4 kB/s eta 0:00:25\n",
      "   ---------------- ----------------------- 7.9/19.1 MB 452.7 kB/s eta 0:00:25\n",
      "   ---------------- ----------------------- 8.0/19.1 MB 452.4 kB/s eta 0:00:25\n",
      "   ---------------- ----------------------- 8.0/19.1 MB 454.0 kB/s eta 0:00:25\n",
      "   ---------------- ----------------------- 8.0/19.1 MB 454.5 kB/s eta 0:00:25\n",
      "   ---------------- ----------------------- 8.1/19.1 MB 454.6 kB/s eta 0:00:25\n",
      "   ---------------- ----------------------- 8.1/19.1 MB 455.4 kB/s eta 0:00:25\n",
      "   ----------------- ---------------------- 8.1/19.1 MB 455.1 kB/s eta 0:00:25\n",
      "   ----------------- ---------------------- 8.1/19.1 MB 455.3 kB/s eta 0:00:25\n",
      "   ----------------- ---------------------- 8.2/19.1 MB 455.6 kB/s eta 0:00:24\n",
      "   ----------------- ---------------------- 8.2/19.1 MB 456.5 kB/s eta 0:00:24\n",
      "   ----------------- ---------------------- 8.2/19.1 MB 457.0 kB/s eta 0:00:24\n",
      "   ----------------- ---------------------- 8.3/19.1 MB 457.5 kB/s eta 0:00:24\n",
      "   ----------------- ---------------------- 8.3/19.1 MB 459.2 kB/s eta 0:00:24\n",
      "   ----------------- ---------------------- 8.3/19.1 MB 459.9 kB/s eta 0:00:24\n",
      "   ----------------- ---------------------- 8.4/19.1 MB 459.8 kB/s eta 0:00:24\n",
      "   ----------------- ---------------------- 8.4/19.1 MB 460.5 kB/s eta 0:00:24\n",
      "   ----------------- ---------------------- 8.4/19.1 MB 460.1 kB/s eta 0:00:24\n",
      "   ----------------- ---------------------- 8.4/19.1 MB 460.8 kB/s eta 0:00:24\n",
      "   ----------------- ---------------------- 8.5/19.1 MB 462.2 kB/s eta 0:00:23\n",
      "   ----------------- ---------------------- 8.5/19.1 MB 461.6 kB/s eta 0:00:23\n",
      "   ----------------- ---------------------- 8.6/19.1 MB 463.2 kB/s eta 0:00:23\n",
      "   ------------------ --------------------- 8.6/19.1 MB 463.7 kB/s eta 0:00:23\n",
      "   ------------------ --------------------- 8.6/19.1 MB 465.3 kB/s eta 0:00:23\n",
      "   ------------------ --------------------- 8.7/19.1 MB 466.1 kB/s eta 0:00:23\n",
      "   ------------------ --------------------- 8.7/19.1 MB 466.2 kB/s eta 0:00:23\n",
      "   ------------------ --------------------- 8.7/19.1 MB 467.8 kB/s eta 0:00:23\n",
      "   ------------------ --------------------- 8.8/19.1 MB 470.1 kB/s eta 0:00:22\n",
      "   ------------------ --------------------- 8.9/19.1 MB 472.3 kB/s eta 0:00:22\n",
      "   ------------------ --------------------- 9.0/19.1 MB 476.2 kB/s eta 0:00:22\n",
      "   ------------------ --------------------- 9.0/19.1 MB 477.2 kB/s eta 0:00:22\n",
      "   ------------------- -------------------- 9.1/19.1 MB 480.2 kB/s eta 0:00:21\n",
      "   ------------------- -------------------- 9.2/19.1 MB 481.8 kB/s eta 0:00:21\n",
      "   ------------------- -------------------- 9.2/19.1 MB 484.0 kB/s eta 0:00:21\n",
      "   ------------------- -------------------- 9.3/19.1 MB 485.0 kB/s eta 0:00:21\n",
      "   ------------------- -------------------- 9.3/19.1 MB 486.4 kB/s eta 0:00:20\n",
      "   ------------------- -------------------- 9.4/19.1 MB 488.3 kB/s eta 0:00:20\n",
      "   ------------------- -------------------- 9.4/19.1 MB 488.9 kB/s eta 0:00:20\n",
      "   ------------------- -------------------- 9.5/19.1 MB 491.4 kB/s eta 0:00:20\n",
      "   -------------------- ------------------- 9.6/19.1 MB 493.0 kB/s eta 0:00:20\n",
      "   -------------------- ------------------- 9.6/19.1 MB 494.8 kB/s eta 0:00:20\n",
      "   -------------------- ------------------- 9.7/19.1 MB 497.8 kB/s eta 0:00:19\n",
      "   -------------------- ------------------- 9.7/19.1 MB 499.8 kB/s eta 0:00:19\n",
      "   -------------------- ------------------- 9.8/19.1 MB 502.8 kB/s eta 0:00:19\n",
      "   -------------------- ------------------- 9.9/19.1 MB 505.8 kB/s eta 0:00:19\n",
      "   -------------------- ------------------- 10.0/19.1 MB 508.2 kB/s eta 0:00:18\n",
      "   --------------------- ------------------ 10.1/19.1 MB 511.2 kB/s eta 0:00:18\n",
      "   --------------------- ------------------ 10.1/19.1 MB 512.0 kB/s eta 0:00:18\n",
      "   --------------------- ------------------ 10.2/19.1 MB 515.6 kB/s eta 0:00:18\n",
      "   --------------------- ------------------ 10.3/19.1 MB 517.6 kB/s eta 0:00:17\n",
      "   --------------------- ------------------ 10.3/19.1 MB 518.0 kB/s eta 0:00:17\n",
      "   --------------------- ------------------ 10.4/19.1 MB 517.6 kB/s eta 0:00:17\n",
      "   --------------------- ------------------ 10.4/19.1 MB 517.1 kB/s eta 0:00:17\n",
      "   ---------------------- ----------------- 10.5/19.1 MB 524.2 kB/s eta 0:00:17\n",
      "   ---------------------- ----------------- 10.6/19.1 MB 525.9 kB/s eta 0:00:17\n",
      "   ---------------------- ----------------- 10.7/19.1 MB 528.4 kB/s eta 0:00:16\n",
      "   ---------------------- ----------------- 10.8/19.1 MB 536.2 kB/s eta 0:00:16\n",
      "   ---------------------- ----------------- 10.9/19.1 MB 542.0 kB/s eta 0:00:16\n",
      "   ---------------------- ----------------- 10.9/19.1 MB 547.4 kB/s eta 0:00:15\n",
      "   ----------------------- ---------------- 11.0/19.1 MB 557.2 kB/s eta 0:00:15\n",
      "   ----------------------- ---------------- 11.1/19.1 MB 562.9 kB/s eta 0:00:15\n",
      "   ----------------------- ---------------- 11.2/19.1 MB 565.4 kB/s eta 0:00:14\n",
      "   ----------------------- ---------------- 11.2/19.1 MB 566.8 kB/s eta 0:00:14\n",
      "   ----------------------- ---------------- 11.3/19.1 MB 576.8 kB/s eta 0:00:14\n",
      "   ----------------------- ---------------- 11.3/19.1 MB 579.9 kB/s eta 0:00:14\n",
      "   ----------------------- ---------------- 11.4/19.1 MB 581.5 kB/s eta 0:00:14\n",
      "   ------------------------ --------------- 11.5/19.1 MB 583.5 kB/s eta 0:00:14\n",
      "   ------------------------ --------------- 11.5/19.1 MB 586.7 kB/s eta 0:00:13\n",
      "   ------------------------ --------------- 11.6/19.1 MB 588.8 kB/s eta 0:00:13\n",
      "   ------------------------ --------------- 11.7/19.1 MB 589.8 kB/s eta 0:00:13\n",
      "   ------------------------ --------------- 11.7/19.1 MB 594.6 kB/s eta 0:00:13\n",
      "   ------------------------ --------------- 11.7/19.1 MB 594.6 kB/s eta 0:00:13\n",
      "   ------------------------ --------------- 11.8/19.1 MB 611.3 kB/s eta 0:00:12\n",
      "   ------------------------- -------------- 11.9/19.1 MB 615.9 kB/s eta 0:00:12\n",
      "   ------------------------- -------------- 12.0/19.1 MB 617.6 kB/s eta 0:00:12\n",
      "   ------------------------- -------------- 12.0/19.1 MB 633.2 kB/s eta 0:00:12\n",
      "   ------------------------- -------------- 12.1/19.1 MB 641.8 kB/s eta 0:00:11\n",
      "   ------------------------- -------------- 12.2/19.1 MB 647.6 kB/s eta 0:00:11\n",
      "   ------------------------- -------------- 12.2/19.1 MB 652.1 kB/s eta 0:00:11\n",
      "   ------------------------- -------------- 12.3/19.1 MB 653.4 kB/s eta 0:00:11\n",
      "   ------------------------- -------------- 12.3/19.1 MB 656.0 kB/s eta 0:00:11\n",
      "   -------------------------- ------------- 12.4/19.1 MB 666.0 kB/s eta 0:00:10\n",
      "   -------------------------- ------------- 12.5/19.1 MB 672.2 kB/s eta 0:00:10\n",
      "   -------------------------- ------------- 12.5/19.1 MB 676.3 kB/s eta 0:00:10\n",
      "   -------------------------- ------------- 12.6/19.1 MB 678.5 kB/s eta 0:00:10\n",
      "   -------------------------- ------------- 12.6/19.1 MB 682.0 kB/s eta 0:00:10\n",
      "   -------------------------- ------------- 12.7/19.1 MB 681.3 kB/s eta 0:00:10\n",
      "   -------------------------- ------------- 12.7/19.1 MB 680.5 kB/s eta 0:00:10\n",
      "   -------------------------- ------------- 12.7/19.1 MB 680.6 kB/s eta 0:00:10\n",
      "   -------------------------- ------------- 12.7/19.1 MB 680.6 kB/s eta 0:00:10\n",
      "   -------------------------- ------------- 12.7/19.1 MB 680.6 kB/s eta 0:00:10\n",
      "   -------------------------- ------------- 12.7/19.1 MB 680.6 kB/s eta 0:00:10\n",
      "   -------------------------- ------------- 12.8/19.1 MB 678.5 kB/s eta 0:00:10\n",
      "   -------------------------- ------------- 12.8/19.1 MB 676.3 kB/s eta 0:00:10\n",
      "   -------------------------- ------------- 12.8/19.1 MB 676.3 kB/s eta 0:00:10\n",
      "   --------------------------- ------------ 12.9/19.1 MB 677.7 kB/s eta 0:00:10\n",
      "   --------------------------- ------------ 13.0/19.1 MB 677.1 kB/s eta 0:00:10\n",
      "   --------------------------- ------------ 13.0/19.1 MB 678.4 kB/s eta 0:00:09\n",
      "   --------------------------- ------------ 13.0/19.1 MB 681.3 kB/s eta 0:00:09\n",
      "   --------------------------- ------------ 13.0/19.1 MB 679.9 kB/s eta 0:00:09\n",
      "   --------------------------- ------------ 13.1/19.1 MB 682.7 kB/s eta 0:00:09\n",
      "   --------------------------- ------------ 13.1/19.1 MB 682.7 kB/s eta 0:00:09\n",
      "   --------------------------- ------------ 13.2/19.1 MB 685.5 kB/s eta 0:00:09\n",
      "   --------------------------- ------------ 13.2/19.1 MB 687.0 kB/s eta 0:00:09\n",
      "   --------------------------- ------------ 13.2/19.1 MB 688.5 kB/s eta 0:00:09\n",
      "   --------------------------- ------------ 13.3/19.1 MB 690.6 kB/s eta 0:00:09\n",
      "   --------------------------- ------------ 13.3/19.1 MB 689.9 kB/s eta 0:00:09\n",
      "   ---------------------------- ----------- 13.4/19.1 MB 690.6 kB/s eta 0:00:09\n",
      "   ---------------------------- ----------- 13.4/19.1 MB 690.6 kB/s eta 0:00:09\n",
      "   ---------------------------- ----------- 13.4/19.1 MB 690.6 kB/s eta 0:00:09\n",
      "   ---------------------------- ----------- 13.4/19.1 MB 690.6 kB/s eta 0:00:09\n",
      "   ---------------------------- ----------- 13.4/19.1 MB 690.6 kB/s eta 0:00:09\n",
      "   ---------------------------- ----------- 13.4/19.1 MB 690.6 kB/s eta 0:00:09\n",
      "   ---------------------------- ----------- 13.4/19.1 MB 690.6 kB/s eta 0:00:09\n",
      "   ---------------------------- ----------- 13.4/19.1 MB 690.6 kB/s eta 0:00:09\n",
      "   ---------------------------- ----------- 13.4/19.1 MB 690.6 kB/s eta 0:00:09\n",
      "   ---------------------------- ----------- 13.4/19.1 MB 690.6 kB/s eta 0:00:09\n",
      "   ---------------------------- ----------- 13.4/19.1 MB 670.8 kB/s eta 0:00:09\n",
      "   ---------------------------- ----------- 13.5/19.1 MB 671.5 kB/s eta 0:00:09\n",
      "   ---------------------------- ----------- 13.5/19.1 MB 671.5 kB/s eta 0:00:09\n",
      "   ---------------------------- ----------- 13.5/19.1 MB 669.4 kB/s eta 0:00:09\n",
      "   ---------------------------- ----------- 13.5/19.1 MB 669.4 kB/s eta 0:00:09\n",
      "   ---------------------------- ----------- 13.5/19.1 MB 669.4 kB/s eta 0:00:09\n",
      "   ---------------------------- ----------- 13.5/19.1 MB 669.4 kB/s eta 0:00:09\n",
      "   ---------------------------- ----------- 13.5/19.1 MB 664.0 kB/s eta 0:00:09\n",
      "   ---------------------------- ----------- 13.5/19.1 MB 664.0 kB/s eta 0:00:09\n",
      "   ---------------------------- ----------- 13.6/19.1 MB 662.7 kB/s eta 0:00:09\n",
      "   ---------------------------- ----------- 13.6/19.1 MB 662.0 kB/s eta 0:00:09\n",
      "   ---------------------------- ----------- 13.6/19.1 MB 662.0 kB/s eta 0:00:09\n",
      "   ---------------------------- ----------- 13.6/19.1 MB 664.7 kB/s eta 0:00:09\n",
      "   ---------------------------- ----------- 13.6/19.1 MB 664.7 kB/s eta 0:00:09\n",
      "   ---------------------------- ----------- 13.6/19.1 MB 666.7 kB/s eta 0:00:09\n",
      "   ---------------------------- ----------- 13.6/19.1 MB 666.7 kB/s eta 0:00:09\n",
      "   ---------------------------- ----------- 13.6/19.1 MB 666.7 kB/s eta 0:00:09\n",
      "   ---------------------------- ----------- 13.6/19.1 MB 660.6 kB/s eta 0:00:09\n",
      "   ---------------------------- ----------- 13.6/19.1 MB 660.6 kB/s eta 0:00:09\n",
      "   ---------------------------- ----------- 13.6/19.1 MB 656.6 kB/s eta 0:00:09\n",
      "   ---------------------------- ----------- 13.6/19.1 MB 656.0 kB/s eta 0:00:09\n",
      "   ---------------------------- ----------- 13.7/19.1 MB 654.0 kB/s eta 0:00:09\n",
      "   ---------------------------- ----------- 13.7/19.1 MB 654.7 kB/s eta 0:00:09\n",
      "   ---------------------------- ----------- 13.7/19.1 MB 654.0 kB/s eta 0:00:09\n",
      "   ---------------------------- ----------- 13.7/19.1 MB 654.1 kB/s eta 0:00:09\n",
      "   ---------------------------- ----------- 13.8/19.1 MB 655.3 kB/s eta 0:00:09\n",
      "   ---------------------------- ----------- 13.8/19.1 MB 654.7 kB/s eta 0:00:09\n",
      "   ---------------------------- ----------- 13.8/19.1 MB 655.3 kB/s eta 0:00:08\n",
      "   ----------------------------- ---------- 13.9/19.1 MB 658.0 kB/s eta 0:00:08\n",
      "   ----------------------------- ---------- 13.9/19.1 MB 658.0 kB/s eta 0:00:08\n",
      "   ----------------------------- ---------- 13.9/19.1 MB 654.7 kB/s eta 0:00:08\n",
      "   ----------------------------- ---------- 13.9/19.1 MB 652.7 kB/s eta 0:00:08\n",
      "   ----------------------------- ---------- 13.9/19.1 MB 652.7 kB/s eta 0:00:08\n",
      "   ----------------------------- ---------- 13.9/19.1 MB 652.8 kB/s eta 0:00:08\n",
      "   ----------------------------- ---------- 13.9/19.1 MB 651.5 kB/s eta 0:00:08\n",
      "   ----------------------------- ---------- 14.0/19.1 MB 650.2 kB/s eta 0:00:08\n",
      "   ----------------------------- ---------- 14.0/19.1 MB 650.8 kB/s eta 0:00:08\n",
      "   ----------------------------- ---------- 14.0/19.1 MB 649.5 kB/s eta 0:00:08\n",
      "   ----------------------------- ---------- 14.1/19.1 MB 648.8 kB/s eta 0:00:08\n",
      "   ----------------------------- ---------- 14.1/19.1 MB 648.8 kB/s eta 0:00:08\n",
      "   ----------------------------- ---------- 14.1/19.1 MB 647.6 kB/s eta 0:00:08\n",
      "   ----------------------------- ---------- 14.1/19.1 MB 647.6 kB/s eta 0:00:08\n",
      "   ----------------------------- ---------- 14.2/19.1 MB 645.0 kB/s eta 0:00:08\n",
      "   ----------------------------- ---------- 14.2/19.1 MB 652.1 kB/s eta 0:00:08\n",
      "   ----------------------------- ---------- 14.2/19.1 MB 652.1 kB/s eta 0:00:08\n",
      "   ----------------------------- ---------- 14.2/19.1 MB 650.1 kB/s eta 0:00:08\n",
      "   ----------------------------- ---------- 14.2/19.1 MB 647.6 kB/s eta 0:00:08\n",
      "   ----------------------------- ---------- 14.3/19.1 MB 647.6 kB/s eta 0:00:08\n",
      "   ----------------------------- ---------- 14.3/19.1 MB 647.6 kB/s eta 0:00:08\n",
      "   ------------------------------ --------- 14.3/19.1 MB 648.8 kB/s eta 0:00:08\n",
      "   ------------------------------ --------- 14.3/19.1 MB 650.2 kB/s eta 0:00:08\n",
      "   ------------------------------ --------- 14.4/19.1 MB 648.8 kB/s eta 0:00:08\n",
      "   ------------------------------ --------- 14.4/19.1 MB 651.5 kB/s eta 0:00:08\n",
      "   ------------------------------ --------- 14.4/19.1 MB 651.5 kB/s eta 0:00:08\n",
      "   ------------------------------ --------- 14.5/19.1 MB 658.7 kB/s eta 0:00:07\n",
      "   ------------------------------ --------- 14.5/19.1 MB 658.7 kB/s eta 0:00:07\n",
      "   ------------------------------ --------- 14.6/19.1 MB 657.3 kB/s eta 0:00:07\n",
      "   ------------------------------ --------- 14.6/19.1 MB 656.7 kB/s eta 0:00:07\n",
      "   ------------------------------ --------- 14.6/19.1 MB 656.7 kB/s eta 0:00:07\n",
      "   ------------------------------ --------- 14.6/19.1 MB 656.0 kB/s eta 0:00:07\n",
      "   ------------------------------ --------- 14.6/19.1 MB 655.4 kB/s eta 0:00:07\n",
      "   ------------------------------ --------- 14.7/19.1 MB 656.0 kB/s eta 0:00:07\n",
      "   ------------------------------ --------- 14.7/19.1 MB 656.0 kB/s eta 0:00:07\n",
      "   ------------------------------- -------- 14.8/19.1 MB 656.0 kB/s eta 0:00:07\n",
      "   ------------------------------- -------- 14.8/19.1 MB 657.4 kB/s eta 0:00:07\n",
      "   ------------------------------- -------- 14.9/19.1 MB 667.4 kB/s eta 0:00:07\n",
      "   ------------------------------- -------- 14.9/19.1 MB 667.4 kB/s eta 0:00:07\n",
      "   ------------------------------- -------- 15.0/19.1 MB 670.8 kB/s eta 0:00:07\n",
      "   ------------------------------- -------- 15.0/19.1 MB 672.8 kB/s eta 0:00:06\n",
      "   ------------------------------- -------- 15.1/19.1 MB 678.5 kB/s eta 0:00:06\n",
      "   ------------------------------- -------- 15.1/19.1 MB 678.5 kB/s eta 0:00:06\n",
      "   ------------------------------- -------- 15.2/19.1 MB 690.6 kB/s eta 0:00:06\n",
      "   ------------------------------- -------- 15.2/19.1 MB 693.5 kB/s eta 0:00:06\n",
      "   ------------------------------- -------- 15.2/19.1 MB 693.5 kB/s eta 0:00:06\n",
      "   -------------------------------- ------- 15.3/19.1 MB 701.0 kB/s eta 0:00:06\n",
      "   -------------------------------- ------- 15.3/19.1 MB 710.1 kB/s eta 0:00:06\n",
      "   -------------------------------- ------- 15.4/19.1 MB 712.4 kB/s eta 0:00:06\n",
      "   -------------------------------- ------- 15.4/19.1 MB 717.9 kB/s eta 0:00:06\n",
      "   -------------------------------- ------- 15.4/19.1 MB 717.1 kB/s eta 0:00:06\n",
      "   -------------------------------- ------- 15.5/19.1 MB 721.0 kB/s eta 0:00:05\n",
      "   -------------------------------- ------- 15.5/19.1 MB 733.2 kB/s eta 0:00:05\n",
      "   -------------------------------- ------- 15.6/19.1 MB 737.3 kB/s eta 0:00:05\n",
      "   -------------------------------- ------- 15.6/19.1 MB 743.1 kB/s eta 0:00:05\n",
      "   -------------------------------- ------- 15.7/19.1 MB 750.8 kB/s eta 0:00:05\n",
      "   -------------------------------- ------- 15.7/19.1 MB 759.5 kB/s eta 0:00:05\n",
      "   --------------------------------- ------ 15.7/19.1 MB 762.2 kB/s eta 0:00:05\n",
      "   --------------------------------- ------ 15.8/19.1 MB 762.2 kB/s eta 0:00:05\n",
      "   --------------------------------- ------ 15.8/19.1 MB 764.8 kB/s eta 0:00:05\n",
      "   --------------------------------- ------ 15.9/19.1 MB 770.3 kB/s eta 0:00:05\n",
      "   --------------------------------- ------ 15.9/19.1 MB 773.9 kB/s eta 0:00:05\n",
      "   --------------------------------- ------ 16.0/19.1 MB 778.5 kB/s eta 0:00:04\n",
      "   --------------------------------- ------ 16.0/19.1 MB 776.6 kB/s eta 0:00:04\n",
      "   --------------------------------- ------ 16.1/19.1 MB 776.6 kB/s eta 0:00:04\n",
      "   --------------------------------- ------ 16.1/19.1 MB 792.6 kB/s eta 0:00:04\n",
      "   --------------------------------- ------ 16.1/19.1 MB 789.7 kB/s eta 0:00:04\n",
      "   --------------------------------- ------ 16.1/19.1 MB 789.7 kB/s eta 0:00:04\n",
      "   --------------------------------- ------ 16.1/19.1 MB 785.9 kB/s eta 0:00:04\n",
      "   --------------------------------- ------ 16.1/19.1 MB 784.1 kB/s eta 0:00:04\n",
      "   --------------------------------- ------ 16.2/19.1 MB 787.9 kB/s eta 0:00:04\n",
      "   --------------------------------- ------ 16.2/19.1 MB 787.9 kB/s eta 0:00:04\n",
      "   ---------------------------------- ----- 16.2/19.1 MB 786.9 kB/s eta 0:00:04\n",
      "   ---------------------------------- ----- 16.2/19.1 MB 784.1 kB/s eta 0:00:04\n",
      "   ---------------------------------- ----- 16.3/19.1 MB 783.2 kB/s eta 0:00:04\n",
      "   ---------------------------------- ----- 16.3/19.1 MB 785.0 kB/s eta 0:00:04\n",
      "   ---------------------------------- ----- 16.3/19.1 MB 792.6 kB/s eta 0:00:04\n",
      "   ---------------------------------- ----- 16.4/19.1 MB 796.5 kB/s eta 0:00:04\n",
      "   ---------------------------------- ----- 16.4/19.1 MB 806.3 kB/s eta 0:00:04\n",
      "   ---------------------------------- ----- 16.4/19.1 MB 806.3 kB/s eta 0:00:04\n",
      "   ---------------------------------- ----- 16.4/19.1 MB 806.3 kB/s eta 0:00:04\n",
      "   ---------------------------------- ----- 16.5/19.1 MB 802.3 kB/s eta 0:00:04\n",
      "   ---------------------------------- ----- 16.5/19.1 MB 803.3 kB/s eta 0:00:04\n",
      "   ---------------------------------- ----- 16.6/19.1 MB 804.3 kB/s eta 0:00:04\n",
      "   ---------------------------------- ----- 16.6/19.1 MB 801.4 kB/s eta 0:00:04\n",
      "   ---------------------------------- ----- 16.6/19.1 MB 801.3 kB/s eta 0:00:04\n",
      "   ---------------------------------- ----- 16.6/19.1 MB 799.4 kB/s eta 0:00:04\n",
      "   ----------------------------------- ---- 16.7/19.1 MB 798.5 kB/s eta 0:00:03\n",
      "   ----------------------------------- ---- 16.7/19.1 MB 797.5 kB/s eta 0:00:03\n",
      "   ----------------------------------- ---- 16.8/19.1 MB 798.5 kB/s eta 0:00:03\n",
      "   ----------------------------------- ---- 16.8/19.1 MB 796.5 kB/s eta 0:00:03\n",
      "   ----------------------------------- ---- 16.9/19.1 MB 796.5 kB/s eta 0:00:03\n",
      "   ----------------------------------- ---- 16.9/19.1 MB 795.5 kB/s eta 0:00:03\n",
      "   ----------------------------------- ---- 17.0/19.1 MB 795.5 kB/s eta 0:00:03\n",
      "   ----------------------------------- ---- 17.0/19.1 MB 794.5 kB/s eta 0:00:03\n",
      "   ----------------------------------- ---- 17.0/19.1 MB 794.5 kB/s eta 0:00:03\n",
      "   ----------------------------------- ---- 17.1/19.1 MB 794.5 kB/s eta 0:00:03\n",
      "   ----------------------------------- ---- 17.1/19.1 MB 794.5 kB/s eta 0:00:03\n",
      "   ----------------------------------- ---- 17.1/19.1 MB 794.5 kB/s eta 0:00:03\n",
      "   ----------------------------------- ---- 17.1/19.1 MB 794.5 kB/s eta 0:00:03\n",
      "   ------------------------------------ --- 17.2/19.1 MB 785.9 kB/s eta 0:00:03\n",
      "   ------------------------------------ --- 17.2/19.1 MB 784.1 kB/s eta 0:00:03\n",
      "   ------------------------------------ --- 17.2/19.1 MB 782.2 kB/s eta 0:00:03\n",
      "   ------------------------------------ --- 17.2/19.1 MB 783.2 kB/s eta 0:00:03\n",
      "   ------------------------------------ --- 17.3/19.1 MB 779.4 kB/s eta 0:00:03\n",
      "   ------------------------------------ --- 17.3/19.1 MB 779.4 kB/s eta 0:00:03\n",
      "   ------------------------------------ --- 17.3/19.1 MB 778.5 kB/s eta 0:00:03\n",
      "   ------------------------------------ --- 17.3/19.1 MB 776.6 kB/s eta 0:00:03\n",
      "   ------------------------------------ --- 17.4/19.1 MB 776.6 kB/s eta 0:00:03\n",
      "   ------------------------------------ --- 17.4/19.1 MB 775.7 kB/s eta 0:00:03\n",
      "   ------------------------------------ --- 17.4/19.1 MB 775.7 kB/s eta 0:00:03\n",
      "   ------------------------------------ --- 17.5/19.1 MB 774.8 kB/s eta 0:00:03\n",
      "   ------------------------------------ --- 17.5/19.1 MB 775.7 kB/s eta 0:00:02\n",
      "   ------------------------------------ --- 17.6/19.1 MB 774.8 kB/s eta 0:00:02\n",
      "   ------------------------------------ --- 17.6/19.1 MB 773.9 kB/s eta 0:00:02\n",
      "   ------------------------------------- -- 17.7/19.1 MB 773.0 kB/s eta 0:00:02\n",
      "   ------------------------------------- -- 17.7/19.1 MB 773.0 kB/s eta 0:00:02\n",
      "   ------------------------------------- -- 17.7/19.1 MB 773.0 kB/s eta 0:00:02\n",
      "   ------------------------------------- -- 17.8/19.1 MB 772.9 kB/s eta 0:00:02\n",
      "   ------------------------------------- -- 17.8/19.1 MB 773.9 kB/s eta 0:00:02\n",
      "   ------------------------------------- -- 17.9/19.1 MB 774.8 kB/s eta 0:00:02\n",
      "   ------------------------------------- -- 18.0/19.1 MB 775.7 kB/s eta 0:00:02\n",
      "   ------------------------------------- -- 18.0/19.1 MB 781.3 kB/s eta 0:00:02\n",
      "   -------------------------------------- - 18.1/19.1 MB 785.0 kB/s eta 0:00:02\n",
      "   -------------------------------------- - 18.2/19.1 MB 788.8 kB/s eta 0:00:02\n",
      "   -------------------------------------- - 18.3/19.1 MB 789.8 kB/s eta 0:00:02\n",
      "   -------------------------------------- - 18.3/19.1 MB 789.8 kB/s eta 0:00:02\n",
      "   -------------------------------------- - 18.3/19.1 MB 789.8 kB/s eta 0:00:01\n",
      "   -------------------------------------- - 18.4/19.1 MB 794.5 kB/s eta 0:00:01\n",
      "   -------------------------------------- - 18.4/19.1 MB 795.5 kB/s eta 0:00:01\n",
      "   -------------------------------------- - 18.4/19.1 MB 795.5 kB/s eta 0:00:01\n",
      "   -------------------------------------- - 18.5/19.1 MB 795.5 kB/s eta 0:00:01\n",
      "   -------------------------------------- - 18.5/19.1 MB 794.5 kB/s eta 0:00:01\n",
      "   -------------------------------------- - 18.5/19.1 MB 793.6 kB/s eta 0:00:01\n",
      "   ---------------------------------------  18.6/19.1 MB 794.5 kB/s eta 0:00:01\n",
      "   ---------------------------------------  18.6/19.1 MB 794.5 kB/s eta 0:00:01\n",
      "   ---------------------------------------  18.7/19.1 MB 796.5 kB/s eta 0:00:01\n",
      "   ---------------------------------------  18.7/19.1 MB 798.5 kB/s eta 0:00:01\n",
      "   ---------------------------------------  18.8/19.1 MB 801.4 kB/s eta 0:00:01\n",
      "   ---------------------------------------  18.8/19.1 MB 798.5 kB/s eta 0:00:01\n",
      "   ---------------------------------------  18.8/19.1 MB 801.3 kB/s eta 0:00:01\n",
      "   ---------------------------------------  18.8/19.1 MB 799.4 kB/s eta 0:00:01\n",
      "   ---------------------------------------  18.9/19.1 MB 798.4 kB/s eta 0:00:01\n",
      "   ---------------------------------------  18.9/19.1 MB 795.5 kB/s eta 0:00:01\n",
      "   ---------------------------------------  18.9/19.1 MB 796.5 kB/s eta 0:00:01\n",
      "   ---------------------------------------  18.9/19.1 MB 795.5 kB/s eta 0:00:01\n",
      "   ---------------------------------------  19.0/19.1 MB 793.6 kB/s eta 0:00:01\n",
      "   ---------------------------------------  19.0/19.1 MB 791.7 kB/s eta 0:00:01\n",
      "   ---------------------------------------  19.0/19.1 MB 790.7 kB/s eta 0:00:01\n",
      "   ---------------------------------------- 19.1/19.1 MB 787.7 kB/s eta 0:00:00\n",
      "Downloading tenacity-9.0.0-py3-none-any.whl (28 kB)\n",
      "Installing collected packages: tenacity, plotly\n",
      "Successfully installed plotly-5.24.1 tenacity-9.0.0\n",
      "Note: you may need to restart the kernel to use updated packages.\n"
     ]
    },
    {
     "name": "stderr",
     "output_type": "stream",
     "text": [
      "\n",
      "[notice] A new release of pip is available: 23.2.1 -> 24.3.1\n",
      "[notice] To update, run: python.exe -m pip install --upgrade pip\n"
     ]
    }
   ],
   "source": [
    "pip install plotly\n"
   ]
  },
  {
   "cell_type": "code",
   "execution_count": 70,
   "id": "27c6fd9a-eb69-442e-a114-c651f92a3770",
   "metadata": {},
   "outputs": [],
   "source": [
    "import plotly.express as px\n",
    "\n",
    "# Exemple de graphique interactif pour la répartition des risques\n",
    "fig = px.histogram(df, x='Risk', title=\"Répartition des risques\")\n",
    "fig.show(renderer=\"browser\")\n"
   ]
  },
  {
   "cell_type": "code",
   "execution_count": 66,
   "id": "f9f5f8a3-0b39-40ee-85a8-9c131e0abaee",
   "metadata": {},
   "outputs": [
    {
     "data": {
      "application/vnd.plotly.v1+json": {
       "config": {
        "plotlyServerURL": "https://plot.ly"
       },
       "data": [
        {
         "hovertemplate": "Risk=%{y}<br>Age=%{x}<extra></extra>",
         "legendgroup": "Low",
         "marker": {
          "color": "#636efa",
          "symbol": "circle"
         },
         "mode": "markers",
         "name": "Low",
         "orientation": "h",
         "showlegend": true,
         "type": "scatter",
         "x": [
          34,
          62,
          52,
          41,
          46,
          51,
          40,
          75,
          59,
          49,
          50,
          76,
          42,
          40,
          44,
          43,
          52,
          41,
          44,
          36,
          70,
          60,
          33,
          43,
          41,
          37,
          37,
          30,
          36,
          55,
          52,
          37,
          31,
          43,
          40,
          34,
          51,
          45,
          38,
          38,
          33,
          43,
          30,
          43,
          43,
          35,
          54,
          54,
          38,
          35,
          51,
          51,
          40,
          69,
          31,
          30,
          35,
          50,
          25,
          73,
          36,
          62,
          39,
          37,
          26,
          31,
          24,
          57,
          28,
          44,
          42,
          27,
          51,
          33,
          42,
          26,
          24,
          60,
          60,
          31,
          66,
          44,
          32,
          26,
          37,
          33,
          23,
          47,
          28,
          37,
          26,
          28
         ],
         "xaxis": "x",
         "y": [
          "Low",
          "Low",
          "Low",
          "Low",
          "Low",
          "Low",
          "Low",
          "Low",
          "Low",
          "Low",
          "Low",
          "Low",
          "Low",
          "Low",
          "Low",
          "Low",
          "Low",
          "Low",
          "Low",
          "Low",
          "Low",
          "Low",
          "Low",
          "Low",
          "Low",
          "Low",
          "Low",
          "Low",
          "Low",
          "Low",
          "Low",
          "Low",
          "Low",
          "Low",
          "Low",
          "Low",
          "Low",
          "Low",
          "Low",
          "Low",
          "Low",
          "Low",
          "Low",
          "Low",
          "Low",
          "Low",
          "Low",
          "Low",
          "Low",
          "Low",
          "Low",
          "Low",
          "Low",
          "Low",
          "Low",
          "Low",
          "Low",
          "Low",
          "Low",
          "Low",
          "Low",
          "Low",
          "Low",
          "Low",
          "Low",
          "Low",
          "Low",
          "Low",
          "Low",
          "Low",
          "Low",
          "Low",
          "Low",
          "Low",
          "Low",
          "Low",
          "Low",
          "Low",
          "Low",
          "Low",
          "Low",
          "Low",
          "Low",
          "Low",
          "Low",
          "Low",
          "Low",
          "Low",
          "Low",
          "Low",
          "Low",
          "Low"
         ],
         "yaxis": "y"
        },
        {
         "hovertemplate": "Risk=%{y}<br>Age=%{x}<extra></extra>",
         "legendgroup": "Intermediate",
         "marker": {
          "color": "#EF553B",
          "symbol": "circle"
         },
         "mode": "markers",
         "name": "Intermediate",
         "orientation": "h",
         "showlegend": true,
         "type": "scatter",
         "x": [
          31,
          31,
          40,
          33,
          35,
          31,
          18,
          62
         ],
         "xaxis": "x",
         "y": [
          "Intermediate",
          "Intermediate",
          "Intermediate",
          "Intermediate",
          "Intermediate",
          "Intermediate",
          "Intermediate",
          "Intermediate"
         ],
         "yaxis": "y"
        }
       ],
       "layout": {
        "legend": {
         "title": {
          "text": "Risk"
         },
         "tracegroupgap": 0
        },
        "template": {
         "data": {
          "bar": [
           {
            "error_x": {
             "color": "#2a3f5f"
            },
            "error_y": {
             "color": "#2a3f5f"
            },
            "marker": {
             "line": {
              "color": "#E5ECF6",
              "width": 0.5
             },
             "pattern": {
              "fillmode": "overlay",
              "size": 10,
              "solidity": 0.2
             }
            },
            "type": "bar"
           }
          ],
          "barpolar": [
           {
            "marker": {
             "line": {
              "color": "#E5ECF6",
              "width": 0.5
             },
             "pattern": {
              "fillmode": "overlay",
              "size": 10,
              "solidity": 0.2
             }
            },
            "type": "barpolar"
           }
          ],
          "carpet": [
           {
            "aaxis": {
             "endlinecolor": "#2a3f5f",
             "gridcolor": "white",
             "linecolor": "white",
             "minorgridcolor": "white",
             "startlinecolor": "#2a3f5f"
            },
            "baxis": {
             "endlinecolor": "#2a3f5f",
             "gridcolor": "white",
             "linecolor": "white",
             "minorgridcolor": "white",
             "startlinecolor": "#2a3f5f"
            },
            "type": "carpet"
           }
          ],
          "choropleth": [
           {
            "colorbar": {
             "outlinewidth": 0,
             "ticks": ""
            },
            "type": "choropleth"
           }
          ],
          "contour": [
           {
            "colorbar": {
             "outlinewidth": 0,
             "ticks": ""
            },
            "colorscale": [
             [
              0,
              "#0d0887"
             ],
             [
              0.1111111111111111,
              "#46039f"
             ],
             [
              0.2222222222222222,
              "#7201a8"
             ],
             [
              0.3333333333333333,
              "#9c179e"
             ],
             [
              0.4444444444444444,
              "#bd3786"
             ],
             [
              0.5555555555555556,
              "#d8576b"
             ],
             [
              0.6666666666666666,
              "#ed7953"
             ],
             [
              0.7777777777777778,
              "#fb9f3a"
             ],
             [
              0.8888888888888888,
              "#fdca26"
             ],
             [
              1,
              "#f0f921"
             ]
            ],
            "type": "contour"
           }
          ],
          "contourcarpet": [
           {
            "colorbar": {
             "outlinewidth": 0,
             "ticks": ""
            },
            "type": "contourcarpet"
           }
          ],
          "heatmap": [
           {
            "colorbar": {
             "outlinewidth": 0,
             "ticks": ""
            },
            "colorscale": [
             [
              0,
              "#0d0887"
             ],
             [
              0.1111111111111111,
              "#46039f"
             ],
             [
              0.2222222222222222,
              "#7201a8"
             ],
             [
              0.3333333333333333,
              "#9c179e"
             ],
             [
              0.4444444444444444,
              "#bd3786"
             ],
             [
              0.5555555555555556,
              "#d8576b"
             ],
             [
              0.6666666666666666,
              "#ed7953"
             ],
             [
              0.7777777777777778,
              "#fb9f3a"
             ],
             [
              0.8888888888888888,
              "#fdca26"
             ],
             [
              1,
              "#f0f921"
             ]
            ],
            "type": "heatmap"
           }
          ],
          "heatmapgl": [
           {
            "colorbar": {
             "outlinewidth": 0,
             "ticks": ""
            },
            "colorscale": [
             [
              0,
              "#0d0887"
             ],
             [
              0.1111111111111111,
              "#46039f"
             ],
             [
              0.2222222222222222,
              "#7201a8"
             ],
             [
              0.3333333333333333,
              "#9c179e"
             ],
             [
              0.4444444444444444,
              "#bd3786"
             ],
             [
              0.5555555555555556,
              "#d8576b"
             ],
             [
              0.6666666666666666,
              "#ed7953"
             ],
             [
              0.7777777777777778,
              "#fb9f3a"
             ],
             [
              0.8888888888888888,
              "#fdca26"
             ],
             [
              1,
              "#f0f921"
             ]
            ],
            "type": "heatmapgl"
           }
          ],
          "histogram": [
           {
            "marker": {
             "pattern": {
              "fillmode": "overlay",
              "size": 10,
              "solidity": 0.2
             }
            },
            "type": "histogram"
           }
          ],
          "histogram2d": [
           {
            "colorbar": {
             "outlinewidth": 0,
             "ticks": ""
            },
            "colorscale": [
             [
              0,
              "#0d0887"
             ],
             [
              0.1111111111111111,
              "#46039f"
             ],
             [
              0.2222222222222222,
              "#7201a8"
             ],
             [
              0.3333333333333333,
              "#9c179e"
             ],
             [
              0.4444444444444444,
              "#bd3786"
             ],
             [
              0.5555555555555556,
              "#d8576b"
             ],
             [
              0.6666666666666666,
              "#ed7953"
             ],
             [
              0.7777777777777778,
              "#fb9f3a"
             ],
             [
              0.8888888888888888,
              "#fdca26"
             ],
             [
              1,
              "#f0f921"
             ]
            ],
            "type": "histogram2d"
           }
          ],
          "histogram2dcontour": [
           {
            "colorbar": {
             "outlinewidth": 0,
             "ticks": ""
            },
            "colorscale": [
             [
              0,
              "#0d0887"
             ],
             [
              0.1111111111111111,
              "#46039f"
             ],
             [
              0.2222222222222222,
              "#7201a8"
             ],
             [
              0.3333333333333333,
              "#9c179e"
             ],
             [
              0.4444444444444444,
              "#bd3786"
             ],
             [
              0.5555555555555556,
              "#d8576b"
             ],
             [
              0.6666666666666666,
              "#ed7953"
             ],
             [
              0.7777777777777778,
              "#fb9f3a"
             ],
             [
              0.8888888888888888,
              "#fdca26"
             ],
             [
              1,
              "#f0f921"
             ]
            ],
            "type": "histogram2dcontour"
           }
          ],
          "mesh3d": [
           {
            "colorbar": {
             "outlinewidth": 0,
             "ticks": ""
            },
            "type": "mesh3d"
           }
          ],
          "parcoords": [
           {
            "line": {
             "colorbar": {
              "outlinewidth": 0,
              "ticks": ""
             }
            },
            "type": "parcoords"
           }
          ],
          "pie": [
           {
            "automargin": true,
            "type": "pie"
           }
          ],
          "scatter": [
           {
            "fillpattern": {
             "fillmode": "overlay",
             "size": 10,
             "solidity": 0.2
            },
            "type": "scatter"
           }
          ],
          "scatter3d": [
           {
            "line": {
             "colorbar": {
              "outlinewidth": 0,
              "ticks": ""
             }
            },
            "marker": {
             "colorbar": {
              "outlinewidth": 0,
              "ticks": ""
             }
            },
            "type": "scatter3d"
           }
          ],
          "scattercarpet": [
           {
            "marker": {
             "colorbar": {
              "outlinewidth": 0,
              "ticks": ""
             }
            },
            "type": "scattercarpet"
           }
          ],
          "scattergeo": [
           {
            "marker": {
             "colorbar": {
              "outlinewidth": 0,
              "ticks": ""
             }
            },
            "type": "scattergeo"
           }
          ],
          "scattergl": [
           {
            "marker": {
             "colorbar": {
              "outlinewidth": 0,
              "ticks": ""
             }
            },
            "type": "scattergl"
           }
          ],
          "scattermapbox": [
           {
            "marker": {
             "colorbar": {
              "outlinewidth": 0,
              "ticks": ""
             }
            },
            "type": "scattermapbox"
           }
          ],
          "scatterpolar": [
           {
            "marker": {
             "colorbar": {
              "outlinewidth": 0,
              "ticks": ""
             }
            },
            "type": "scatterpolar"
           }
          ],
          "scatterpolargl": [
           {
            "marker": {
             "colorbar": {
              "outlinewidth": 0,
              "ticks": ""
             }
            },
            "type": "scatterpolargl"
           }
          ],
          "scatterternary": [
           {
            "marker": {
             "colorbar": {
              "outlinewidth": 0,
              "ticks": ""
             }
            },
            "type": "scatterternary"
           }
          ],
          "surface": [
           {
            "colorbar": {
             "outlinewidth": 0,
             "ticks": ""
            },
            "colorscale": [
             [
              0,
              "#0d0887"
             ],
             [
              0.1111111111111111,
              "#46039f"
             ],
             [
              0.2222222222222222,
              "#7201a8"
             ],
             [
              0.3333333333333333,
              "#9c179e"
             ],
             [
              0.4444444444444444,
              "#bd3786"
             ],
             [
              0.5555555555555556,
              "#d8576b"
             ],
             [
              0.6666666666666666,
              "#ed7953"
             ],
             [
              0.7777777777777778,
              "#fb9f3a"
             ],
             [
              0.8888888888888888,
              "#fdca26"
             ],
             [
              1,
              "#f0f921"
             ]
            ],
            "type": "surface"
           }
          ],
          "table": [
           {
            "cells": {
             "fill": {
              "color": "#EBF0F8"
             },
             "line": {
              "color": "white"
             }
            },
            "header": {
             "fill": {
              "color": "#C8D4E3"
             },
             "line": {
              "color": "white"
             }
            },
            "type": "table"
           }
          ]
         },
         "layout": {
          "annotationdefaults": {
           "arrowcolor": "#2a3f5f",
           "arrowhead": 0,
           "arrowwidth": 1
          },
          "autotypenumbers": "strict",
          "coloraxis": {
           "colorbar": {
            "outlinewidth": 0,
            "ticks": ""
           }
          },
          "colorscale": {
           "diverging": [
            [
             0,
             "#8e0152"
            ],
            [
             0.1,
             "#c51b7d"
            ],
            [
             0.2,
             "#de77ae"
            ],
            [
             0.3,
             "#f1b6da"
            ],
            [
             0.4,
             "#fde0ef"
            ],
            [
             0.5,
             "#f7f7f7"
            ],
            [
             0.6,
             "#e6f5d0"
            ],
            [
             0.7,
             "#b8e186"
            ],
            [
             0.8,
             "#7fbc41"
            ],
            [
             0.9,
             "#4d9221"
            ],
            [
             1,
             "#276419"
            ]
           ],
           "sequential": [
            [
             0,
             "#0d0887"
            ],
            [
             0.1111111111111111,
             "#46039f"
            ],
            [
             0.2222222222222222,
             "#7201a8"
            ],
            [
             0.3333333333333333,
             "#9c179e"
            ],
            [
             0.4444444444444444,
             "#bd3786"
            ],
            [
             0.5555555555555556,
             "#d8576b"
            ],
            [
             0.6666666666666666,
             "#ed7953"
            ],
            [
             0.7777777777777778,
             "#fb9f3a"
            ],
            [
             0.8888888888888888,
             "#fdca26"
            ],
            [
             1,
             "#f0f921"
            ]
           ],
           "sequentialminus": [
            [
             0,
             "#0d0887"
            ],
            [
             0.1111111111111111,
             "#46039f"
            ],
            [
             0.2222222222222222,
             "#7201a8"
            ],
            [
             0.3333333333333333,
             "#9c179e"
            ],
            [
             0.4444444444444444,
             "#bd3786"
            ],
            [
             0.5555555555555556,
             "#d8576b"
            ],
            [
             0.6666666666666666,
             "#ed7953"
            ],
            [
             0.7777777777777778,
             "#fb9f3a"
            ],
            [
             0.8888888888888888,
             "#fdca26"
            ],
            [
             1,
             "#f0f921"
            ]
           ]
          },
          "colorway": [
           "#636efa",
           "#EF553B",
           "#00cc96",
           "#ab63fa",
           "#FFA15A",
           "#19d3f3",
           "#FF6692",
           "#B6E880",
           "#FF97FF",
           "#FECB52"
          ],
          "font": {
           "color": "#2a3f5f"
          },
          "geo": {
           "bgcolor": "white",
           "lakecolor": "white",
           "landcolor": "#E5ECF6",
           "showlakes": true,
           "showland": true,
           "subunitcolor": "white"
          },
          "hoverlabel": {
           "align": "left"
          },
          "hovermode": "closest",
          "mapbox": {
           "style": "light"
          },
          "paper_bgcolor": "white",
          "plot_bgcolor": "#E5ECF6",
          "polar": {
           "angularaxis": {
            "gridcolor": "white",
            "linecolor": "white",
            "ticks": ""
           },
           "bgcolor": "#E5ECF6",
           "radialaxis": {
            "gridcolor": "white",
            "linecolor": "white",
            "ticks": ""
           }
          },
          "scene": {
           "xaxis": {
            "backgroundcolor": "#E5ECF6",
            "gridcolor": "white",
            "gridwidth": 2,
            "linecolor": "white",
            "showbackground": true,
            "ticks": "",
            "zerolinecolor": "white"
           },
           "yaxis": {
            "backgroundcolor": "#E5ECF6",
            "gridcolor": "white",
            "gridwidth": 2,
            "linecolor": "white",
            "showbackground": true,
            "ticks": "",
            "zerolinecolor": "white"
           },
           "zaxis": {
            "backgroundcolor": "#E5ECF6",
            "gridcolor": "white",
            "gridwidth": 2,
            "linecolor": "white",
            "showbackground": true,
            "ticks": "",
            "zerolinecolor": "white"
           }
          },
          "shapedefaults": {
           "line": {
            "color": "#2a3f5f"
           }
          },
          "ternary": {
           "aaxis": {
            "gridcolor": "white",
            "linecolor": "white",
            "ticks": ""
           },
           "baxis": {
            "gridcolor": "white",
            "linecolor": "white",
            "ticks": ""
           },
           "bgcolor": "#E5ECF6",
           "caxis": {
            "gridcolor": "white",
            "linecolor": "white",
            "ticks": ""
           }
          },
          "title": {
           "x": 0.05
          },
          "xaxis": {
           "automargin": true,
           "gridcolor": "white",
           "linecolor": "white",
           "ticks": "",
           "title": {
            "standoff": 15
           },
           "zerolinecolor": "white",
           "zerolinewidth": 2
          },
          "yaxis": {
           "automargin": true,
           "gridcolor": "white",
           "linecolor": "white",
           "ticks": "",
           "title": {
            "standoff": 15
           },
           "zerolinecolor": "white",
           "zerolinewidth": 2
          }
         }
        },
        "title": {
         "text": "Relation entre l'âge et le risque de la thyroïde"
        },
        "xaxis": {
         "anchor": "y",
         "domain": [
          0,
          1
         ],
         "title": {
          "text": "Age"
         }
        },
        "yaxis": {
         "anchor": "x",
         "categoryarray": [
          "Intermediate",
          "Low"
         ],
         "categoryorder": "array",
         "domain": [
          0,
          1
         ],
         "title": {
          "text": "Risk"
         }
        }
       }
      },
      "text/html": [
       "<div>                            <div id=\"6992811c-5f70-420d-b3c2-864304abb70d\" class=\"plotly-graph-div\" style=\"height:525px; width:100%;\"></div>            <script type=\"text/javascript\">                require([\"plotly\"], function(Plotly) {                    window.PLOTLYENV=window.PLOTLYENV || {};                                    if (document.getElementById(\"6992811c-5f70-420d-b3c2-864304abb70d\")) {                    Plotly.newPlot(                        \"6992811c-5f70-420d-b3c2-864304abb70d\",                        [{\"hovertemplate\":\"Risk=%{y}\\u003cbr\\u003eAge=%{x}\\u003cextra\\u003e\\u003c\\u002fextra\\u003e\",\"legendgroup\":\"Low\",\"marker\":{\"color\":\"#636efa\",\"symbol\":\"circle\"},\"mode\":\"markers\",\"name\":\"Low\",\"orientation\":\"h\",\"showlegend\":true,\"x\":[34,62,52,41,46,51,40,75,59,49,50,76,42,40,44,43,52,41,44,36,70,60,33,43,41,37,37,30,36,55,52,37,31,43,40,34,51,45,38,38,33,43,30,43,43,35,54,54,38,35,51,51,40,69,31,30,35,50,25,73,36,62,39,37,26,31,24,57,28,44,42,27,51,33,42,26,24,60,60,31,66,44,32,26,37,33,23,47,28,37,26,28],\"xaxis\":\"x\",\"y\":[\"Low\",\"Low\",\"Low\",\"Low\",\"Low\",\"Low\",\"Low\",\"Low\",\"Low\",\"Low\",\"Low\",\"Low\",\"Low\",\"Low\",\"Low\",\"Low\",\"Low\",\"Low\",\"Low\",\"Low\",\"Low\",\"Low\",\"Low\",\"Low\",\"Low\",\"Low\",\"Low\",\"Low\",\"Low\",\"Low\",\"Low\",\"Low\",\"Low\",\"Low\",\"Low\",\"Low\",\"Low\",\"Low\",\"Low\",\"Low\",\"Low\",\"Low\",\"Low\",\"Low\",\"Low\",\"Low\",\"Low\",\"Low\",\"Low\",\"Low\",\"Low\",\"Low\",\"Low\",\"Low\",\"Low\",\"Low\",\"Low\",\"Low\",\"Low\",\"Low\",\"Low\",\"Low\",\"Low\",\"Low\",\"Low\",\"Low\",\"Low\",\"Low\",\"Low\",\"Low\",\"Low\",\"Low\",\"Low\",\"Low\",\"Low\",\"Low\",\"Low\",\"Low\",\"Low\",\"Low\",\"Low\",\"Low\",\"Low\",\"Low\",\"Low\",\"Low\",\"Low\",\"Low\",\"Low\",\"Low\",\"Low\",\"Low\"],\"yaxis\":\"y\",\"type\":\"scatter\"},{\"hovertemplate\":\"Risk=%{y}\\u003cbr\\u003eAge=%{x}\\u003cextra\\u003e\\u003c\\u002fextra\\u003e\",\"legendgroup\":\"Intermediate\",\"marker\":{\"color\":\"#EF553B\",\"symbol\":\"circle\"},\"mode\":\"markers\",\"name\":\"Intermediate\",\"orientation\":\"h\",\"showlegend\":true,\"x\":[31,31,40,33,35,31,18,62],\"xaxis\":\"x\",\"y\":[\"Intermediate\",\"Intermediate\",\"Intermediate\",\"Intermediate\",\"Intermediate\",\"Intermediate\",\"Intermediate\",\"Intermediate\"],\"yaxis\":\"y\",\"type\":\"scatter\"}],                        {\"template\":{\"data\":{\"histogram2dcontour\":[{\"type\":\"histogram2dcontour\",\"colorbar\":{\"outlinewidth\":0,\"ticks\":\"\"},\"colorscale\":[[0.0,\"#0d0887\"],[0.1111111111111111,\"#46039f\"],[0.2222222222222222,\"#7201a8\"],[0.3333333333333333,\"#9c179e\"],[0.4444444444444444,\"#bd3786\"],[0.5555555555555556,\"#d8576b\"],[0.6666666666666666,\"#ed7953\"],[0.7777777777777778,\"#fb9f3a\"],[0.8888888888888888,\"#fdca26\"],[1.0,\"#f0f921\"]]}],\"choropleth\":[{\"type\":\"choropleth\",\"colorbar\":{\"outlinewidth\":0,\"ticks\":\"\"}}],\"histogram2d\":[{\"type\":\"histogram2d\",\"colorbar\":{\"outlinewidth\":0,\"ticks\":\"\"},\"colorscale\":[[0.0,\"#0d0887\"],[0.1111111111111111,\"#46039f\"],[0.2222222222222222,\"#7201a8\"],[0.3333333333333333,\"#9c179e\"],[0.4444444444444444,\"#bd3786\"],[0.5555555555555556,\"#d8576b\"],[0.6666666666666666,\"#ed7953\"],[0.7777777777777778,\"#fb9f3a\"],[0.8888888888888888,\"#fdca26\"],[1.0,\"#f0f921\"]]}],\"heatmap\":[{\"type\":\"heatmap\",\"colorbar\":{\"outlinewidth\":0,\"ticks\":\"\"},\"colorscale\":[[0.0,\"#0d0887\"],[0.1111111111111111,\"#46039f\"],[0.2222222222222222,\"#7201a8\"],[0.3333333333333333,\"#9c179e\"],[0.4444444444444444,\"#bd3786\"],[0.5555555555555556,\"#d8576b\"],[0.6666666666666666,\"#ed7953\"],[0.7777777777777778,\"#fb9f3a\"],[0.8888888888888888,\"#fdca26\"],[1.0,\"#f0f921\"]]}],\"heatmapgl\":[{\"type\":\"heatmapgl\",\"colorbar\":{\"outlinewidth\":0,\"ticks\":\"\"},\"colorscale\":[[0.0,\"#0d0887\"],[0.1111111111111111,\"#46039f\"],[0.2222222222222222,\"#7201a8\"],[0.3333333333333333,\"#9c179e\"],[0.4444444444444444,\"#bd3786\"],[0.5555555555555556,\"#d8576b\"],[0.6666666666666666,\"#ed7953\"],[0.7777777777777778,\"#fb9f3a\"],[0.8888888888888888,\"#fdca26\"],[1.0,\"#f0f921\"]]}],\"contourcarpet\":[{\"type\":\"contourcarpet\",\"colorbar\":{\"outlinewidth\":0,\"ticks\":\"\"}}],\"contour\":[{\"type\":\"contour\",\"colorbar\":{\"outlinewidth\":0,\"ticks\":\"\"},\"colorscale\":[[0.0,\"#0d0887\"],[0.1111111111111111,\"#46039f\"],[0.2222222222222222,\"#7201a8\"],[0.3333333333333333,\"#9c179e\"],[0.4444444444444444,\"#bd3786\"],[0.5555555555555556,\"#d8576b\"],[0.6666666666666666,\"#ed7953\"],[0.7777777777777778,\"#fb9f3a\"],[0.8888888888888888,\"#fdca26\"],[1.0,\"#f0f921\"]]}],\"surface\":[{\"type\":\"surface\",\"colorbar\":{\"outlinewidth\":0,\"ticks\":\"\"},\"colorscale\":[[0.0,\"#0d0887\"],[0.1111111111111111,\"#46039f\"],[0.2222222222222222,\"#7201a8\"],[0.3333333333333333,\"#9c179e\"],[0.4444444444444444,\"#bd3786\"],[0.5555555555555556,\"#d8576b\"],[0.6666666666666666,\"#ed7953\"],[0.7777777777777778,\"#fb9f3a\"],[0.8888888888888888,\"#fdca26\"],[1.0,\"#f0f921\"]]}],\"mesh3d\":[{\"type\":\"mesh3d\",\"colorbar\":{\"outlinewidth\":0,\"ticks\":\"\"}}],\"scatter\":[{\"fillpattern\":{\"fillmode\":\"overlay\",\"size\":10,\"solidity\":0.2},\"type\":\"scatter\"}],\"parcoords\":[{\"type\":\"parcoords\",\"line\":{\"colorbar\":{\"outlinewidth\":0,\"ticks\":\"\"}}}],\"scatterpolargl\":[{\"type\":\"scatterpolargl\",\"marker\":{\"colorbar\":{\"outlinewidth\":0,\"ticks\":\"\"}}}],\"bar\":[{\"error_x\":{\"color\":\"#2a3f5f\"},\"error_y\":{\"color\":\"#2a3f5f\"},\"marker\":{\"line\":{\"color\":\"#E5ECF6\",\"width\":0.5},\"pattern\":{\"fillmode\":\"overlay\",\"size\":10,\"solidity\":0.2}},\"type\":\"bar\"}],\"scattergeo\":[{\"type\":\"scattergeo\",\"marker\":{\"colorbar\":{\"outlinewidth\":0,\"ticks\":\"\"}}}],\"scatterpolar\":[{\"type\":\"scatterpolar\",\"marker\":{\"colorbar\":{\"outlinewidth\":0,\"ticks\":\"\"}}}],\"histogram\":[{\"marker\":{\"pattern\":{\"fillmode\":\"overlay\",\"size\":10,\"solidity\":0.2}},\"type\":\"histogram\"}],\"scattergl\":[{\"type\":\"scattergl\",\"marker\":{\"colorbar\":{\"outlinewidth\":0,\"ticks\":\"\"}}}],\"scatter3d\":[{\"type\":\"scatter3d\",\"line\":{\"colorbar\":{\"outlinewidth\":0,\"ticks\":\"\"}},\"marker\":{\"colorbar\":{\"outlinewidth\":0,\"ticks\":\"\"}}}],\"scattermapbox\":[{\"type\":\"scattermapbox\",\"marker\":{\"colorbar\":{\"outlinewidth\":0,\"ticks\":\"\"}}}],\"scatterternary\":[{\"type\":\"scatterternary\",\"marker\":{\"colorbar\":{\"outlinewidth\":0,\"ticks\":\"\"}}}],\"scattercarpet\":[{\"type\":\"scattercarpet\",\"marker\":{\"colorbar\":{\"outlinewidth\":0,\"ticks\":\"\"}}}],\"carpet\":[{\"aaxis\":{\"endlinecolor\":\"#2a3f5f\",\"gridcolor\":\"white\",\"linecolor\":\"white\",\"minorgridcolor\":\"white\",\"startlinecolor\":\"#2a3f5f\"},\"baxis\":{\"endlinecolor\":\"#2a3f5f\",\"gridcolor\":\"white\",\"linecolor\":\"white\",\"minorgridcolor\":\"white\",\"startlinecolor\":\"#2a3f5f\"},\"type\":\"carpet\"}],\"table\":[{\"cells\":{\"fill\":{\"color\":\"#EBF0F8\"},\"line\":{\"color\":\"white\"}},\"header\":{\"fill\":{\"color\":\"#C8D4E3\"},\"line\":{\"color\":\"white\"}},\"type\":\"table\"}],\"barpolar\":[{\"marker\":{\"line\":{\"color\":\"#E5ECF6\",\"width\":0.5},\"pattern\":{\"fillmode\":\"overlay\",\"size\":10,\"solidity\":0.2}},\"type\":\"barpolar\"}],\"pie\":[{\"automargin\":true,\"type\":\"pie\"}]},\"layout\":{\"autotypenumbers\":\"strict\",\"colorway\":[\"#636efa\",\"#EF553B\",\"#00cc96\",\"#ab63fa\",\"#FFA15A\",\"#19d3f3\",\"#FF6692\",\"#B6E880\",\"#FF97FF\",\"#FECB52\"],\"font\":{\"color\":\"#2a3f5f\"},\"hovermode\":\"closest\",\"hoverlabel\":{\"align\":\"left\"},\"paper_bgcolor\":\"white\",\"plot_bgcolor\":\"#E5ECF6\",\"polar\":{\"bgcolor\":\"#E5ECF6\",\"angularaxis\":{\"gridcolor\":\"white\",\"linecolor\":\"white\",\"ticks\":\"\"},\"radialaxis\":{\"gridcolor\":\"white\",\"linecolor\":\"white\",\"ticks\":\"\"}},\"ternary\":{\"bgcolor\":\"#E5ECF6\",\"aaxis\":{\"gridcolor\":\"white\",\"linecolor\":\"white\",\"ticks\":\"\"},\"baxis\":{\"gridcolor\":\"white\",\"linecolor\":\"white\",\"ticks\":\"\"},\"caxis\":{\"gridcolor\":\"white\",\"linecolor\":\"white\",\"ticks\":\"\"}},\"coloraxis\":{\"colorbar\":{\"outlinewidth\":0,\"ticks\":\"\"}},\"colorscale\":{\"sequential\":[[0.0,\"#0d0887\"],[0.1111111111111111,\"#46039f\"],[0.2222222222222222,\"#7201a8\"],[0.3333333333333333,\"#9c179e\"],[0.4444444444444444,\"#bd3786\"],[0.5555555555555556,\"#d8576b\"],[0.6666666666666666,\"#ed7953\"],[0.7777777777777778,\"#fb9f3a\"],[0.8888888888888888,\"#fdca26\"],[1.0,\"#f0f921\"]],\"sequentialminus\":[[0.0,\"#0d0887\"],[0.1111111111111111,\"#46039f\"],[0.2222222222222222,\"#7201a8\"],[0.3333333333333333,\"#9c179e\"],[0.4444444444444444,\"#bd3786\"],[0.5555555555555556,\"#d8576b\"],[0.6666666666666666,\"#ed7953\"],[0.7777777777777778,\"#fb9f3a\"],[0.8888888888888888,\"#fdca26\"],[1.0,\"#f0f921\"]],\"diverging\":[[0,\"#8e0152\"],[0.1,\"#c51b7d\"],[0.2,\"#de77ae\"],[0.3,\"#f1b6da\"],[0.4,\"#fde0ef\"],[0.5,\"#f7f7f7\"],[0.6,\"#e6f5d0\"],[0.7,\"#b8e186\"],[0.8,\"#7fbc41\"],[0.9,\"#4d9221\"],[1,\"#276419\"]]},\"xaxis\":{\"gridcolor\":\"white\",\"linecolor\":\"white\",\"ticks\":\"\",\"title\":{\"standoff\":15},\"zerolinecolor\":\"white\",\"automargin\":true,\"zerolinewidth\":2},\"yaxis\":{\"gridcolor\":\"white\",\"linecolor\":\"white\",\"ticks\":\"\",\"title\":{\"standoff\":15},\"zerolinecolor\":\"white\",\"automargin\":true,\"zerolinewidth\":2},\"scene\":{\"xaxis\":{\"backgroundcolor\":\"#E5ECF6\",\"gridcolor\":\"white\",\"linecolor\":\"white\",\"showbackground\":true,\"ticks\":\"\",\"zerolinecolor\":\"white\",\"gridwidth\":2},\"yaxis\":{\"backgroundcolor\":\"#E5ECF6\",\"gridcolor\":\"white\",\"linecolor\":\"white\",\"showbackground\":true,\"ticks\":\"\",\"zerolinecolor\":\"white\",\"gridwidth\":2},\"zaxis\":{\"backgroundcolor\":\"#E5ECF6\",\"gridcolor\":\"white\",\"linecolor\":\"white\",\"showbackground\":true,\"ticks\":\"\",\"zerolinecolor\":\"white\",\"gridwidth\":2}},\"shapedefaults\":{\"line\":{\"color\":\"#2a3f5f\"}},\"annotationdefaults\":{\"arrowcolor\":\"#2a3f5f\",\"arrowhead\":0,\"arrowwidth\":1},\"geo\":{\"bgcolor\":\"white\",\"landcolor\":\"#E5ECF6\",\"subunitcolor\":\"white\",\"showland\":true,\"showlakes\":true,\"lakecolor\":\"white\"},\"title\":{\"x\":0.05},\"mapbox\":{\"style\":\"light\"}}},\"xaxis\":{\"anchor\":\"y\",\"domain\":[0.0,1.0],\"title\":{\"text\":\"Age\"}},\"yaxis\":{\"anchor\":\"x\",\"domain\":[0.0,1.0],\"title\":{\"text\":\"Risk\"},\"categoryorder\":\"array\",\"categoryarray\":[\"Intermediate\",\"Low\"]},\"legend\":{\"title\":{\"text\":\"Risk\"},\"tracegroupgap\":0},\"title\":{\"text\":\"Relation entre l'\\u00e2ge et le risque de la thyro\\u00efde\"}},                        {\"responsive\": true}                    ).then(function(){\n",
       "                            \n",
       "var gd = document.getElementById('6992811c-5f70-420d-b3c2-864304abb70d');\n",
       "var x = new MutationObserver(function (mutations, observer) {{\n",
       "        var display = window.getComputedStyle(gd).display;\n",
       "        if (!display || display === 'none') {{\n",
       "            console.log([gd, 'removed!']);\n",
       "            Plotly.purge(gd);\n",
       "            observer.disconnect();\n",
       "        }}\n",
       "}});\n",
       "\n",
       "// Listen for the removal of the full notebook cells\n",
       "var notebookContainer = gd.closest('#notebook-container');\n",
       "if (notebookContainer) {{\n",
       "    x.observe(notebookContainer, {childList: true});\n",
       "}}\n",
       "\n",
       "// Listen for the clearing of the current output cell\n",
       "var outputEl = gd.closest('.output');\n",
       "if (outputEl) {{\n",
       "    x.observe(outputEl, {childList: true});\n",
       "}}\n",
       "\n",
       "                        })                };                });            </script>        </div>"
      ]
     },
     "metadata": {},
     "output_type": "display_data"
    }
   ],
   "source": [
    "import plotly.express as px\n",
    "from elasticsearch import Elasticsearch\n",
    "\n",
    "# Connexion à Elasticsearch\n",
    "es = Elasticsearch(\"http://localhost:9200\")\n",
    "\n",
    "# Effectuer une recherche pour obtenir les données nécessaires\n",
    "response = es.search(index=\"thyroid_risk\", body={\n",
    "    \"_source\": [\"Age\", \"Risk\"],  # Sélectionner les champs nécessaires\n",
    "    \"size\": 100  # Limiter à 100 documents\n",
    "})\n",
    "\n",
    "# Extraire les données de la réponse\n",
    "data = [{\"Age\": hit[\"_source\"][\"Age\"], \"Risk\": hit[\"_source\"][\"Risk\"]} for hit in response['hits']['hits']]\n",
    "\n",
    "# Convertir les données en DataFrame (facultatif si vous souhaitez plus de flexibilité)\n",
    "import pandas as pd\n",
    "df = pd.DataFrame(data)\n",
    "\n",
    "# Créer une visualisation avec Plotly\n",
    "fig = px.scatter(df, x=\"Age\", y=\"Risk\", color=\"Risk\", title=\"Relation entre l'âge et le risque de la thyroïde\")\n",
    "\n",
    "# Afficher le graphique\n",
    "fig.show()\n"
   ]
  },
  {
   "cell_type": "code",
   "execution_count": 67,
   "id": "1905cf66-eb41-4a34-a89f-15b1b27f7b90",
   "metadata": {},
   "outputs": [
    {
     "name": "stdout",
     "output_type": "stream",
     "text": [
      "Requirement already satisfied: plotly in c:\\users\\jawaher\\pycharmprojects\\projectbigdata\\venv\\lib\\site-packages (5.24.1)\n",
      "Requirement already satisfied: pandas in c:\\users\\jawaher\\pycharmprojects\\projectbigdata\\venv\\lib\\site-packages (2.2.3)\n",
      "Requirement already satisfied: tenacity>=6.2.0 in c:\\users\\jawaher\\pycharmprojects\\projectbigdata\\venv\\lib\\site-packages (from plotly) (9.0.0)\n",
      "Requirement already satisfied: packaging in c:\\users\\jawaher\\pycharmprojects\\projectbigdata\\venv\\lib\\site-packages (from plotly) (24.2)\n",
      "Requirement already satisfied: numpy>=1.22.4 in c:\\users\\jawaher\\pycharmprojects\\projectbigdata\\venv\\lib\\site-packages (from pandas) (2.0.2)\n",
      "Requirement already satisfied: python-dateutil>=2.8.2 in c:\\users\\jawaher\\pycharmprojects\\projectbigdata\\venv\\lib\\site-packages (from pandas) (2.9.0.post0)\n",
      "Requirement already satisfied: pytz>=2020.1 in c:\\users\\jawaher\\pycharmprojects\\projectbigdata\\venv\\lib\\site-packages (from pandas) (2024.2)\n",
      "Requirement already satisfied: tzdata>=2022.7 in c:\\users\\jawaher\\pycharmprojects\\projectbigdata\\venv\\lib\\site-packages (from pandas) (2024.2)\n",
      "Requirement already satisfied: six>=1.5 in c:\\users\\jawaher\\pycharmprojects\\projectbigdata\\venv\\lib\\site-packages (from python-dateutil>=2.8.2->pandas) (1.16.0)\n",
      "Note: you may need to restart the kernel to use updated packages.\n"
     ]
    },
    {
     "name": "stderr",
     "output_type": "stream",
     "text": [
      "\n",
      "[notice] A new release of pip is available: 23.2.1 -> 24.3.1\n",
      "[notice] To update, run: python.exe -m pip install --upgrade pip\n"
     ]
    }
   ],
   "source": [
    "pip install plotly pandas\n"
   ]
  },
  {
   "cell_type": "code",
   "execution_count": 68,
   "id": "48e999f7-0aeb-4581-a3ec-6790f719fff9",
   "metadata": {},
   "outputs": [],
   "source": [
    "fig.show(renderer=\"browser\")\n"
   ]
  },
  {
   "cell_type": "code",
   "execution_count": null,
   "id": "08548768-3c11-4550-aaef-f56e32310d45",
   "metadata": {},
   "outputs": [],
   "source": []
  }
 ],
 "metadata": {
  "kernelspec": {
   "display_name": "Python 3 (ipykernel)",
   "language": "python",
   "name": "python3"
  },
  "language_info": {
   "codemirror_mode": {
    "name": "ipython",
    "version": 3
   },
   "file_extension": ".py",
   "mimetype": "text/x-python",
   "name": "python",
   "nbconvert_exporter": "python",
   "pygments_lexer": "ipython3",
   "version": "3.9.0"
  }
 },
 "nbformat": 4,
 "nbformat_minor": 5
}
